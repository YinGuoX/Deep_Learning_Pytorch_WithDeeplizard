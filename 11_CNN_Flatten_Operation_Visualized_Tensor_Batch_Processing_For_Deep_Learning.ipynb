{
  "nbformat": 4,
  "nbformat_minor": 0,
  "metadata": {
    "colab": {
      "name": "11_CNN Flatten Operation Visualized - Tensor Batch Processing For Deep Learning.ipynb",
      "provenance": [],
      "collapsed_sections": [],
      "authorship_tag": "ABX9TyNdxSykNP6mayd//3jj4zOQ",
      "include_colab_link": true
    },
    "kernelspec": {
      "name": "python3",
      "display_name": "Python 3"
    },
    "language_info": {
      "name": "python"
    }
  },
  "cells": [
    {
      "cell_type": "markdown",
      "metadata": {
        "id": "view-in-github",
        "colab_type": "text"
      },
      "source": [
        "<a href=\"https://colab.research.google.com/github/YinGuoX/Deep_Learning_Pytorch_WithDeeplizard/blob/master/11_CNN_Flatten_Operation_Visualized_Tensor_Batch_Processing_For_Deep_Learning.ipynb\" target=\"_parent\"><img src=\"https://colab.research.google.com/assets/colab-badge.svg\" alt=\"Open In Colab\"/></a>"
      ]
    },
    {
      "cell_type": "markdown",
      "metadata": {
        "id": "fOp7sYOPYPGa"
      },
      "source": [
        "# Flatten Operation For A Batch Of Image Inputs To A CNN\n",
        "\n",
        "在本文中，我们将可视化单个灰度图像的张量展平操作，并且我们将展示如何展平特定的张量轴，这是CNN经常需要的，因为我们处理的是与单个输入相对的成批输入。\n",
        "\n",
        "## 1.Flattening 整个Tensor\n",
        "张量展平运算是卷积神经网络中的一种常见运算。这是因为传递到完全连接层的卷积层输出必须在完全连接层接受输入之前平坦化。\n",
        "\n",
        "在过去的文章中，我们学习了张量的形状，然后学习了重塑操作。展平操作是一种特定类型的整形操作，其中所有轴被挤压或挤压在一起。\n",
        "\n",
        "要展平张量，我们至少要有两个轴。这使得我们从一个还没有平坦的东西开始。现在让我们看一下MNIST数据集中一个8的手写图像。这张图片有两个不同的尺寸，高度和宽度。\n",
        "\n",
        "高度和宽度分别为18 x 18。 这些尺寸告诉我们这是裁剪的图像，因为MNIST数据集包含28 x 28图像。 现在让我们看看如何将这两个高度和宽度轴展平为长度为324的单个轴.\n",
        "\n",
        "[上图](https://deeplizard.com/learn/video/mFAIBMbACMA)显示了我们的平坦输出，其单轴长度为324。边缘上的白色对应于图像顶部和底部的白色。\n",
        "\n",
        "在此示例中，我们将展平整个张量图像，但是如果我们只想展平张量内的特定轴怎么办？ 使用CNN时通常需要这样做。\n",
        "\n",
        "让我们看看如何使用PyTorch展平代码中的张量的特定轴。\n",
        "\n",
        "## 2. Flattening Tensor特殊的轴\n",
        "\n"
      ]
    },
    {
      "cell_type": "code",
      "metadata": {
        "id": "xEI9TgPhXG16"
      },
      "source": [
        "import torch"
      ],
      "execution_count": null,
      "outputs": []
    },
    {
      "cell_type": "code",
      "metadata": {
        "id": "1P0F_ZvoZfz6"
      },
      "source": [
        "t1 = torch.tensor([\n",
        "    [1,1,1,1],\n",
        "    [1,1,1,1],\n",
        "    [1,1,1,1],\n",
        "    [1,1,1,1]\n",
        "])\n",
        "\n",
        "t2 = torch.tensor([\n",
        "    [2,2,2,2],\n",
        "    [2,2,2,2],\n",
        "    [2,2,2,2],\n",
        "    [2,2,2,2]\n",
        "])\n",
        "\n",
        "t3 = torch.tensor([\n",
        "    [3,3,3,3],\n",
        "    [3,3,3,3],\n",
        "    [3,3,3,3],\n",
        "    [3,3,3,3]\n",
        "])"
      ],
      "execution_count": null,
      "outputs": []
    },
    {
      "cell_type": "markdown",
      "metadata": {
        "id": "4lLNWkzyZsX6"
      },
      "source": [
        "我们使用stack（）方法将三个张量的序列沿着新轴连接起来。 由于我们沿新轴有三个张量，因此我们知道该轴的长度应为3，实际上，我们可以在形状中看到具有3个高度和宽度为4的张量。"
      ]
    },
    {
      "cell_type": "code",
      "metadata": {
        "colab": {
          "base_uri": "https://localhost:8080/"
        },
        "id": "sz9_e2YTZriD",
        "outputId": "c0c1ec3c-944b-4211-9911-d0b3f91399b8"
      },
      "source": [
        "t = torch.stack((t1,t2,t3))\n",
        "t.shape"
      ],
      "execution_count": null,
      "outputs": [
        {
          "output_type": "execute_result",
          "data": {
            "text/plain": [
              "torch.Size([3, 4, 4])"
            ]
          },
          "metadata": {
            "tags": []
          },
          "execution_count": 3
        }
      ]
    },
    {
      "cell_type": "markdown",
      "metadata": {
        "id": "URQvkhmpZ6ni"
      },
      "source": [
        "长度为3的轴表示批次大小，长度为4的轴分别表示高度和宽度。 这是此张量的批处理表示的输出结果。"
      ]
    },
    {
      "cell_type": "code",
      "metadata": {
        "colab": {
          "base_uri": "https://localhost:8080/"
        },
        "id": "N9YpA9R0ZxmD",
        "outputId": "8deabef2-5524-4d06-9a33-66170033bb1e"
      },
      "source": [
        "t"
      ],
      "execution_count": null,
      "outputs": [
        {
          "output_type": "execute_result",
          "data": {
            "text/plain": [
              "tensor([[[1, 1, 1, 1],\n",
              "         [1, 1, 1, 1],\n",
              "         [1, 1, 1, 1],\n",
              "         [1, 1, 1, 1]],\n",
              "\n",
              "        [[2, 2, 2, 2],\n",
              "         [2, 2, 2, 2],\n",
              "         [2, 2, 2, 2],\n",
              "         [2, 2, 2, 2]],\n",
              "\n",
              "        [[3, 3, 3, 3],\n",
              "         [3, 3, 3, 3],\n",
              "         [3, 3, 3, 3],\n",
              "         [3, 3, 3, 3]]])"
            ]
          },
          "metadata": {
            "tags": []
          },
          "execution_count": 4
        }
      ]
    },
    {
      "cell_type": "markdown",
      "metadata": {
        "id": "nG80OHcaaCyC"
      },
      "source": [
        "在这一点上，我们有一个rank-3张量，其中包含一批三个4 x 4图像。 现在要做的就是使该张量成为CNN期望的形式，就是为颜色通道添加一个轴。 对于这些图像张量，我们基本上都有一个隐式的单色通道，因此在实践中，它们将是灰度图像。\n",
        "\n",
        "CNN期望看到一个显式的颜色通道轴，因此让我们通过重塑该张量来添加一个。"
      ]
    },
    {
      "cell_type": "code",
      "metadata": {
        "colab": {
          "base_uri": "https://localhost:8080/"
        },
        "id": "yG0gQj43Z8qS",
        "outputId": "0d5aa5c5-624c-4934-b376-ae6876c83e2f"
      },
      "source": [
        "t = t.reshape(3,1,4,4)\n",
        "t"
      ],
      "execution_count": null,
      "outputs": [
        {
          "output_type": "execute_result",
          "data": {
            "text/plain": [
              "tensor([[[[1, 1, 1, 1],\n",
              "          [1, 1, 1, 1],\n",
              "          [1, 1, 1, 1],\n",
              "          [1, 1, 1, 1]]],\n",
              "\n",
              "\n",
              "        [[[2, 2, 2, 2],\n",
              "          [2, 2, 2, 2],\n",
              "          [2, 2, 2, 2],\n",
              "          [2, 2, 2, 2]]],\n",
              "\n",
              "\n",
              "        [[[3, 3, 3, 3],\n",
              "          [3, 3, 3, 3],\n",
              "          [3, 3, 3, 3],\n",
              "          [3, 3, 3, 3]]]])"
            ]
          },
          "metadata": {
            "tags": []
          },
          "execution_count": 5
        }
      ]
    },
    {
      "cell_type": "markdown",
      "metadata": {
        "id": "5ZGANCh7ad3J"
      },
      "source": [
        "注意我们是如何在批量大小轴后面指定长度为1的轴的。然后，我们跟随的高度和宽度轴长度4。另外，注意长度为1的附加轴如何不改变张量中的元素数。这是因为当我们乘以1时，组件值的乘积不会改变。\n",
        "\n",
        "第一个轴有3个元素。第一个轴的每个元素代表一个图像。对于每个图像，我们在通道轴上有一个单一的颜色通道。每个通道包含4个数组或标量组件。\n",
        "\n",
        "让我们通过对这个张量进行索引来查看代码。\n",
        "\n",
        "我们有了第一张图片。"
      ]
    },
    {
      "cell_type": "code",
      "metadata": {
        "colab": {
          "base_uri": "https://localhost:8080/"
        },
        "id": "3BJ3mg4-aP8j",
        "outputId": "8949f19f-e897-4c8a-8ecf-73c5664520ff"
      },
      "source": [
        "t[0]"
      ],
      "execution_count": null,
      "outputs": [
        {
          "output_type": "execute_result",
          "data": {
            "text/plain": [
              "tensor([[[1, 1, 1, 1],\n",
              "         [1, 1, 1, 1],\n",
              "         [1, 1, 1, 1],\n",
              "         [1, 1, 1, 1]]])"
            ]
          },
          "metadata": {
            "tags": []
          },
          "execution_count": 6
        }
      ]
    },
    {
      "cell_type": "code",
      "metadata": {
        "colab": {
          "base_uri": "https://localhost:8080/"
        },
        "id": "DHJ2XxfWakCg",
        "outputId": "28837b65-cdd0-480e-e51f-10a221abf492"
      },
      "source": [
        "# 我们在第一个图像中有第一个颜色通道\n",
        "t[0][0]"
      ],
      "execution_count": null,
      "outputs": [
        {
          "output_type": "execute_result",
          "data": {
            "text/plain": [
              "tensor([[1, 1, 1, 1],\n",
              "        [1, 1, 1, 1],\n",
              "        [1, 1, 1, 1],\n",
              "        [1, 1, 1, 1]])"
            ]
          },
          "metadata": {
            "tags": []
          },
          "execution_count": 7
        }
      ]
    },
    {
      "cell_type": "code",
      "metadata": {
        "colab": {
          "base_uri": "https://localhost:8080/"
        },
        "id": "hRDRwpo7afjD",
        "outputId": "3271fcec-6a48-497d-99fa-6e15f1d7c945"
      },
      "source": [
        "# 我们在第一张图片的第一色通道中拥有第一行像素。\n",
        "t[0][0][0]"
      ],
      "execution_count": null,
      "outputs": [
        {
          "output_type": "execute_result",
          "data": {
            "text/plain": [
              "tensor([1, 1, 1, 1])"
            ]
          },
          "metadata": {
            "tags": []
          },
          "execution_count": 8
        }
      ]
    },
    {
      "cell_type": "code",
      "metadata": {
        "colab": {
          "base_uri": "https://localhost:8080/"
        },
        "id": "GtvnNsheasoS",
        "outputId": "4d5b7b87-d18c-46a3-9f4a-00bd55d05328"
      },
      "source": [
        "# 我们在第一个图像的第一个颜色通道的第一行中拥有第一个像素值。\n",
        "t[0][0][0][0]"
      ],
      "execution_count": null,
      "outputs": [
        {
          "output_type": "execute_result",
          "data": {
            "text/plain": [
              "tensor(1)"
            ]
          },
          "metadata": {
            "tags": []
          },
          "execution_count": 10
        }
      ]
    },
    {
      "cell_type": "markdown",
      "metadata": {
        "id": "Ja4zVqYMa6fy"
      },
      "source": [
        "## 3.Flattening一批Tensor\n",
        "\n",
        "好吧。 让我们看看如何平整这批图像。 请记住，整个批次都是单个张量，该张量将传递给CNN，因此我们不想弄平整个事情。 我们只想在批处理张量内展平图像张量。\n",
        "\n",
        "让我们首先将整个过程弄平，只是看看它会是什么样子。 "
      ]
    },
    {
      "cell_type": "code",
      "metadata": {
        "colab": {
          "base_uri": "https://localhost:8080/"
        },
        "id": "e56ZYBDUayWU",
        "outputId": "71257f29-9a02-4349-e222-5ba07264ab07"
      },
      "source": [
        "t.reshape(1,-1).shape\n",
        "t.reshape(1,-1)[0]"
      ],
      "execution_count": null,
      "outputs": [
        {
          "output_type": "execute_result",
          "data": {
            "text/plain": [
              "tensor([1, 1, 1, 1, 1, 1, 1, 1, 1, 1, 1, 1, 1, 1, 1, 1, 2, 2, 2, 2, 2, 2, 2, 2,\n",
              "        2, 2, 2, 2, 2, 2, 2, 2, 3, 3, 3, 3, 3, 3, 3, 3, 3, 3, 3, 3, 3, 3, 3, 3])"
            ]
          },
          "metadata": {
            "tags": []
          },
          "execution_count": 12
        }
      ]
    },
    {
      "cell_type": "code",
      "metadata": {
        "colab": {
          "base_uri": "https://localhost:8080/"
        },
        "id": "-qecuYcIbaMy",
        "outputId": "ed2b3724-e349-4a89-b555-7a3367477c17"
      },
      "source": [
        "t.reshape(-1)"
      ],
      "execution_count": null,
      "outputs": [
        {
          "output_type": "execute_result",
          "data": {
            "text/plain": [
              "tensor([1, 1, 1, 1, 1, 1, 1, 1, 1, 1, 1, 1, 1, 1, 1, 1, 2, 2, 2, 2, 2, 2, 2, 2,\n",
              "        2, 2, 2, 2, 2, 2, 2, 2, 3, 3, 3, 3, 3, 3, 3, 3, 3, 3, 3, 3, 3, 3, 3, 3])"
            ]
          },
          "metadata": {
            "tags": []
          },
          "execution_count": 13
        }
      ]
    },
    {
      "cell_type": "code",
      "metadata": {
        "colab": {
          "base_uri": "https://localhost:8080/"
        },
        "id": "PTukp3-dbgTj",
        "outputId": "1aca9b50-0420-4f75-8ea7-15a29b49bcaa"
      },
      "source": [
        "t.view(t.numel())"
      ],
      "execution_count": null,
      "outputs": [
        {
          "output_type": "execute_result",
          "data": {
            "text/plain": [
              "tensor([1, 1, 1, 1, 1, 1, 1, 1, 1, 1, 1, 1, 1, 1, 1, 1, 2, 2, 2, 2, 2, 2, 2, 2,\n",
              "        2, 2, 2, 2, 2, 2, 2, 2, 3, 3, 3, 3, 3, 3, 3, 3, 3, 3, 3, 3, 3, 3, 3, 3])"
            ]
          },
          "metadata": {
            "tags": []
          },
          "execution_count": 14
        }
      ]
    },
    {
      "cell_type": "code",
      "metadata": {
        "colab": {
          "base_uri": "https://localhost:8080/"
        },
        "id": "tW-XHX7gbjni",
        "outputId": "59a72244-d610-4040-a59d-380c08c4ed7c"
      },
      "source": [
        "t.flatten()"
      ],
      "execution_count": null,
      "outputs": [
        {
          "output_type": "execute_result",
          "data": {
            "text/plain": [
              "tensor([1, 1, 1, 1, 1, 1, 1, 1, 1, 1, 1, 1, 1, 1, 1, 1, 2, 2, 2, 2, 2, 2, 2, 2,\n",
              "        2, 2, 2, 2, 2, 2, 2, 2, 3, 3, 3, 3, 3, 3, 3, 3, 3, 3, 3, 3, 3, 3, 3, 3])"
            ]
          },
          "metadata": {
            "tags": []
          },
          "execution_count": 15
        }
      ]
    },
    {
      "cell_type": "markdown",
      "metadata": {
        "id": "GOVgpYybb1Pi"
      },
      "source": [
        "在底部，您会注意到另一种内置的方法，它是张量对象的方法，您猜到了，叫做flatten（）。此方法产生的输出与其他替代方法完全相同。\n",
        "\n",
        "我想让你们注意到的是，我们已经把整批图像展平了，把所有的图像都粉碎成一个轴。记住1代表第一个图像的像素，2代表第二个图像的像素，3代表第三个图像的像素。\n",
        "\n",
        "这个扁平化的批处理在我们的CNN中不能很好地工作，因为我们需要对批处理张量中的每个图像进行单独的预测，现在我们有了一个扁平化的混乱。\n",
        "\n",
        "这里的解决方案是在保持批处理轴的同时展平每个图像。这意味着我们只想展平张量的一部分。我们要用高度和宽度轴展平颜色通道轴:也即是：\n",
        "* These axes need to be flattened: (C,H,W)\n",
        "* This can be done with PyTorch's built-in flatten() method.\n",
        "\n",
        "## 4.Flattening Tensor特殊的轴\n",
        "\n"
      ]
    },
    {
      "cell_type": "code",
      "metadata": {
        "colab": {
          "base_uri": "https://localhost:8080/"
        },
        "id": "uIF20mLhblUy",
        "outputId": "020d4d84-1650-4095-9bc8-b9334a829233"
      },
      "source": [
        "t.flatten(start_dim=1).shape"
      ],
      "execution_count": null,
      "outputs": [
        {
          "output_type": "execute_result",
          "data": {
            "text/plain": [
              "torch.Size([3, 16])"
            ]
          },
          "metadata": {
            "tags": []
          },
          "execution_count": 16
        }
      ]
    },
    {
      "cell_type": "code",
      "metadata": {
        "colab": {
          "base_uri": "https://localhost:8080/"
        },
        "id": "gDIhqdzVcYxi",
        "outputId": "8f332252-d1e2-46f9-9be3-790da165e0cc"
      },
      "source": [
        "t.flatten(start_dim=1)"
      ],
      "execution_count": null,
      "outputs": [
        {
          "output_type": "execute_result",
          "data": {
            "text/plain": [
              "tensor([[1, 1, 1, 1, 1, 1, 1, 1, 1, 1, 1, 1, 1, 1, 1, 1],\n",
              "        [2, 2, 2, 2, 2, 2, 2, 2, 2, 2, 2, 2, 2, 2, 2, 2],\n",
              "        [3, 3, 3, 3, 3, 3, 3, 3, 3, 3, 3, 3, 3, 3, 3, 3]])"
            ]
          },
          "metadata": {
            "tags": []
          },
          "execution_count": 17
        }
      ]
    },
    {
      "cell_type": "markdown",
      "metadata": {
        "id": "IHWIhg8WcmXB"
      },
      "source": [
        "请注意在调用中如何指定 start _ dim 参数。这告诉 flatten ()方法应该启动哪个轴的 flatten 操作。这里的是一个索引，所以它是第二个轴，也就是颜色通道轴。可以说，我们跳过了批处理轴，使它保持完整。\n",
        "\n",
        "检查形状，我们可以看到，我们有一个秩 -2张量与三个单色通道图像，已被压平为16个像素。"
      ]
    },
    {
      "cell_type": "markdown",
      "metadata": {
        "id": "9prtpkW-cqRS"
      },
      "source": [
        "## Flattening RGB图片\n",
        "\n",
        "如果我们将RGB图像展平，那么颜色会怎样？\n",
        "\n",
        "颜色通道会怎样？\n",
        "\n",
        "每个颜色通道将首先被展平。 然后，扁平通道将在张量的单个轴上并排排列。 让我们来看一个代码示例。\n",
        "\n",
        "我们将构建一个示例RGB图像张量，高度为2，宽度为2。"
      ]
    },
    {
      "cell_type": "code",
      "metadata": {
        "id": "UoRI1h6lcbYS"
      },
      "source": [
        "r = torch.ones(1,2,2)\n",
        "g = torch.ones(1,2,2)+1\n",
        "b = torch.ones(1,2,2)+2"
      ],
      "execution_count": null,
      "outputs": []
    },
    {
      "cell_type": "code",
      "metadata": {
        "id": "uJL7btdnc_Di"
      },
      "source": [
        "img = torch.cat((r,g,b),dim=0)"
      ],
      "execution_count": null,
      "outputs": []
    },
    {
      "cell_type": "code",
      "metadata": {
        "colab": {
          "base_uri": "https://localhost:8080/"
        },
        "id": "Iv6AE8nndFI0",
        "outputId": "737b0378-bfdc-44ee-ab4c-f097925da0a4"
      },
      "source": [
        "img.size()"
      ],
      "execution_count": null,
      "outputs": [
        {
          "output_type": "execute_result",
          "data": {
            "text/plain": [
              "torch.Size([3, 2, 2])"
            ]
          },
          "metadata": {
            "tags": []
          },
          "execution_count": 26
        }
      ]
    },
    {
      "cell_type": "code",
      "metadata": {
        "colab": {
          "base_uri": "https://localhost:8080/"
        },
        "id": "27ZQP8QqdGgy",
        "outputId": "7d8cc3dc-4a68-41d9-fe23-31c9fe46495a"
      },
      "source": [
        "img"
      ],
      "execution_count": null,
      "outputs": [
        {
          "output_type": "execute_result",
          "data": {
            "text/plain": [
              "tensor([[[1., 1.],\n",
              "         [1., 1.]],\n",
              "\n",
              "        [[2., 2.],\n",
              "         [2., 2.]],\n",
              "\n",
              "        [[3., 3.],\n",
              "         [3., 3.]]])"
            ]
          },
          "metadata": {
            "tags": []
          },
          "execution_count": 27
        }
      ]
    },
    {
      "cell_type": "markdown",
      "metadata": {
        "id": "0HCWwP9adXzx"
      },
      "source": [
        "现在，我们可以通过展平像张量看到它的样子。"
      ]
    },
    {
      "cell_type": "code",
      "metadata": {
        "colab": {
          "base_uri": "https://localhost:8080/"
        },
        "id": "JEAvHfRQdSUy",
        "outputId": "8f6a8e04-054d-4df8-babc-030f85306331"
      },
      "source": [
        "img.flatten(start_dim=0)"
      ],
      "execution_count": null,
      "outputs": [
        {
          "output_type": "execute_result",
          "data": {
            "text/plain": [
              "tensor([1., 1., 1., 1., 2., 2., 2., 2., 3., 3., 3., 3.])"
            ]
          },
          "metadata": {
            "tags": []
          },
          "execution_count": 28
        }
      ]
    },
    {
      "cell_type": "markdown",
      "metadata": {
        "id": "nz5E0x9pdjIY"
      },
      "source": [
        "请注意，此处的start_dim参数告诉flatten（）方法从何处开始展平。 在这种情况下，我们将使整个图像变平。 但是，我们也可以像这样只展平通道："
      ]
    },
    {
      "cell_type": "code",
      "metadata": {
        "colab": {
          "base_uri": "https://localhost:8080/"
        },
        "id": "ZNMI12D0dcOj",
        "outputId": "c6bece10-eb95-4149-b896-9150b36986f1"
      },
      "source": [
        "img.flatten(start_dim=1)"
      ],
      "execution_count": null,
      "outputs": [
        {
          "output_type": "execute_result",
          "data": {
            "text/plain": [
              "tensor([[1., 1., 1., 1.],\n",
              "        [2., 2., 2., 2.],\n",
              "        [3., 3., 3., 3.]])"
            ]
          },
          "metadata": {
            "tags": []
          },
          "execution_count": 29
        }
      ]
    },
    {
      "cell_type": "markdown",
      "metadata": {
        "id": "d94R6c3LdskZ"
      },
      "source": [
        "现在，我们应该对张量的展平操作有了一个很好的了解。 我们知道如何展平整个张量，我们知道如何展平特定的张量尺寸/轴。 我们将在构建CNN时看到将其投入使用。"
      ]
    },
    {
      "cell_type": "code",
      "metadata": {
        "id": "kSr8oAaDdmgy"
      },
      "source": [
        ""
      ],
      "execution_count": null,
      "outputs": []
    }
  ]
}
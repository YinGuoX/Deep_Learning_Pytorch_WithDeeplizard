{
  "nbformat": 4,
  "nbformat_minor": 0,
  "metadata": {
    "colab": {
      "name": "32_Training Loop Run Builder - Neural Network Experimentation Code.ipynb",
      "provenance": [],
      "collapsed_sections": [],
      "authorship_tag": "ABX9TyN0asAc1wH6D4r3QY/HUwfy",
      "include_colab_link": true
    },
    "kernelspec": {
      "name": "python3",
      "display_name": "Python 3"
    },
    "language_info": {
      "name": "python"
    }
  },
  "cells": [
    {
      "cell_type": "markdown",
      "metadata": {
        "id": "view-in-github",
        "colab_type": "text"
      },
      "source": [
        "<a href=\"https://colab.research.google.com/github/YinGuoX/Deep_Learning_Pytorch_WithDeeplizard/blob/master/32_Training_Loop_Run_Builder_Neural_Network_Experimentation_Code.ipynb\" target=\"_parent\"><img src=\"https://colab.research.google.com/assets/colab-badge.svg\" alt=\"Open In Colab\"/></a>"
      ]
    },
    {
      "cell_type": "markdown",
      "metadata": {
        "id": "z2qKCAWFlCUd"
      },
      "source": [
        "# Training Loop Run Builder - Neural Network Experimentation\n",
        "在本集中，我们将编写一个RunBuilder类，该类将允许我们使用不同的参数生成多个运行。\n",
        "\n",
        "## 1.使用RunBuilder类\n",
        "\n",
        "本节以及本系列最后几节的目的是使自己处于能够有效地尝试我们构建的训练过程的位置。 因此，我们将扩展在超参数实验的情节中所涉及的内容。 我们将使那里看到的更加干净。\n",
        "\n",
        "我们将构建一个名为RunBuilder的类。 但是，在我们探讨如何构建类之前。 让我们看看它将允许我们做什么。 我们将从import开始。\n"
      ]
    },
    {
      "cell_type": "markdown",
      "metadata": {
        "id": "A4x5_fO7mLlk"
      },
      "source": [
        ""
      ]
    },
    {
      "cell_type": "code",
      "metadata": {
        "id": "tgMUgU79k_nQ"
      },
      "source": [
        "from collections import OrderedDict\n",
        "from collections import namedtuple\n",
        "from itertools import product"
      ],
      "execution_count": null,
      "outputs": []
    },
    {
      "cell_type": "markdown",
      "metadata": {
        "id": "OxNfQSCTmBpc"
      },
      "source": [
        "我们从集合中导入OrderedDict和namedtuple，并从itertools中导入一个名为product的函数。 这个product（）函数是我们上次看到的函数，它在给定多个列表输入的情况下计算笛卡尔乘积。\n",
        "\n",
        "好吧。 这是RunBuilder类，它将构建用于定义运行的参数集。 在看到如何使用它之后，我们将看到它的工作原理。"
      ]
    },
    {
      "cell_type": "code",
      "metadata": {
        "id": "pO0UbDA_lyHs"
      },
      "source": [
        "class RunBuilder():\n",
        "  @staticmethod\n",
        "  def get_runs(params):\n",
        "    Run = namedtuple(\"Run\",params.keys())\n",
        "\n",
        "    runs = []\n",
        "\n",
        "    for v in product(*params.values()):\n",
        "      runs.append(Run(*v))\n",
        "    \n",
        "    return runs"
      ],
      "execution_count": null,
      "outputs": []
    },
    {
      "cell_type": "markdown",
      "metadata": {
        "id": "h-AtqWwTmV2U"
      },
      "source": [
        "关于使用此类的主要注意事项是它具有一个称为get_runs（）的静态方法。 该方法将为我们提供基于传入参数构建的运行结果。\n",
        "\n",
        "现在定义一些参数。"
      ]
    },
    {
      "cell_type": "code",
      "metadata": {
        "id": "0liA1dsJmVL2"
      },
      "source": [
        "params = OrderedDict(\n",
        "    lr=[0.01,0.001],\n",
        "    batch_size = [1000,10000]\n",
        ")"
      ],
      "execution_count": null,
      "outputs": []
    },
    {
      "cell_type": "markdown",
      "metadata": {
        "id": "8vbPddSkmhfM"
      },
      "source": [
        "在这里，我们在字典中定义了一组参数和值。 我们有一组学习率和一组批次大小，我们想尝试一下。 当我们说“尝试”时，是指我们要针对字典中的每个学习率和每个批次大小进行一次训练。\n",
        "\n",
        "要获得这些运行，我们只需调用RunBuilder类的get_runs（）函数，并传入我们要使用的参数即可。"
      ]
    },
    {
      "cell_type": "code",
      "metadata": {
        "colab": {
          "base_uri": "https://localhost:8080/"
        },
        "id": "un7_mxW6mfp1",
        "outputId": "aa5a19ce-5659-4984-b6e7-8b7f81a1d54c"
      },
      "source": [
        "runs = RunBuilder.get_runs(params)\n",
        "runs"
      ],
      "execution_count": null,
      "outputs": [
        {
          "output_type": "execute_result",
          "data": {
            "text/plain": [
              "[Run(lr=0.01, batch_size=1000),\n",
              " Run(lr=0.01, batch_size=10000),\n",
              " Run(lr=0.001, batch_size=1000),\n",
              " Run(lr=0.001, batch_size=10000)]"
            ]
          },
          "metadata": {
            "tags": []
          },
          "execution_count": 7
        }
      ]
    },
    {
      "cell_type": "markdown",
      "metadata": {
        "id": "s7J6KGrUmu-D"
      },
      "source": [
        "很好，我们可以看到RunBuilder类已经构建并返回了四个运行的列表。 这些运行中的每一个都有学习率和定义运行的批处理大小。\n",
        "\n",
        "我们可以通过索引到列表来访问单个运行，如下所示："
      ]
    },
    {
      "cell_type": "code",
      "metadata": {
        "colab": {
          "base_uri": "https://localhost:8080/"
        },
        "id": "P2XsXWYSmow0",
        "outputId": "82d63799-d43f-4bc7-8ccc-a21e5a30b35f"
      },
      "source": [
        "run = runs[0]\n",
        "run"
      ],
      "execution_count": null,
      "outputs": [
        {
          "output_type": "execute_result",
          "data": {
            "text/plain": [
              "Run(lr=0.01, batch_size=1000)"
            ]
          },
          "metadata": {
            "tags": []
          },
          "execution_count": 9
        }
      ]
    },
    {
      "cell_type": "markdown",
      "metadata": {
        "id": "HBbPPZ6Em5N0"
      },
      "source": [
        "请注意run输出的字符串表示形式。这个字符串表示是由Run tuple类自动生成的，如果我们想将运行统计信息写入TensorBoard或任何其他可视化程序的磁盘，可以使用这个字符串唯一地标识运行。\n",
        "\n",
        "此外，因为run 是对象是一个具有命名属性的元组，所以我们可以使用点表示法访问值，如下所示："
      ]
    },
    {
      "cell_type": "code",
      "metadata": {
        "colab": {
          "base_uri": "https://localhost:8080/"
        },
        "id": "XEqQ-BtnmwBl",
        "outputId": "7c4c0f17-73a0-4cda-b92d-7b6f6fc1da9e"
      },
      "source": [
        "print(run.lr,run.batch_size)"
      ],
      "execution_count": null,
      "outputs": [
        {
          "output_type": "stream",
          "text": [
            "0.01 1000\n"
          ],
          "name": "stdout"
        }
      ]
    },
    {
      "cell_type": "markdown",
      "metadata": {
        "id": "UpAvfluQnDTz"
      },
      "source": [
        "最后，由于运行列表是一个Python iterable，我们可以像这样清晰地迭代运行："
      ]
    },
    {
      "cell_type": "code",
      "metadata": {
        "colab": {
          "base_uri": "https://localhost:8080/"
        },
        "id": "ygzEFioPm_UE",
        "outputId": "0bd10f38-00d3-484f-b89d-74bc5c0ad6c5"
      },
      "source": [
        "for run in runs:\n",
        "  print(run,run.lr,run.batch_size)"
      ],
      "execution_count": null,
      "outputs": [
        {
          "output_type": "stream",
          "text": [
            "Run(lr=0.01, batch_size=1000) 0.01 1000\n",
            "Run(lr=0.01, batch_size=10000) 0.01 10000\n",
            "Run(lr=0.001, batch_size=1000) 0.001 1000\n",
            "Run(lr=0.001, batch_size=10000) 0.001 10000\n"
          ],
          "name": "stdout"
        }
      ]
    },
    {
      "cell_type": "markdown",
      "metadata": {
        "id": "jeBd4uhonNGj"
      },
      "source": [
        "要添加其他值，我们要做的就是将它们添加到原始参数列表中，如果要添加其他类型的参数，我们要做的就是添加它。 新参数及其值将自动变为可在运行中使用。 运行的字符串输出也将更新。\n",
        "\n",
        "两个参数："
      ]
    },
    {
      "cell_type": "code",
      "metadata": {
        "id": "1aPdsYAxnHjl"
      },
      "source": [
        "params = OrderedDict(\n",
        "    lr = [.01, .001]\n",
        "    ,batch_size = [1000, 10000]\n",
        ")"
      ],
      "execution_count": null,
      "outputs": []
    },
    {
      "cell_type": "code",
      "metadata": {
        "colab": {
          "base_uri": "https://localhost:8080/"
        },
        "id": "lbrQ4q9HnQ6k",
        "outputId": "01685e23-5503-4700-a2b0-c77f426180c0"
      },
      "source": [
        "\n",
        "runs = RunBuilder.get_runs(params)\n",
        "runs"
      ],
      "execution_count": null,
      "outputs": [
        {
          "output_type": "execute_result",
          "data": {
            "text/plain": [
              "[Run(lr=0.01, batch_size=1000),\n",
              " Run(lr=0.01, batch_size=10000),\n",
              " Run(lr=0.001, batch_size=1000),\n",
              " Run(lr=0.001, batch_size=10000)]"
            ]
          },
          "metadata": {
            "tags": []
          },
          "execution_count": 15
        }
      ]
    },
    {
      "cell_type": "code",
      "metadata": {
        "id": "KHUuD5N9nSP0"
      },
      "source": [
        "params = OrderedDict(\n",
        "    lr = [.01, .001]\n",
        "    ,batch_size = [1000, 10000]\n",
        "    ,device = [\"cuda\", \"cpu\"]\n",
        ")"
      ],
      "execution_count": null,
      "outputs": []
    },
    {
      "cell_type": "code",
      "metadata": {
        "colab": {
          "base_uri": "https://localhost:8080/"
        },
        "id": "g-Nkm3UknUJk",
        "outputId": "3222077f-c931-4361-a2c3-8c991c5b67b3"
      },
      "source": [
        "\n",
        "runs = RunBuilder.get_runs(params)\n",
        "runs"
      ],
      "execution_count": null,
      "outputs": [
        {
          "output_type": "execute_result",
          "data": {
            "text/plain": [
              "[Run(lr=0.01, batch_size=1000, device='cuda'),\n",
              " Run(lr=0.01, batch_size=1000, device='cpu'),\n",
              " Run(lr=0.01, batch_size=10000, device='cuda'),\n",
              " Run(lr=0.01, batch_size=10000, device='cpu'),\n",
              " Run(lr=0.001, batch_size=1000, device='cuda'),\n",
              " Run(lr=0.001, batch_size=1000, device='cpu'),\n",
              " Run(lr=0.001, batch_size=10000, device='cuda'),\n",
              " Run(lr=0.001, batch_size=10000, device='cpu')]"
            ]
          },
          "metadata": {
            "tags": []
          },
          "execution_count": 17
        }
      ]
    },
    {
      "cell_type": "markdown",
      "metadata": {
        "id": "22qdT9AhnXf8"
      },
      "source": [
        "当我们在训练过程中尝试不同的值时，此功能将使我们能够更好地控制。\n",
        "\n",
        "让我们看看如何构建此RunBuilder类。"
      ]
    },
    {
      "cell_type": "markdown",
      "metadata": {
        "id": "xzp-5X51nacz"
      },
      "source": [
        "## 2.编码RunBuilder类\n",
        "我们首先需要的是一个字典的参数和值，我们想尝试\n"
      ]
    },
    {
      "cell_type": "code",
      "metadata": {
        "id": "TTKYiMGInVEU"
      },
      "source": [
        "params = OrderedDict(\n",
        "    lr = [.01, .001]\n",
        "    ,batch_size = [1000, 10000]\n",
        ")"
      ],
      "execution_count": null,
      "outputs": []
    },
    {
      "cell_type": "markdown",
      "metadata": {
        "id": "KX5eX6tZnipT"
      },
      "source": [
        "然后我们可以获得该字典的key和values"
      ]
    },
    {
      "cell_type": "code",
      "metadata": {
        "colab": {
          "base_uri": "https://localhost:8080/"
        },
        "id": "raDKukUzniEk",
        "outputId": "140d16ca-e7b9-4531-ed66-51f7a8fa5157"
      },
      "source": [
        "params.keys()"
      ],
      "execution_count": null,
      "outputs": [
        {
          "output_type": "execute_result",
          "data": {
            "text/plain": [
              "odict_keys(['lr', 'batch_size'])"
            ]
          },
          "metadata": {
            "tags": []
          },
          "execution_count": 21
        }
      ]
    },
    {
      "cell_type": "code",
      "metadata": {
        "colab": {
          "base_uri": "https://localhost:8080/"
        },
        "id": "IimjfOb4nurj",
        "outputId": "e500069a-3fb3-4259-e956-dd9c41978eba"
      },
      "source": [
        "params.values()"
      ],
      "execution_count": null,
      "outputs": [
        {
          "output_type": "execute_result",
          "data": {
            "text/plain": [
              "odict_values([[0.01, 0.001], [1000, 10000]])"
            ]
          },
          "metadata": {
            "tags": []
          },
          "execution_count": 23
        }
      ]
    },
    {
      "cell_type": "markdown",
      "metadata": {
        "id": "NIUICEu6nrGb"
      },
      "source": [
        "一旦拥有了这两者，我们只需通过检查它们的输出来确保我们对它们都有了解。 完成后，我们将使用这些键和值进行下一步操作。 我们将从键开始。"
      ]
    },
    {
      "cell_type": "code",
      "metadata": {
        "colab": {
          "base_uri": "https://localhost:8080/"
        },
        "id": "m4xCOH0JnpKl",
        "outputId": "5f27254f-9a78-4407-dd10-ac3bde266bd9"
      },
      "source": [
        "Run = namedtuple(\"Run\",params.keys())\n",
        "print(Run.batch_size)"
      ],
      "execution_count": null,
      "outputs": [
        {
          "output_type": "stream",
          "text": [
            "<property object at 0x7f7b02641f50>\n"
          ],
          "name": "stdout"
        }
      ]
    },
    {
      "cell_type": "markdown",
      "metadata": {
        "id": "8d5FudJpoBdF"
      },
      "source": [
        "该行创建了一个名为Run的新元组子类，该子类具有命名字段。 这个Run类用于封装每次运行的数据。 此类的字段名称由传递给构造函数的名称列表设置。 首先，我们传递类名。 然后，我们传递字段名，在本例中，我们传递字典中的键列表。\n",
        "\n",
        "现在我们有了一个用于运行的类，我们准备创建一些类。"
      ]
    },
    {
      "cell_type": "code",
      "metadata": {
        "id": "IENbOLODn5K1"
      },
      "source": [
        "runs = []\n",
        "\n",
        "for v in product(*params.values()):\n",
        "  runs.append(Run(*v))"
      ],
      "execution_count": null,
      "outputs": []
    },
    {
      "cell_type": "markdown",
      "metadata": {
        "id": "WLAzFYXoodR0"
      },
      "source": [
        "首先，我们创建一个名为runs的列表。然后，我们使用itertools中的product（）函数，使用字典中每个参数的值创建笛卡尔积。这为我们提供了一组定义运行的有序对。我们迭代这些过程，为每个运行添加一个运行到运行列表中。\n",
        "\n",
        "对于笛卡尔积中的每个值，我们都有一个有序元组。笛卡尔积给出了每一个有序对，所以我们有学习率和批量大小的所有可能的有序对。当我们将元组传递给Run构造函数时，我们使用*操作符告诉构造函数接受元组值作为参数，而不是元组本身。\n",
        "\n",
        "最后，我们将此代码包装到RunBuilder类中。"
      ]
    },
    {
      "cell_type": "code",
      "metadata": {
        "id": "wAAtGN-YoK_U"
      },
      "source": [
        "class RunBuilder():\n",
        "    @staticmethod\n",
        "    def get_runs(params):\n",
        "\n",
        "        Run = namedtuple('Run', params.keys())\n",
        "\n",
        "        runs = []\n",
        "        for v in product(*params.values()):\n",
        "          runs.append(Run(*v))\n",
        "        return runs"
      ],
      "execution_count": null,
      "outputs": []
    },
    {
      "cell_type": "markdown",
      "metadata": {
        "id": "WC2P0bryomkz"
      },
      "source": [
        "由于get_runs（）方法是静态的，因此我们可以使用类本身来调用它。 我们不需要该类的实例。\n",
        "\n",
        "现在，这使我们可以通过以下方式更新我们的培训代码：\n",
        "\n",
        "前：\n",
        "\n",
        "\n",
        "\n",
        "```\n",
        "for lr, batch_size, shuffle in product(*param_values):\n",
        "    comment = f' batch_size={batch_size} lr={lr} shuffle={shuffle}'\n",
        "\n",
        "    # Training process given the set of parameters\n",
        "```\n",
        "\n",
        "后：\n",
        "\n",
        "\n",
        "\n",
        "```\n",
        "for run in RunBuilder.get_runs(params):\n",
        "    comment = f'-{run}'\n",
        "\n",
        "    # Training process given the set of parameters\n",
        "```\n",
        "\n",
        "\n"
      ]
    },
    {
      "cell_type": "markdown",
      "metadata": {
        "id": "UNsO9Kifo4dr"
      },
      "source": [
        "## 3.解释什么是笛卡尔乘积？\n",
        "百度好吧\n",
        "\n",
        "\n",
        "代码实现"
      ]
    },
    {
      "cell_type": "code",
      "metadata": {
        "colab": {
          "base_uri": "https://localhost:8080/"
        },
        "id": "3eEfG3lEofnU",
        "outputId": "85cb9cbe-cf65-4955-bfad-62f22a685197"
      },
      "source": [
        "X = {1,2,3}\n",
        "Y = {1,2,3}\n",
        "\n",
        "{(x,y) for x in X for y in Y}"
      ],
      "execution_count": null,
      "outputs": [
        {
          "output_type": "execute_result",
          "data": {
            "text/plain": [
              "{(1, 1), (1, 2), (1, 3), (2, 1), (2, 2), (2, 3), (3, 1), (3, 2), (3, 3)}"
            ]
          },
          "metadata": {
            "tags": []
          },
          "execution_count": 33
        }
      ]
    },
    {
      "cell_type": "markdown",
      "metadata": {
        "id": "nyu06FeQpJPT"
      },
      "source": [
        "注意数学代码的功能。 它涵盖了所有情况。 也许您注意到，可以使用如下的for循环迭代来实现："
      ]
    },
    {
      "cell_type": "code",
      "metadata": {
        "colab": {
          "base_uri": "https://localhost:8080/"
        },
        "id": "RRKjL2J0opdU",
        "outputId": "dd4b4a0e-f907-4da3-8f03-d8df1067ddea"
      },
      "source": [
        "X = {1,2,3}\n",
        "Y = {5,6,7}\n",
        "\n",
        "cartesian_product =set()\n",
        "for x in X:\n",
        "  for y in Y:\n",
        "    cartesian_product.add((x,y))\n",
        "\n",
        "cartesian_product"
      ],
      "execution_count": null,
      "outputs": [
        {
          "output_type": "execute_result",
          "data": {
            "text/plain": [
              "{(1, 5), (1, 6), (1, 7), (2, 5), (2, 6), (2, 7), (3, 5), (3, 6), (3, 7)}"
            ]
          },
          "metadata": {
            "tags": []
          },
          "execution_count": 34
        }
      ]
    },
    {
      "cell_type": "markdown",
      "metadata": {
        "id": "xa63mSlRpX4z"
      },
      "source": [
        "好了，现在我们知道了它是如何工作的，并且可以继续使用它。"
      ]
    },
    {
      "cell_type": "code",
      "metadata": {
        "id": "L5PLvUEEpVXW"
      },
      "source": [
        ""
      ],
      "execution_count": null,
      "outputs": []
    }
  ]
}
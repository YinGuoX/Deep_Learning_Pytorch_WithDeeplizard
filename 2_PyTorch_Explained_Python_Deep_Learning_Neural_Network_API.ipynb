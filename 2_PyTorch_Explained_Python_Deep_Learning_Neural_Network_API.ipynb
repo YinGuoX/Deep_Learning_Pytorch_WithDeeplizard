{
  "nbformat": 4,
  "nbformat_minor": 0,
  "metadata": {
    "colab": {
      "name": "2_PyTorch Explained - Python Deep Learning Neural Network API.ipynb",
      "provenance": [],
      "collapsed_sections": [],
      "authorship_tag": "ABX9TyM3fBJYdDAedfqU2YI3EjgF",
      "include_colab_link": true
    },
    "kernelspec": {
      "name": "python3",
      "display_name": "Python 3"
    },
    "language_info": {
      "name": "python"
    }
  },
  "cells": [
    {
      "cell_type": "markdown",
      "metadata": {
        "id": "view-in-github",
        "colab_type": "text"
      },
      "source": [
        "<a href=\"https://colab.research.google.com/github/YinGuoX/Deep_Learning_Pytorch_WithDeeplizard/blob/master/2_PyTorch_Explained_Python_Deep_Learning_Neural_Network_API.ipynb\" target=\"_parent\"><img src=\"https://colab.research.google.com/assets/colab-badge.svg\" alt=\"Open In Colab\"/></a>"
      ]
    },
    {
      "cell_type": "markdown",
      "metadata": {
        "id": "PITHdYCSMnhy"
      },
      "source": [
        "# PyTorch - Python Deep Learning Neural Network API\n",
        "## 1. Pytorch的历史\n",
        "PyTorch的最初版本是在2016年10月，在创建PyTorch之前，曾经有并且仍然是另一个名为Torch的框架。 Torch是一个基于Lua编程语言的机器学习框架，已经存在了很长一段时间。\n",
        "之所以存在PyTorch和此Lua版本（称为Torch）之间的联系，是因为维护Lua版本的许多开发人员都是创建PyTorch的个人。\n",
        "\n",
        "\n",
        "Soumith Chintala以引导PyTorch项目而闻名，他创建PyTorch的理由非常简单，Torch的Lua版本已经老化，因此需要使用Python编写的较新版本。 因此Pytorch便诞生了\n",
        "\n",
        "又因为Soumith Chintala在FaceBook的AI研究所工作，因此也可以说是Facebook创建了Pytorch\n",
        "\n",
        "## 2. Pytorc在深度学习的特性\n",
        "\n",
        "以下是我们将要学习和使用的Pytorch的主要组件：\n",
        "* torch：顶层PyTorch包和tensor库。\n",
        "* torch.nn：包含用于构建神经网络的模块和可扩展类的子包。\n",
        "* torch.autograd：支持PyTorch中所有可微张量运算的子包\n",
        "* toch.nn.functional：一个函数接口，包含用于建立神经网络的典型操作，如损失函数、激活函数和卷积运算。\n",
        "* torch.optim：包含标准优化操作（如SGD和Adam）的子包。\n",
        "* torch.utils：包含数据集和数据加载器等实用工具类的包，使数据预处理更加容易。\n",
        "* torchvision：为计算机视觉提供对流行数据集、模型体系结构和图像转换的访问的包。\n",
        "\n",
        "## 3. 为什么使用Pytorch?\n",
        "* Pytorch is thin and stays out of the way!\n",
        "* Pytorch is as close as it gets to the real thing!"
      ]
    },
    {
      "cell_type": "code",
      "metadata": {
        "id": "FShOobsNMND6"
      },
      "source": [
        ""
      ],
      "execution_count": null,
      "outputs": []
    }
  ]
}
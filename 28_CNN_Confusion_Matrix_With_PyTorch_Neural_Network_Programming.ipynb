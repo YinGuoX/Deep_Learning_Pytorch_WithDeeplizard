{
  "nbformat": 4,
  "nbformat_minor": 0,
  "metadata": {
    "colab": {
      "name": "28_CNN Confusion Matrix With PyTorch - Neural Network Programming.ipynb",
      "provenance": [],
      "collapsed_sections": [],
      "authorship_tag": "ABX9TyNRBIoJtrzA/tDbhN8YWwPy",
      "include_colab_link": true
    },
    "kernelspec": {
      "name": "python3",
      "display_name": "Python 3"
    },
    "language_info": {
      "name": "python"
    },
    "widgets": {
      "application/vnd.jupyter.widget-state+json": {
        "374199de7d7c47b0b484ee596b670eb5": {
          "model_module": "@jupyter-widgets/controls",
          "model_name": "HBoxModel",
          "state": {
            "_view_name": "HBoxView",
            "_dom_classes": [],
            "_model_name": "HBoxModel",
            "_view_module": "@jupyter-widgets/controls",
            "_model_module_version": "1.5.0",
            "_view_count": null,
            "_view_module_version": "1.5.0",
            "box_style": "",
            "layout": "IPY_MODEL_5c304bc228e94519a904ac2ff7ebc28c",
            "_model_module": "@jupyter-widgets/controls",
            "children": [
              "IPY_MODEL_76492afcfa764a448f34d43538b755d0",
              "IPY_MODEL_47e592e39ef64e5c83d32d2b98c51a36"
            ]
          }
        },
        "5c304bc228e94519a904ac2ff7ebc28c": {
          "model_module": "@jupyter-widgets/base",
          "model_name": "LayoutModel",
          "state": {
            "_view_name": "LayoutView",
            "grid_template_rows": null,
            "right": null,
            "justify_content": null,
            "_view_module": "@jupyter-widgets/base",
            "overflow": null,
            "_model_module_version": "1.2.0",
            "_view_count": null,
            "flex_flow": null,
            "width": null,
            "min_width": null,
            "border": null,
            "align_items": null,
            "bottom": null,
            "_model_module": "@jupyter-widgets/base",
            "top": null,
            "grid_column": null,
            "overflow_y": null,
            "overflow_x": null,
            "grid_auto_flow": null,
            "grid_area": null,
            "grid_template_columns": null,
            "flex": null,
            "_model_name": "LayoutModel",
            "justify_items": null,
            "grid_row": null,
            "max_height": null,
            "align_content": null,
            "visibility": null,
            "align_self": null,
            "height": null,
            "min_height": null,
            "padding": null,
            "grid_auto_rows": null,
            "grid_gap": null,
            "max_width": null,
            "order": null,
            "_view_module_version": "1.2.0",
            "grid_template_areas": null,
            "object_position": null,
            "object_fit": null,
            "grid_auto_columns": null,
            "margin": null,
            "display": null,
            "left": null
          }
        },
        "76492afcfa764a448f34d43538b755d0": {
          "model_module": "@jupyter-widgets/controls",
          "model_name": "FloatProgressModel",
          "state": {
            "_view_name": "ProgressView",
            "style": "IPY_MODEL_643a07a033d04467868c8b1d7cc2a099",
            "_dom_classes": [],
            "description": "",
            "_model_name": "FloatProgressModel",
            "bar_style": "success",
            "max": 26421880,
            "_view_module": "@jupyter-widgets/controls",
            "_model_module_version": "1.5.0",
            "value": 26421880,
            "_view_count": null,
            "_view_module_version": "1.5.0",
            "orientation": "horizontal",
            "min": 0,
            "description_tooltip": null,
            "_model_module": "@jupyter-widgets/controls",
            "layout": "IPY_MODEL_85672214a05a4d44af50430f3209accd"
          }
        },
        "47e592e39ef64e5c83d32d2b98c51a36": {
          "model_module": "@jupyter-widgets/controls",
          "model_name": "HTMLModel",
          "state": {
            "_view_name": "HTMLView",
            "style": "IPY_MODEL_7d2d06ee0bf040d89a3a42f942c80965",
            "_dom_classes": [],
            "description": "",
            "_model_name": "HTMLModel",
            "placeholder": "​",
            "_view_module": "@jupyter-widgets/controls",
            "_model_module_version": "1.5.0",
            "value": " 26422272/? [02:05&lt;00:00, 211158.16it/s]",
            "_view_count": null,
            "_view_module_version": "1.5.0",
            "description_tooltip": null,
            "_model_module": "@jupyter-widgets/controls",
            "layout": "IPY_MODEL_82b1515823674e588d3a3ca9ed2d8084"
          }
        },
        "643a07a033d04467868c8b1d7cc2a099": {
          "model_module": "@jupyter-widgets/controls",
          "model_name": "ProgressStyleModel",
          "state": {
            "_view_name": "StyleView",
            "_model_name": "ProgressStyleModel",
            "description_width": "initial",
            "_view_module": "@jupyter-widgets/base",
            "_model_module_version": "1.5.0",
            "_view_count": null,
            "_view_module_version": "1.2.0",
            "bar_color": null,
            "_model_module": "@jupyter-widgets/controls"
          }
        },
        "85672214a05a4d44af50430f3209accd": {
          "model_module": "@jupyter-widgets/base",
          "model_name": "LayoutModel",
          "state": {
            "_view_name": "LayoutView",
            "grid_template_rows": null,
            "right": null,
            "justify_content": null,
            "_view_module": "@jupyter-widgets/base",
            "overflow": null,
            "_model_module_version": "1.2.0",
            "_view_count": null,
            "flex_flow": null,
            "width": null,
            "min_width": null,
            "border": null,
            "align_items": null,
            "bottom": null,
            "_model_module": "@jupyter-widgets/base",
            "top": null,
            "grid_column": null,
            "overflow_y": null,
            "overflow_x": null,
            "grid_auto_flow": null,
            "grid_area": null,
            "grid_template_columns": null,
            "flex": null,
            "_model_name": "LayoutModel",
            "justify_items": null,
            "grid_row": null,
            "max_height": null,
            "align_content": null,
            "visibility": null,
            "align_self": null,
            "height": null,
            "min_height": null,
            "padding": null,
            "grid_auto_rows": null,
            "grid_gap": null,
            "max_width": null,
            "order": null,
            "_view_module_version": "1.2.0",
            "grid_template_areas": null,
            "object_position": null,
            "object_fit": null,
            "grid_auto_columns": null,
            "margin": null,
            "display": null,
            "left": null
          }
        },
        "7d2d06ee0bf040d89a3a42f942c80965": {
          "model_module": "@jupyter-widgets/controls",
          "model_name": "DescriptionStyleModel",
          "state": {
            "_view_name": "StyleView",
            "_model_name": "DescriptionStyleModel",
            "description_width": "",
            "_view_module": "@jupyter-widgets/base",
            "_model_module_version": "1.5.0",
            "_view_count": null,
            "_view_module_version": "1.2.0",
            "_model_module": "@jupyter-widgets/controls"
          }
        },
        "82b1515823674e588d3a3ca9ed2d8084": {
          "model_module": "@jupyter-widgets/base",
          "model_name": "LayoutModel",
          "state": {
            "_view_name": "LayoutView",
            "grid_template_rows": null,
            "right": null,
            "justify_content": null,
            "_view_module": "@jupyter-widgets/base",
            "overflow": null,
            "_model_module_version": "1.2.0",
            "_view_count": null,
            "flex_flow": null,
            "width": null,
            "min_width": null,
            "border": null,
            "align_items": null,
            "bottom": null,
            "_model_module": "@jupyter-widgets/base",
            "top": null,
            "grid_column": null,
            "overflow_y": null,
            "overflow_x": null,
            "grid_auto_flow": null,
            "grid_area": null,
            "grid_template_columns": null,
            "flex": null,
            "_model_name": "LayoutModel",
            "justify_items": null,
            "grid_row": null,
            "max_height": null,
            "align_content": null,
            "visibility": null,
            "align_self": null,
            "height": null,
            "min_height": null,
            "padding": null,
            "grid_auto_rows": null,
            "grid_gap": null,
            "max_width": null,
            "order": null,
            "_view_module_version": "1.2.0",
            "grid_template_areas": null,
            "object_position": null,
            "object_fit": null,
            "grid_auto_columns": null,
            "margin": null,
            "display": null,
            "left": null
          }
        },
        "53f53342086a41329eb1e5fb9f3a3ff8": {
          "model_module": "@jupyter-widgets/controls",
          "model_name": "HBoxModel",
          "state": {
            "_view_name": "HBoxView",
            "_dom_classes": [],
            "_model_name": "HBoxModel",
            "_view_module": "@jupyter-widgets/controls",
            "_model_module_version": "1.5.0",
            "_view_count": null,
            "_view_module_version": "1.5.0",
            "box_style": "",
            "layout": "IPY_MODEL_3820194bade447c887406072ccecacfb",
            "_model_module": "@jupyter-widgets/controls",
            "children": [
              "IPY_MODEL_eebb82d8bb914dfd8828e15281035f8a",
              "IPY_MODEL_8c2e4020fde94706b061eef5e64e5882"
            ]
          }
        },
        "3820194bade447c887406072ccecacfb": {
          "model_module": "@jupyter-widgets/base",
          "model_name": "LayoutModel",
          "state": {
            "_view_name": "LayoutView",
            "grid_template_rows": null,
            "right": null,
            "justify_content": null,
            "_view_module": "@jupyter-widgets/base",
            "overflow": null,
            "_model_module_version": "1.2.0",
            "_view_count": null,
            "flex_flow": null,
            "width": null,
            "min_width": null,
            "border": null,
            "align_items": null,
            "bottom": null,
            "_model_module": "@jupyter-widgets/base",
            "top": null,
            "grid_column": null,
            "overflow_y": null,
            "overflow_x": null,
            "grid_auto_flow": null,
            "grid_area": null,
            "grid_template_columns": null,
            "flex": null,
            "_model_name": "LayoutModel",
            "justify_items": null,
            "grid_row": null,
            "max_height": null,
            "align_content": null,
            "visibility": null,
            "align_self": null,
            "height": null,
            "min_height": null,
            "padding": null,
            "grid_auto_rows": null,
            "grid_gap": null,
            "max_width": null,
            "order": null,
            "_view_module_version": "1.2.0",
            "grid_template_areas": null,
            "object_position": null,
            "object_fit": null,
            "grid_auto_columns": null,
            "margin": null,
            "display": null,
            "left": null
          }
        },
        "eebb82d8bb914dfd8828e15281035f8a": {
          "model_module": "@jupyter-widgets/controls",
          "model_name": "FloatProgressModel",
          "state": {
            "_view_name": "ProgressView",
            "style": "IPY_MODEL_85e3f9c5b8ae4088bb2263f8eac1ab04",
            "_dom_classes": [],
            "description": "",
            "_model_name": "FloatProgressModel",
            "bar_style": "success",
            "max": 29515,
            "_view_module": "@jupyter-widgets/controls",
            "_model_module_version": "1.5.0",
            "value": 29515,
            "_view_count": null,
            "_view_module_version": "1.5.0",
            "orientation": "horizontal",
            "min": 0,
            "description_tooltip": null,
            "_model_module": "@jupyter-widgets/controls",
            "layout": "IPY_MODEL_04af9cb8bb57444eb3f1197c5f969a76"
          }
        },
        "8c2e4020fde94706b061eef5e64e5882": {
          "model_module": "@jupyter-widgets/controls",
          "model_name": "HTMLModel",
          "state": {
            "_view_name": "HTMLView",
            "style": "IPY_MODEL_c85ad5b1c2634b4b9d07f914fdc55b15",
            "_dom_classes": [],
            "description": "",
            "_model_name": "HTMLModel",
            "placeholder": "​",
            "_view_module": "@jupyter-widgets/controls",
            "_model_module_version": "1.5.0",
            "value": " 29696/? [00:00&lt;00:00, 46691.36it/s]",
            "_view_count": null,
            "_view_module_version": "1.5.0",
            "description_tooltip": null,
            "_model_module": "@jupyter-widgets/controls",
            "layout": "IPY_MODEL_a3246145a67141f09d93b1acedecc7c6"
          }
        },
        "85e3f9c5b8ae4088bb2263f8eac1ab04": {
          "model_module": "@jupyter-widgets/controls",
          "model_name": "ProgressStyleModel",
          "state": {
            "_view_name": "StyleView",
            "_model_name": "ProgressStyleModel",
            "description_width": "initial",
            "_view_module": "@jupyter-widgets/base",
            "_model_module_version": "1.5.0",
            "_view_count": null,
            "_view_module_version": "1.2.0",
            "bar_color": null,
            "_model_module": "@jupyter-widgets/controls"
          }
        },
        "04af9cb8bb57444eb3f1197c5f969a76": {
          "model_module": "@jupyter-widgets/base",
          "model_name": "LayoutModel",
          "state": {
            "_view_name": "LayoutView",
            "grid_template_rows": null,
            "right": null,
            "justify_content": null,
            "_view_module": "@jupyter-widgets/base",
            "overflow": null,
            "_model_module_version": "1.2.0",
            "_view_count": null,
            "flex_flow": null,
            "width": null,
            "min_width": null,
            "border": null,
            "align_items": null,
            "bottom": null,
            "_model_module": "@jupyter-widgets/base",
            "top": null,
            "grid_column": null,
            "overflow_y": null,
            "overflow_x": null,
            "grid_auto_flow": null,
            "grid_area": null,
            "grid_template_columns": null,
            "flex": null,
            "_model_name": "LayoutModel",
            "justify_items": null,
            "grid_row": null,
            "max_height": null,
            "align_content": null,
            "visibility": null,
            "align_self": null,
            "height": null,
            "min_height": null,
            "padding": null,
            "grid_auto_rows": null,
            "grid_gap": null,
            "max_width": null,
            "order": null,
            "_view_module_version": "1.2.0",
            "grid_template_areas": null,
            "object_position": null,
            "object_fit": null,
            "grid_auto_columns": null,
            "margin": null,
            "display": null,
            "left": null
          }
        },
        "c85ad5b1c2634b4b9d07f914fdc55b15": {
          "model_module": "@jupyter-widgets/controls",
          "model_name": "DescriptionStyleModel",
          "state": {
            "_view_name": "StyleView",
            "_model_name": "DescriptionStyleModel",
            "description_width": "",
            "_view_module": "@jupyter-widgets/base",
            "_model_module_version": "1.5.0",
            "_view_count": null,
            "_view_module_version": "1.2.0",
            "_model_module": "@jupyter-widgets/controls"
          }
        },
        "a3246145a67141f09d93b1acedecc7c6": {
          "model_module": "@jupyter-widgets/base",
          "model_name": "LayoutModel",
          "state": {
            "_view_name": "LayoutView",
            "grid_template_rows": null,
            "right": null,
            "justify_content": null,
            "_view_module": "@jupyter-widgets/base",
            "overflow": null,
            "_model_module_version": "1.2.0",
            "_view_count": null,
            "flex_flow": null,
            "width": null,
            "min_width": null,
            "border": null,
            "align_items": null,
            "bottom": null,
            "_model_module": "@jupyter-widgets/base",
            "top": null,
            "grid_column": null,
            "overflow_y": null,
            "overflow_x": null,
            "grid_auto_flow": null,
            "grid_area": null,
            "grid_template_columns": null,
            "flex": null,
            "_model_name": "LayoutModel",
            "justify_items": null,
            "grid_row": null,
            "max_height": null,
            "align_content": null,
            "visibility": null,
            "align_self": null,
            "height": null,
            "min_height": null,
            "padding": null,
            "grid_auto_rows": null,
            "grid_gap": null,
            "max_width": null,
            "order": null,
            "_view_module_version": "1.2.0",
            "grid_template_areas": null,
            "object_position": null,
            "object_fit": null,
            "grid_auto_columns": null,
            "margin": null,
            "display": null,
            "left": null
          }
        },
        "cf4e3b29f2264d04a9c8015eece45e1a": {
          "model_module": "@jupyter-widgets/controls",
          "model_name": "HBoxModel",
          "state": {
            "_view_name": "HBoxView",
            "_dom_classes": [],
            "_model_name": "HBoxModel",
            "_view_module": "@jupyter-widgets/controls",
            "_model_module_version": "1.5.0",
            "_view_count": null,
            "_view_module_version": "1.5.0",
            "box_style": "",
            "layout": "IPY_MODEL_d33557f00f324d9485d15ac8884129d5",
            "_model_module": "@jupyter-widgets/controls",
            "children": [
              "IPY_MODEL_8b316cc5c47d4cbe84a8bab8a55a029a",
              "IPY_MODEL_43b16ffab49442e28b96f9b9f0531f19"
            ]
          }
        },
        "d33557f00f324d9485d15ac8884129d5": {
          "model_module": "@jupyter-widgets/base",
          "model_name": "LayoutModel",
          "state": {
            "_view_name": "LayoutView",
            "grid_template_rows": null,
            "right": null,
            "justify_content": null,
            "_view_module": "@jupyter-widgets/base",
            "overflow": null,
            "_model_module_version": "1.2.0",
            "_view_count": null,
            "flex_flow": null,
            "width": null,
            "min_width": null,
            "border": null,
            "align_items": null,
            "bottom": null,
            "_model_module": "@jupyter-widgets/base",
            "top": null,
            "grid_column": null,
            "overflow_y": null,
            "overflow_x": null,
            "grid_auto_flow": null,
            "grid_area": null,
            "grid_template_columns": null,
            "flex": null,
            "_model_name": "LayoutModel",
            "justify_items": null,
            "grid_row": null,
            "max_height": null,
            "align_content": null,
            "visibility": null,
            "align_self": null,
            "height": null,
            "min_height": null,
            "padding": null,
            "grid_auto_rows": null,
            "grid_gap": null,
            "max_width": null,
            "order": null,
            "_view_module_version": "1.2.0",
            "grid_template_areas": null,
            "object_position": null,
            "object_fit": null,
            "grid_auto_columns": null,
            "margin": null,
            "display": null,
            "left": null
          }
        },
        "8b316cc5c47d4cbe84a8bab8a55a029a": {
          "model_module": "@jupyter-widgets/controls",
          "model_name": "FloatProgressModel",
          "state": {
            "_view_name": "ProgressView",
            "style": "IPY_MODEL_ddd987d1f92f43daa8acad3313366217",
            "_dom_classes": [],
            "description": "",
            "_model_name": "FloatProgressModel",
            "bar_style": "success",
            "max": 4422102,
            "_view_module": "@jupyter-widgets/controls",
            "_model_module_version": "1.5.0",
            "value": 4422102,
            "_view_count": null,
            "_view_module_version": "1.5.0",
            "orientation": "horizontal",
            "min": 0,
            "description_tooltip": null,
            "_model_module": "@jupyter-widgets/controls",
            "layout": "IPY_MODEL_cbb7f253b8bb4ca28d5dfd36351a52a8"
          }
        },
        "43b16ffab49442e28b96f9b9f0531f19": {
          "model_module": "@jupyter-widgets/controls",
          "model_name": "HTMLModel",
          "state": {
            "_view_name": "HTMLView",
            "style": "IPY_MODEL_33c4d2935d8a42d9aefccfd198f3eecc",
            "_dom_classes": [],
            "description": "",
            "_model_name": "HTMLModel",
            "placeholder": "​",
            "_view_module": "@jupyter-widgets/controls",
            "_model_module_version": "1.5.0",
            "value": " 4422656/? [02:01&lt;00:00, 36366.57it/s]",
            "_view_count": null,
            "_view_module_version": "1.5.0",
            "description_tooltip": null,
            "_model_module": "@jupyter-widgets/controls",
            "layout": "IPY_MODEL_08e785e7ab4a4571956fd4d7f9c30768"
          }
        },
        "ddd987d1f92f43daa8acad3313366217": {
          "model_module": "@jupyter-widgets/controls",
          "model_name": "ProgressStyleModel",
          "state": {
            "_view_name": "StyleView",
            "_model_name": "ProgressStyleModel",
            "description_width": "initial",
            "_view_module": "@jupyter-widgets/base",
            "_model_module_version": "1.5.0",
            "_view_count": null,
            "_view_module_version": "1.2.0",
            "bar_color": null,
            "_model_module": "@jupyter-widgets/controls"
          }
        },
        "cbb7f253b8bb4ca28d5dfd36351a52a8": {
          "model_module": "@jupyter-widgets/base",
          "model_name": "LayoutModel",
          "state": {
            "_view_name": "LayoutView",
            "grid_template_rows": null,
            "right": null,
            "justify_content": null,
            "_view_module": "@jupyter-widgets/base",
            "overflow": null,
            "_model_module_version": "1.2.0",
            "_view_count": null,
            "flex_flow": null,
            "width": null,
            "min_width": null,
            "border": null,
            "align_items": null,
            "bottom": null,
            "_model_module": "@jupyter-widgets/base",
            "top": null,
            "grid_column": null,
            "overflow_y": null,
            "overflow_x": null,
            "grid_auto_flow": null,
            "grid_area": null,
            "grid_template_columns": null,
            "flex": null,
            "_model_name": "LayoutModel",
            "justify_items": null,
            "grid_row": null,
            "max_height": null,
            "align_content": null,
            "visibility": null,
            "align_self": null,
            "height": null,
            "min_height": null,
            "padding": null,
            "grid_auto_rows": null,
            "grid_gap": null,
            "max_width": null,
            "order": null,
            "_view_module_version": "1.2.0",
            "grid_template_areas": null,
            "object_position": null,
            "object_fit": null,
            "grid_auto_columns": null,
            "margin": null,
            "display": null,
            "left": null
          }
        },
        "33c4d2935d8a42d9aefccfd198f3eecc": {
          "model_module": "@jupyter-widgets/controls",
          "model_name": "DescriptionStyleModel",
          "state": {
            "_view_name": "StyleView",
            "_model_name": "DescriptionStyleModel",
            "description_width": "",
            "_view_module": "@jupyter-widgets/base",
            "_model_module_version": "1.5.0",
            "_view_count": null,
            "_view_module_version": "1.2.0",
            "_model_module": "@jupyter-widgets/controls"
          }
        },
        "08e785e7ab4a4571956fd4d7f9c30768": {
          "model_module": "@jupyter-widgets/base",
          "model_name": "LayoutModel",
          "state": {
            "_view_name": "LayoutView",
            "grid_template_rows": null,
            "right": null,
            "justify_content": null,
            "_view_module": "@jupyter-widgets/base",
            "overflow": null,
            "_model_module_version": "1.2.0",
            "_view_count": null,
            "flex_flow": null,
            "width": null,
            "min_width": null,
            "border": null,
            "align_items": null,
            "bottom": null,
            "_model_module": "@jupyter-widgets/base",
            "top": null,
            "grid_column": null,
            "overflow_y": null,
            "overflow_x": null,
            "grid_auto_flow": null,
            "grid_area": null,
            "grid_template_columns": null,
            "flex": null,
            "_model_name": "LayoutModel",
            "justify_items": null,
            "grid_row": null,
            "max_height": null,
            "align_content": null,
            "visibility": null,
            "align_self": null,
            "height": null,
            "min_height": null,
            "padding": null,
            "grid_auto_rows": null,
            "grid_gap": null,
            "max_width": null,
            "order": null,
            "_view_module_version": "1.2.0",
            "grid_template_areas": null,
            "object_position": null,
            "object_fit": null,
            "grid_auto_columns": null,
            "margin": null,
            "display": null,
            "left": null
          }
        },
        "257ede4819ec4d77b9ed608312d85376": {
          "model_module": "@jupyter-widgets/controls",
          "model_name": "HBoxModel",
          "state": {
            "_view_name": "HBoxView",
            "_dom_classes": [],
            "_model_name": "HBoxModel",
            "_view_module": "@jupyter-widgets/controls",
            "_model_module_version": "1.5.0",
            "_view_count": null,
            "_view_module_version": "1.5.0",
            "box_style": "",
            "layout": "IPY_MODEL_355c94901afe447491f5de13c08d997a",
            "_model_module": "@jupyter-widgets/controls",
            "children": [
              "IPY_MODEL_d60ec13b789f4857a5bdb9d17c308c4e",
              "IPY_MODEL_43a21fe172834bdd81b4d64d0636e1de"
            ]
          }
        },
        "355c94901afe447491f5de13c08d997a": {
          "model_module": "@jupyter-widgets/base",
          "model_name": "LayoutModel",
          "state": {
            "_view_name": "LayoutView",
            "grid_template_rows": null,
            "right": null,
            "justify_content": null,
            "_view_module": "@jupyter-widgets/base",
            "overflow": null,
            "_model_module_version": "1.2.0",
            "_view_count": null,
            "flex_flow": null,
            "width": null,
            "min_width": null,
            "border": null,
            "align_items": null,
            "bottom": null,
            "_model_module": "@jupyter-widgets/base",
            "top": null,
            "grid_column": null,
            "overflow_y": null,
            "overflow_x": null,
            "grid_auto_flow": null,
            "grid_area": null,
            "grid_template_columns": null,
            "flex": null,
            "_model_name": "LayoutModel",
            "justify_items": null,
            "grid_row": null,
            "max_height": null,
            "align_content": null,
            "visibility": null,
            "align_self": null,
            "height": null,
            "min_height": null,
            "padding": null,
            "grid_auto_rows": null,
            "grid_gap": null,
            "max_width": null,
            "order": null,
            "_view_module_version": "1.2.0",
            "grid_template_areas": null,
            "object_position": null,
            "object_fit": null,
            "grid_auto_columns": null,
            "margin": null,
            "display": null,
            "left": null
          }
        },
        "d60ec13b789f4857a5bdb9d17c308c4e": {
          "model_module": "@jupyter-widgets/controls",
          "model_name": "FloatProgressModel",
          "state": {
            "_view_name": "ProgressView",
            "style": "IPY_MODEL_7fc690542282411f954ee4e0d9066bee",
            "_dom_classes": [],
            "description": "",
            "_model_name": "FloatProgressModel",
            "bar_style": "success",
            "max": 5148,
            "_view_module": "@jupyter-widgets/controls",
            "_model_module_version": "1.5.0",
            "value": 5148,
            "_view_count": null,
            "_view_module_version": "1.5.0",
            "orientation": "horizontal",
            "min": 0,
            "description_tooltip": null,
            "_model_module": "@jupyter-widgets/controls",
            "layout": "IPY_MODEL_dfce09eecfa7449b9e5b24f6c2dfa661"
          }
        },
        "43a21fe172834bdd81b4d64d0636e1de": {
          "model_module": "@jupyter-widgets/controls",
          "model_name": "HTMLModel",
          "state": {
            "_view_name": "HTMLView",
            "style": "IPY_MODEL_36edf0f430b64b3d82ea18c75b26ae7b",
            "_dom_classes": [],
            "description": "",
            "_model_name": "HTMLModel",
            "placeholder": "​",
            "_view_module": "@jupyter-widgets/controls",
            "_model_module_version": "1.5.0",
            "value": " 6144/? [01:32&lt;00:00, 66.28it/s]",
            "_view_count": null,
            "_view_module_version": "1.5.0",
            "description_tooltip": null,
            "_model_module": "@jupyter-widgets/controls",
            "layout": "IPY_MODEL_eaeddeb6a44a416b9c57bc84daf9eb7f"
          }
        },
        "7fc690542282411f954ee4e0d9066bee": {
          "model_module": "@jupyter-widgets/controls",
          "model_name": "ProgressStyleModel",
          "state": {
            "_view_name": "StyleView",
            "_model_name": "ProgressStyleModel",
            "description_width": "initial",
            "_view_module": "@jupyter-widgets/base",
            "_model_module_version": "1.5.0",
            "_view_count": null,
            "_view_module_version": "1.2.0",
            "bar_color": null,
            "_model_module": "@jupyter-widgets/controls"
          }
        },
        "dfce09eecfa7449b9e5b24f6c2dfa661": {
          "model_module": "@jupyter-widgets/base",
          "model_name": "LayoutModel",
          "state": {
            "_view_name": "LayoutView",
            "grid_template_rows": null,
            "right": null,
            "justify_content": null,
            "_view_module": "@jupyter-widgets/base",
            "overflow": null,
            "_model_module_version": "1.2.0",
            "_view_count": null,
            "flex_flow": null,
            "width": null,
            "min_width": null,
            "border": null,
            "align_items": null,
            "bottom": null,
            "_model_module": "@jupyter-widgets/base",
            "top": null,
            "grid_column": null,
            "overflow_y": null,
            "overflow_x": null,
            "grid_auto_flow": null,
            "grid_area": null,
            "grid_template_columns": null,
            "flex": null,
            "_model_name": "LayoutModel",
            "justify_items": null,
            "grid_row": null,
            "max_height": null,
            "align_content": null,
            "visibility": null,
            "align_self": null,
            "height": null,
            "min_height": null,
            "padding": null,
            "grid_auto_rows": null,
            "grid_gap": null,
            "max_width": null,
            "order": null,
            "_view_module_version": "1.2.0",
            "grid_template_areas": null,
            "object_position": null,
            "object_fit": null,
            "grid_auto_columns": null,
            "margin": null,
            "display": null,
            "left": null
          }
        },
        "36edf0f430b64b3d82ea18c75b26ae7b": {
          "model_module": "@jupyter-widgets/controls",
          "model_name": "DescriptionStyleModel",
          "state": {
            "_view_name": "StyleView",
            "_model_name": "DescriptionStyleModel",
            "description_width": "",
            "_view_module": "@jupyter-widgets/base",
            "_model_module_version": "1.5.0",
            "_view_count": null,
            "_view_module_version": "1.2.0",
            "_model_module": "@jupyter-widgets/controls"
          }
        },
        "eaeddeb6a44a416b9c57bc84daf9eb7f": {
          "model_module": "@jupyter-widgets/base",
          "model_name": "LayoutModel",
          "state": {
            "_view_name": "LayoutView",
            "grid_template_rows": null,
            "right": null,
            "justify_content": null,
            "_view_module": "@jupyter-widgets/base",
            "overflow": null,
            "_model_module_version": "1.2.0",
            "_view_count": null,
            "flex_flow": null,
            "width": null,
            "min_width": null,
            "border": null,
            "align_items": null,
            "bottom": null,
            "_model_module": "@jupyter-widgets/base",
            "top": null,
            "grid_column": null,
            "overflow_y": null,
            "overflow_x": null,
            "grid_auto_flow": null,
            "grid_area": null,
            "grid_template_columns": null,
            "flex": null,
            "_model_name": "LayoutModel",
            "justify_items": null,
            "grid_row": null,
            "max_height": null,
            "align_content": null,
            "visibility": null,
            "align_self": null,
            "height": null,
            "min_height": null,
            "padding": null,
            "grid_auto_rows": null,
            "grid_gap": null,
            "max_width": null,
            "order": null,
            "_view_module_version": "1.2.0",
            "grid_template_areas": null,
            "object_position": null,
            "object_fit": null,
            "grid_auto_columns": null,
            "margin": null,
            "display": null,
            "left": null
          }
        }
      }
    }
  },
  "cells": [
    {
      "cell_type": "markdown",
      "metadata": {
        "id": "view-in-github",
        "colab_type": "text"
      },
      "source": [
        "<a href=\"https://colab.research.google.com/github/YinGuoX/Deep_Learning_Pytorch_WithDeeplizard/blob/master/28_CNN_Confusion_Matrix_With_PyTorch_Neural_Network_Programming.ipynb\" target=\"_parent\"><img src=\"https://colab.research.google.com/assets/colab-badge.svg\" alt=\"Open In Colab\"/></a>"
      ]
    },
    {
      "cell_type": "markdown",
      "metadata": {
        "id": "N0Vw52Qj7uKD"
      },
      "source": [
        "# Create A Confusion Matrix With PyTorch\n",
        " 在本节中，我们将构建一些函数，这些函数将使我们能够为训练集中的每个样本获取预测张量。\n",
        "\n",
        " 然后，我们将看到如何使用这个预测张量以及每个样本的标签来创建混淆矩阵。这个混淆矩阵将允许我们看到我们的网络中哪些类别相互混淆。不用再麻烦了，我们开始吧。\n",
        "\n",
        "我们现在所处的阶段:\n",
        "\n",
        "* 准备数据\n",
        "\n",
        "* 建立模型\n",
        "\n",
        "* 训练模型\n",
        "\n",
        "* 分析模型的结果\n",
        "  * **建立，绘制和解释混淆矩阵**\n",
        "\n",
        "有关所有代码设置的详细信息，请务必参阅上一节。"
      ]
    },
    {
      "cell_type": "code",
      "metadata": {
        "id": "zZR1Cm2W8Zb6"
      },
      "source": [
        "import torch\n",
        "import torch.nn as nn\n",
        "import torch.nn.functional as F\n",
        "import torchvision\n",
        "import torchvision.transforms as transforms\n",
        "import torch.optim as optim"
      ],
      "execution_count": null,
      "outputs": []
    },
    {
      "cell_type": "code",
      "metadata": {
        "id": "LQ4yKViH8pzD"
      },
      "source": [
        "class Network(nn.Module):\n",
        "  def __init__(self):\n",
        "    super().__init__()\n",
        "    self.conv1 = nn.Conv2d(in_channels=1,out_channels=6,kernel_size=5)\n",
        "    self.conv2 = nn.Conv2d(in_channels=6,out_channels=12,kernel_size=5)\n",
        "\n",
        "    self.fc1 = nn.Linear(in_features=12*4*4,out_features=120)\n",
        "    self.fc2 = nn.Linear(in_features=120,out_features=60)\n",
        "    self.out = nn.Linear(in_features=60,out_features=10)\n",
        "\n",
        "\n",
        "\n",
        "  def forward(self,t):\n",
        "    t= t;\n",
        "\n",
        "\n",
        "    t = self.conv1(t)\n",
        "    t = F.relu(t)\n",
        "    t = F.max_pool2d(t,kernel_size=2,stride=2)\n",
        "\n",
        "    t = self.conv2(t)\n",
        "    t = F.relu(t)\n",
        "    t = F.max_pool2d(t,kernel_size=2,stride=2)\n",
        "\n",
        "    t = t.reshape(-1,12*4*4)\n",
        "    t = self.fc1(t)\n",
        "    t = F.relu(t)\n",
        "    \n",
        "    t = self.fc2(t)\n",
        "    t = F.relu(t)\n",
        "\n",
        "    t = self.out(t)\n",
        "    return t;"
      ],
      "execution_count": null,
      "outputs": []
    },
    {
      "cell_type": "code",
      "metadata": {
        "colab": {
          "base_uri": "https://localhost:8080/",
          "height": 579,
          "referenced_widgets": [
            "374199de7d7c47b0b484ee596b670eb5",
            "5c304bc228e94519a904ac2ff7ebc28c",
            "76492afcfa764a448f34d43538b755d0",
            "47e592e39ef64e5c83d32d2b98c51a36",
            "643a07a033d04467868c8b1d7cc2a099",
            "85672214a05a4d44af50430f3209accd",
            "7d2d06ee0bf040d89a3a42f942c80965",
            "82b1515823674e588d3a3ca9ed2d8084",
            "53f53342086a41329eb1e5fb9f3a3ff8",
            "3820194bade447c887406072ccecacfb",
            "eebb82d8bb914dfd8828e15281035f8a",
            "8c2e4020fde94706b061eef5e64e5882",
            "85e3f9c5b8ae4088bb2263f8eac1ab04",
            "04af9cb8bb57444eb3f1197c5f969a76",
            "c85ad5b1c2634b4b9d07f914fdc55b15",
            "a3246145a67141f09d93b1acedecc7c6",
            "cf4e3b29f2264d04a9c8015eece45e1a",
            "d33557f00f324d9485d15ac8884129d5",
            "8b316cc5c47d4cbe84a8bab8a55a029a",
            "43b16ffab49442e28b96f9b9f0531f19",
            "ddd987d1f92f43daa8acad3313366217",
            "cbb7f253b8bb4ca28d5dfd36351a52a8",
            "33c4d2935d8a42d9aefccfd198f3eecc",
            "08e785e7ab4a4571956fd4d7f9c30768",
            "257ede4819ec4d77b9ed608312d85376",
            "355c94901afe447491f5de13c08d997a",
            "d60ec13b789f4857a5bdb9d17c308c4e",
            "43a21fe172834bdd81b4d64d0636e1de",
            "7fc690542282411f954ee4e0d9066bee",
            "dfce09eecfa7449b9e5b24f6c2dfa661",
            "36edf0f430b64b3d82ea18c75b26ae7b",
            "eaeddeb6a44a416b9c57bc84daf9eb7f"
          ]
        },
        "id": "v-iwSomG9zbK",
        "outputId": "7fa48fc2-1a03-4ed3-9eff-be934b560578"
      },
      "source": [
        "train_set = torchvision.datasets.FashionMNIST(root='./data',train=True,\n",
        "                                download=True,\n",
        "                                transform=transforms.Compose([\n",
        "        transforms.ToTensor()\n",
        "    ]))"
      ],
      "execution_count": null,
      "outputs": [
        {
          "output_type": "stream",
          "text": [
            "Downloading http://fashion-mnist.s3-website.eu-central-1.amazonaws.com/train-images-idx3-ubyte.gz\n",
            "Downloading http://fashion-mnist.s3-website.eu-central-1.amazonaws.com/train-images-idx3-ubyte.gz to ./data/FashionMNIST/raw/train-images-idx3-ubyte.gz\n"
          ],
          "name": "stdout"
        },
        {
          "output_type": "display_data",
          "data": {
            "application/vnd.jupyter.widget-view+json": {
              "model_id": "374199de7d7c47b0b484ee596b670eb5",
              "version_minor": 0,
              "version_major": 2
            },
            "text/plain": [
              "HBox(children=(FloatProgress(value=0.0, max=26421880.0), HTML(value='')))"
            ]
          },
          "metadata": {
            "tags": []
          }
        },
        {
          "output_type": "stream",
          "text": [
            "\n",
            "Extracting ./data/FashionMNIST/raw/train-images-idx3-ubyte.gz to ./data/FashionMNIST/raw\n",
            "\n",
            "Downloading http://fashion-mnist.s3-website.eu-central-1.amazonaws.com/train-labels-idx1-ubyte.gz\n",
            "Downloading http://fashion-mnist.s3-website.eu-central-1.amazonaws.com/train-labels-idx1-ubyte.gz to ./data/FashionMNIST/raw/train-labels-idx1-ubyte.gz\n"
          ],
          "name": "stdout"
        },
        {
          "output_type": "display_data",
          "data": {
            "application/vnd.jupyter.widget-view+json": {
              "model_id": "53f53342086a41329eb1e5fb9f3a3ff8",
              "version_minor": 0,
              "version_major": 2
            },
            "text/plain": [
              "HBox(children=(FloatProgress(value=0.0, max=29515.0), HTML(value='')))"
            ]
          },
          "metadata": {
            "tags": []
          }
        },
        {
          "output_type": "stream",
          "text": [
            "\n",
            "Extracting ./data/FashionMNIST/raw/train-labels-idx1-ubyte.gz to ./data/FashionMNIST/raw\n",
            "\n",
            "Downloading http://fashion-mnist.s3-website.eu-central-1.amazonaws.com/t10k-images-idx3-ubyte.gz\n",
            "Downloading http://fashion-mnist.s3-website.eu-central-1.amazonaws.com/t10k-images-idx3-ubyte.gz to ./data/FashionMNIST/raw/t10k-images-idx3-ubyte.gz\n"
          ],
          "name": "stdout"
        },
        {
          "output_type": "display_data",
          "data": {
            "application/vnd.jupyter.widget-view+json": {
              "model_id": "cf4e3b29f2264d04a9c8015eece45e1a",
              "version_minor": 0,
              "version_major": 2
            },
            "text/plain": [
              "HBox(children=(FloatProgress(value=0.0, max=4422102.0), HTML(value='')))"
            ]
          },
          "metadata": {
            "tags": []
          }
        },
        {
          "output_type": "stream",
          "text": [
            "\n",
            "Extracting ./data/FashionMNIST/raw/t10k-images-idx3-ubyte.gz to ./data/FashionMNIST/raw\n",
            "\n",
            "Downloading http://fashion-mnist.s3-website.eu-central-1.amazonaws.com/t10k-labels-idx1-ubyte.gz\n",
            "Downloading http://fashion-mnist.s3-website.eu-central-1.amazonaws.com/t10k-labels-idx1-ubyte.gz to ./data/FashionMNIST/raw/t10k-labels-idx1-ubyte.gz\n"
          ],
          "name": "stdout"
        },
        {
          "output_type": "display_data",
          "data": {
            "application/vnd.jupyter.widget-view+json": {
              "model_id": "257ede4819ec4d77b9ed608312d85376",
              "version_minor": 0,
              "version_major": 2
            },
            "text/plain": [
              "HBox(children=(FloatProgress(value=0.0, max=5148.0), HTML(value='')))"
            ]
          },
          "metadata": {
            "tags": []
          }
        },
        {
          "output_type": "stream",
          "text": [
            "\n",
            "Extracting ./data/FashionMNIST/raw/t10k-labels-idx1-ubyte.gz to ./data/FashionMNIST/raw\n",
            "\n",
            "Processing...\n"
          ],
          "name": "stdout"
        },
        {
          "output_type": "stream",
          "text": [
            "/usr/local/lib/python3.7/dist-packages/torchvision/datasets/mnist.py:502: UserWarning: The given NumPy array is not writeable, and PyTorch does not support non-writeable tensors. This means you can write to the underlying (supposedly non-writeable) NumPy array using the tensor. You may want to copy the array to protect its data or make it writeable before converting it to a tensor. This type of warning will be suppressed for the rest of this program. (Triggered internally at  /pytorch/torch/csrc/utils/tensor_numpy.cpp:143.)\n",
            "  return torch.from_numpy(parsed.astype(m[2], copy=False)).view(*s)\n"
          ],
          "name": "stderr"
        },
        {
          "output_type": "stream",
          "text": [
            "Done!\n"
          ],
          "name": "stdout"
        }
      ]
    },
    {
      "cell_type": "code",
      "metadata": {
        "id": "C3YqUB28_Kux"
      },
      "source": [
        "def get_num_correct(preds,labels):\n",
        "  return preds.argmax(dim=1).eq(labels).sum().item()"
      ],
      "execution_count": null,
      "outputs": []
    },
    {
      "cell_type": "code",
      "metadata": {
        "id": "aggy3S-u-MaA"
      },
      "source": [
        "network  = Network()\n",
        "\n",
        "train_loader = torch.utils.data.DataLoader(\n",
        "   train_set,\n",
        "   batch_size=100,\n",
        "   shuffle=True \n",
        ")\n",
        "\n",
        "optimiter = optim.Adam(network.parameters(),lr=0.0001)"
      ],
      "execution_count": null,
      "outputs": []
    },
    {
      "cell_type": "code",
      "metadata": {
        "colab": {
          "base_uri": "https://localhost:8080/"
        },
        "id": "g_xJgKcn7qfh",
        "outputId": "990ad027-ce35-4568-e09e-ed5179cbb37a"
      },
      "source": [
        "for epoch in range(10):\n",
        "  total_loss = 0\n",
        "  total_correct = 0\n",
        "  for batch in train_loader:\n",
        "    images,labels = batch\n",
        "\n",
        "    preds = network(images)\n",
        "    loss = F.cross_entropy(preds,labels)\n",
        "\n",
        "    optimiter.zero_grad()\n",
        "    loss.backward()\n",
        "    optimiter.step()\n",
        "\n",
        "    total_loss += loss.item()\n",
        "    total_correct+=get_num_correct(preds,labels)\n",
        "  \n",
        "  print(\n",
        "      \"epoch:\",epoch,\n",
        "      \"total_loss:\",total_loss,\n",
        "      \"total_correct:\",total_correct\n",
        "  )\n",
        "    \n"
      ],
      "execution_count": null,
      "outputs": [
        {
          "output_type": "stream",
          "text": [
            "epoch: 0 total_loss: 823.4279091954231 total_correct: 32442\n",
            "epoch: 1 total_loss: 450.96173518896103 total_correct: 42996\n",
            "epoch: 2 total_loss: 405.6564346551895 total_correct: 44536\n",
            "epoch: 3 total_loss: 379.9148697257042 total_correct: 45408\n",
            "epoch: 4 total_loss: 360.8149921298027 total_correct: 46176\n",
            "epoch: 5 total_loss: 346.77783676981926 total_correct: 46715\n",
            "epoch: 6 total_loss: 334.824419349432 total_correct: 47236\n",
            "epoch: 7 total_loss: 323.95701575279236 total_correct: 47817\n",
            "epoch: 8 total_loss: 315.60204499959946 total_correct: 48221\n",
            "epoch: 9 total_loss: 307.137815952301 total_correct: 48586\n"
          ],
          "name": "stdout"
        }
      ]
    },
    {
      "cell_type": "markdown",
      "metadata": {
        "id": "EFquVwWS_gcp"
      },
      "source": [
        "## 1.混淆矩阵要求\n",
        "\n",
        "为了为整个数据集创建一个混淆矩阵，我们需要一个预测张量，该张量的单个维度与训练集的长度相同。"
      ]
    },
    {
      "cell_type": "code",
      "metadata": {
        "colab": {
          "base_uri": "https://localhost:8080/"
        },
        "id": "uIANRegX_ehY",
        "outputId": "8f5ca141-9d30-48ff-9003-e5ac32f28a64"
      },
      "source": [
        "len(train_set)"
      ],
      "execution_count": null,
      "outputs": [
        {
          "output_type": "execute_result",
          "data": {
            "text/plain": [
              "60000"
            ]
          },
          "metadata": {
            "tags": []
          },
          "execution_count": 9
        }
      ]
    },
    {
      "cell_type": "markdown",
      "metadata": {
        "id": "Qk7DrhPp_rMI"
      },
      "source": [
        "对于我们训练集中的每个样本，此预测张量将包含十个预测（每种服装类别一个）。 获得此张量后，可以使用标签张量生成混淆矩阵。"
      ]
    },
    {
      "cell_type": "code",
      "metadata": {
        "colab": {
          "base_uri": "https://localhost:8080/"
        },
        "id": "LA42cRjo_qnR",
        "outputId": "07e75a41-134d-4e81-af53-38ee80c47270"
      },
      "source": [
        "len(train_set.targets)"
      ],
      "execution_count": null,
      "outputs": [
        {
          "output_type": "execute_result",
          "data": {
            "text/plain": [
              "60000"
            ]
          },
          "metadata": {
            "tags": []
          },
          "execution_count": 10
        }
      ]
    },
    {
      "cell_type": "markdown",
      "metadata": {
        "id": "ezQb0dSz_12p"
      },
      "source": [
        "混淆矩阵将向我们展示模型混淆的地方。更具体地说，混淆矩阵将向我们显示模型正确预测的类别以及模型错误预测的类别。对于不正确的预测，我们将能够看到模型预测了哪些类别，这将向我们展示哪些类别混淆了模型。"
      ]
    },
    {
      "cell_type": "markdown",
      "metadata": {
        "id": "80qjK83xABjp"
      },
      "source": [
        "## 2.获得整个训练集的预测\n",
        "\n",
        "为了获得所有训练集样本的预测，我们需要将所有样本通过网络的正向传播。 为此，可以创建一个具有batch_size = 1的DataLoader。 这将立即将单个批次传递到网络，并将为我们提供所有训练集样本所需的预测张量。\n",
        "\n",
        "但是，如果要在不同的数据集上进行训练，则取决于计算资源和训练集的大小，我们需要一种方法来对较小的批次进行预测并收集结果。 为了收集结果，我们将使用torch.cat（）函数将输出张量连接在一起，以获得单个预测张量。 让我们构建一个函数来执行此操作。\n",
        "\n",
        "### 构建函数以获取所有样本的预测\n",
        "---\n",
        "我们将创建一个名为get_all_preds（）的函数，并传递一个模型和一个数据加载器。模型将用于获得预测，数据加载器将用于提供训练集中的批。\n",
        "\n",
        "该函数需要做的就是遍历数据加载器，将批传递给模型，并将每个批的预测结果连接到一个将返回给调用者的预测张量。"
      ]
    },
    {
      "cell_type": "code",
      "metadata": {
        "id": "YJg4AikO_xZB"
      },
      "source": [
        "# @torch.no_grad()\n",
        "def get_all_preds(model,loader):\n",
        "  all_preds = torch.tensor([])\n",
        "  for batch in loader:\n",
        "    images,labels = batch\n",
        "    preds = model(images)\n",
        "\n",
        "    all_preds = torch.cat((all_preds,preds),dim=0)\n",
        "\n",
        "  return all_preds"
      ],
      "execution_count": null,
      "outputs": []
    },
    {
      "cell_type": "markdown",
      "metadata": {
        "id": "A1MOiiAsBqwH"
      },
      "source": [
        "此函数会创建一个空张量all_preds来保存输出预测。 然后，迭代来自数据加载器的批处理，并将输出预测与all_preds张量连接在一起。 最后，所有预测all_preds将返回给调用方。\n",
        "\n",
        "**注意：**在顶部，我们已使用@torch.no_grad（）PyTorch装饰对函数进行了注释。 这是因为我们希望该函数执行省略梯度跟踪。\n",
        "\n",
        "这是因为梯度跟踪占用内存，并且在预测（在不训练的情况下获得预测）期间，无需跟踪计算图。 装饰器是在执行特定功能时局部关闭计算图跟踪功能的一种方法。"
      ]
    },
    {
      "cell_type": "markdown",
      "metadata": {
        "id": "lMkxd6vyCAGW"
      },
      "source": [
        "### 局部禁用梯度跟踪\n",
        "---\n",
        "我们现在准备好调用以获取训练集的预测。我们需要做的就是创建一个具有合理批量大小的数据加载器，并将模型和数据加载器传递给get_all_preds（）函数。"
      ]
    },
    {
      "cell_type": "markdown",
      "metadata": {
        "id": "fG-TSn-RCNVv"
      },
      "source": [
        "在前几节中，我们看到了用户如何在不需要PyTorch的梯度跟踪功能时将其关闭，并在开始训练过程时将其重新打开。\n",
        "\n",
        "每当我们要使用backward（）函数计算梯度时，我们特别需要梯度计算功能。否则，关闭它是个好主意，因为关闭它将减少计算的内存消耗，例如当我们使用网络进行预测（推理）时。"
      ]
    },
    {
      "cell_type": "markdown",
      "metadata": {
        "id": "5jxzb-omCXzH"
      },
      "source": [
        "我们也可以在我们的代码中禁用特定或局部点的梯度计算，例如，就像我们刚才看到的带注释的函数一样。作为另一个例子，我们可以使用Python的with关键字来指定指定的代码块应该取消梯度计算。"
      ]
    },
    {
      "cell_type": "code",
      "metadata": {
        "id": "JGFJ7h6qBjEy"
      },
      "source": [
        "with torch.no_grad():\n",
        "  prediction_loader = torch.utils.data.DataLoader(train_set,batch_size=10000)\n",
        "  train_preds = get_all_preds(network,prediction_loader)"
      ],
      "execution_count": null,
      "outputs": []
    },
    {
      "cell_type": "markdown",
      "metadata": {
        "id": "LCnMKugMC1dH"
      },
      "source": [
        "这两个选项都有效。让我们保留这两个并得到我们的预测。"
      ]
    },
    {
      "cell_type": "markdown",
      "metadata": {
        "id": "ihvQW4JVC9GG"
      },
      "source": [
        "### 使用预测张量\n",
        "---\n",
        "\n",
        "现在，有了预测张量，我们可以将其传递给我们在上一集中创建的get_num_correct（）函数以及训练集标签，以获取正确预测的总数。"
      ]
    },
    {
      "cell_type": "code",
      "metadata": {
        "id": "y5I_363cCpqG"
      },
      "source": [
        "preds_correct = get_num_correct(train_preds,train_set.targets)\n"
      ],
      "execution_count": null,
      "outputs": []
    },
    {
      "cell_type": "code",
      "metadata": {
        "colab": {
          "base_uri": "https://localhost:8080/"
        },
        "id": "wQwHfMAyDHUw",
        "outputId": "0110feb0-7325-47c6-de9c-c9c1bae043e0"
      },
      "source": [
        "print(\"total correct:\",preds_correct)\n",
        "print(\"accuracy:\",preds_correct/len(train_set))"
      ],
      "execution_count": null,
      "outputs": [
        {
          "output_type": "stream",
          "text": [
            "total correct: 48849\n",
            "accuracy: 0.81415\n"
          ],
          "name": "stdout"
        }
      ]
    },
    {
      "cell_type": "markdown",
      "metadata": {
        "id": "3iF7sEL9DTNA"
      },
      "source": [
        "我们可以看到正确预测的总数，并通过除以训练集中的样本数来打印准确性。"
      ]
    },
    {
      "cell_type": "markdown",
      "metadata": {
        "id": "hDGyHjfJDl74"
      },
      "source": [
        "## 3.建立混乱矩阵\n",
        "\n",
        "我们构建混淆矩阵的任务是将预测值的数量与真实值（目标）进行计数。\n",
        "\n",
        "这将创建一个充当热图的矩阵，告诉我们预测值相对于真实值的下降位置。\n",
        "\n",
        "为此，我们需要具有train_preds张量中的目标张量和预测标签"
      ]
    },
    {
      "cell_type": "code",
      "metadata": {
        "colab": {
          "base_uri": "https://localhost:8080/"
        },
        "id": "EmG0vbG_DPew",
        "outputId": "854740e4-7a84-4ea6-cb67-c74b7d70b8b7"
      },
      "source": [
        "train_set.targets"
      ],
      "execution_count": null,
      "outputs": [
        {
          "output_type": "execute_result",
          "data": {
            "text/plain": [
              "tensor([9, 0, 0,  ..., 3, 0, 5])"
            ]
          },
          "metadata": {
            "tags": []
          },
          "execution_count": 21
        }
      ]
    },
    {
      "cell_type": "code",
      "metadata": {
        "colab": {
          "base_uri": "https://localhost:8080/"
        },
        "id": "V2vWQBnsDx__",
        "outputId": "60e4dc7f-dc8d-4e55-d7ae-28cffa4e53d0"
      },
      "source": [
        "train_preds.argmax(dim=1)"
      ],
      "execution_count": null,
      "outputs": [
        {
          "output_type": "execute_result",
          "data": {
            "text/plain": [
              "tensor([9, 0, 3,  ..., 3, 0, 5])"
            ]
          },
          "metadata": {
            "tags": []
          },
          "execution_count": 22
        }
      ]
    },
    {
      "cell_type": "markdown",
      "metadata": {
        "id": "pdmKstpDD9Te"
      },
      "source": [
        "现在，如果我们在元素方面比较两个张量，我们可以看到预测的标签是否与目标匹配。另外，如果我们计算预测标签和目标标签的数量，那么两个张量中的值将作为矩阵的坐标。让我们把这两个张量沿着第二维叠加，这样我们就可以有60000个有序对。"
      ]
    },
    {
      "cell_type": "code",
      "metadata": {
        "id": "CECsMNWyD2CQ"
      },
      "source": [
        "stacked = torch.stack(\n",
        "    (train_set.targets,\n",
        "    train_preds.argmax(dim=1)),\n",
        "    dim=1\n",
        "\n",
        ")"
      ],
      "execution_count": null,
      "outputs": []
    },
    {
      "cell_type": "code",
      "metadata": {
        "colab": {
          "base_uri": "https://localhost:8080/"
        },
        "id": "9JhMV60tEKHA",
        "outputId": "3646cb14-e849-4925-d2a7-42f440e32b04"
      },
      "source": [
        "stacked.shape"
      ],
      "execution_count": null,
      "outputs": [
        {
          "output_type": "execute_result",
          "data": {
            "text/plain": [
              "torch.Size([60000, 2])"
            ]
          },
          "metadata": {
            "tags": []
          },
          "execution_count": 24
        }
      ]
    },
    {
      "cell_type": "code",
      "metadata": {
        "colab": {
          "base_uri": "https://localhost:8080/"
        },
        "id": "NXzD4UC6EL6g",
        "outputId": "4a159f6c-e400-4539-c448-e3ade68bf9c3"
      },
      "source": [
        "stacked"
      ],
      "execution_count": null,
      "outputs": [
        {
          "output_type": "execute_result",
          "data": {
            "text/plain": [
              "tensor([[9, 9],\n",
              "        [0, 0],\n",
              "        [0, 3],\n",
              "        ...,\n",
              "        [3, 3],\n",
              "        [0, 0],\n",
              "        [5, 5]])"
            ]
          },
          "metadata": {
            "tags": []
          },
          "execution_count": 25
        }
      ]
    },
    {
      "cell_type": "code",
      "metadata": {
        "colab": {
          "base_uri": "https://localhost:8080/"
        },
        "id": "e5frnSxBERCu",
        "outputId": "db788221-05c8-4dd2-9228-f4300712eac9"
      },
      "source": [
        "stacked[0].tolist()"
      ],
      "execution_count": null,
      "outputs": [
        {
          "output_type": "execute_result",
          "data": {
            "text/plain": [
              "[9, 9]"
            ]
          },
          "metadata": {
            "tags": []
          },
          "execution_count": 28
        }
      ]
    },
    {
      "cell_type": "markdown",
      "metadata": {
        "id": "AlUhe3iwEivf"
      },
      "source": [
        "现在，我们可以遍历这些对，并计算矩阵中每个位置的出现次数。 让我们创建矩阵。 由于我们有十个预测类别，因此将有一个十乘十的矩阵。"
      ]
    },
    {
      "cell_type": "code",
      "metadata": {
        "colab": {
          "base_uri": "https://localhost:8080/"
        },
        "id": "Z8FXGFBWETfg",
        "outputId": "cf68874b-f81f-40c4-9e0f-251f1adda363"
      },
      "source": [
        "cmt = torch.zeros(10,10,dtype=torch.int64)\n",
        "cmt"
      ],
      "execution_count": null,
      "outputs": [
        {
          "output_type": "execute_result",
          "data": {
            "text/plain": [
              "tensor([[0, 0, 0, 0, 0, 0, 0, 0, 0, 0],\n",
              "        [0, 0, 0, 0, 0, 0, 0, 0, 0, 0],\n",
              "        [0, 0, 0, 0, 0, 0, 0, 0, 0, 0],\n",
              "        [0, 0, 0, 0, 0, 0, 0, 0, 0, 0],\n",
              "        [0, 0, 0, 0, 0, 0, 0, 0, 0, 0],\n",
              "        [0, 0, 0, 0, 0, 0, 0, 0, 0, 0],\n",
              "        [0, 0, 0, 0, 0, 0, 0, 0, 0, 0],\n",
              "        [0, 0, 0, 0, 0, 0, 0, 0, 0, 0],\n",
              "        [0, 0, 0, 0, 0, 0, 0, 0, 0, 0],\n",
              "        [0, 0, 0, 0, 0, 0, 0, 0, 0, 0]])"
            ]
          },
          "metadata": {
            "tags": []
          },
          "execution_count": 30
        }
      ]
    },
    {
      "cell_type": "markdown",
      "metadata": {
        "id": "MRc8WDvYE1AW"
      },
      "source": [
        "现在，我们将遍历预测目标对，并在每次发生特定位置时向矩阵内的值添加一个。"
      ]
    },
    {
      "cell_type": "code",
      "metadata": {
        "id": "jrJ0HiqgEtEv"
      },
      "source": [
        "for p in stacked:\n",
        "  t1,p1 = p.tolist()\n",
        "  cmt[t1,p1]=cmt[t1,p1]+1"
      ],
      "execution_count": null,
      "outputs": []
    },
    {
      "cell_type": "markdown",
      "metadata": {
        "id": "S9oRPMOGE-QI"
      },
      "source": [
        "这为我们提供了以下混淆矩阵张量。"
      ]
    },
    {
      "cell_type": "code",
      "metadata": {
        "colab": {
          "base_uri": "https://localhost:8080/"
        },
        "id": "9uZzPtFqE9WQ",
        "outputId": "cc9e9b7e-c1bf-47ed-9d05-699b2d256b8c"
      },
      "source": [
        "cmt"
      ],
      "execution_count": null,
      "outputs": [
        {
          "output_type": "execute_result",
          "data": {
            "text/plain": [
              "tensor([[4711,   10,   58,  588,   40,   16,  501,    1,   73,    2],\n",
              "        [   0, 5742,    0,  179,   31,    3,   43,    0,    2,    0],\n",
              "        [  49,    8, 3666,   71, 1019,   11, 1082,    0,   94,    0],\n",
              "        [ 157,   62,   24, 5347,  156,    8,  224,    1,   20,    1],\n",
              "        [   9,   17,  507,  369, 4590,    2,  461,    0,   45,    0],\n",
              "        [   0,    3,    0,    3,    0, 5657,    1,  251,   25,   60],\n",
              "        [1142,   11,  745,  352,  863,    3, 2781,    1,  102,    0],\n",
              "        [   0,    0,    0,    0,    0,  429,    0, 5216,   11,  344],\n",
              "        [  22,    7,   22,   36,   33,   85,  123,   21, 5645,    6],\n",
              "        [   1,    0,    0,    2,    1,  135,    0,  361,    6, 5494]])"
            ]
          },
          "metadata": {
            "tags": []
          },
          "execution_count": 32
        }
      ]
    },
    {
      "cell_type": "markdown",
      "metadata": {
        "id": "TEPiCs5qFKZG"
      },
      "source": [
        "## 4.绘制混淆矩阵\n",
        "\n",
        "为了将实际的混淆矩阵生成为numpy.ndarray，我们使用sklearn.metrics库中的confusion_matrix（）函数。 让我们将其与其他需要的导入一起导入。"
      ]
    },
    {
      "cell_type": "code",
      "metadata": {
        "id": "_mowlGtpFCfQ"
      },
      "source": [
        "import matplotlib.pyplot as plt\n",
        "from sklearn.metrics import confusion_matrix\n",
        "# from resources.plotcm import plot_confusion_matrix"
      ],
      "execution_count": null,
      "outputs": []
    },
    {
      "cell_type": "markdown",
      "metadata": {
        "id": "KvCfIaOKFim-"
      },
      "source": [
        "我们可以像这样生成混淆矩阵："
      ]
    },
    {
      "cell_type": "code",
      "metadata": {
        "colab": {
          "base_uri": "https://localhost:8080/"
        },
        "id": "4thj65niFbsx",
        "outputId": "452f72b0-7c8a-4fc2-b569-cbe090c409d6"
      },
      "source": [
        "cm = confusion_matrix(train_set.targets,train_preds.argmax(dim=1))\n",
        "print(type(cm))\n",
        "print(cm)"
      ],
      "execution_count": null,
      "outputs": [
        {
          "output_type": "stream",
          "text": [
            "<class 'numpy.ndarray'>\n",
            "[[4711   10   58  588   40   16  501    1   73    2]\n",
            " [   0 5742    0  179   31    3   43    0    2    0]\n",
            " [  49    8 3666   71 1019   11 1082    0   94    0]\n",
            " [ 157   62   24 5347  156    8  224    1   20    1]\n",
            " [   9   17  507  369 4590    2  461    0   45    0]\n",
            " [   0    3    0    3    0 5657    1  251   25   60]\n",
            " [1142   11  745  352  863    3 2781    1  102    0]\n",
            " [   0    0    0    0    0  429    0 5216   11  344]\n",
            " [  22    7   22   36   33   85  123   21 5645    6]\n",
            " [   1    0    0    2    1  135    0  361    6 5494]]\n"
          ],
          "name": "stdout"
        }
      ]
    },
    {
      "cell_type": "markdown",
      "metadata": {
        "id": "xAc4CTO4F89e"
      },
      "source": [
        "PyTorch张量是类似数组的Python对象，因此我们可以将它们直接传递给confusion_matrix（）函数。 我们相对于train_preds张量的第一维传递训练集标签张量（targets）和argmax，这为我们提供了混淆矩阵数据结构。\n",
        "\n",
        "要实际绘制混淆矩阵，我们需要一些自定义代码，这些代码可以放入名为plotcm的本地文件中。 该函数称为plot_confusion_matrix（）。 plotcm.py文件需要包含以下内容，并且位于当前目录的resources文件夹中。\n",
        "\n",
        "请注意，您也可以只将此代码复制到您的笔记本中，或进行其他操作以避免导入。"
      ]
    },
    {
      "cell_type": "code",
      "metadata": {
        "id": "RQAo5RxUFs_w"
      },
      "source": [
        "import itertools\n",
        "import numpy as np\n",
        "import matplotlib.pyplot as plt\n",
        "\n",
        "def plot_confusion_matrix(cm, classes, normalize=False, title='Confusion matrix', cmap=plt.cm.Blues):\n",
        "    if normalize:\n",
        "        cm = cm.astype('float') / cm.sum(axis=1)[:, np.newaxis]\n",
        "        print(\"Normalized confusion matrix\")\n",
        "    else:\n",
        "        print('Confusion matrix, without normalization')\n",
        "\n",
        "    print(cm)\n",
        "    plt.imshow(cm, interpolation='nearest', cmap=cmap)\n",
        "    plt.title(title)\n",
        "    plt.colorbar()\n",
        "    tick_marks = np.arange(len(classes))\n",
        "    plt.xticks(tick_marks, classes, rotation=45)\n",
        "    plt.yticks(tick_marks, classes)\n",
        "\n",
        "    fmt = '.2f' if normalize else 'd'\n",
        "    thresh = cm.max() / 2.\n",
        "    for i, j in itertools.product(range(cm.shape[0]), range(cm.shape[1])):\n",
        "        plt.text(j, i, format(cm[i, j], fmt), horizontalalignment=\"center\", color=\"white\" if cm[i, j] > thresh else \"black\")\n",
        "\n",
        "    plt.tight_layout()\n",
        "    plt.ylabel('True label')\n",
        "    plt.xlabel('Predicted label')"
      ],
      "execution_count": null,
      "outputs": []
    },
    {
      "cell_type": "markdown",
      "metadata": {
        "id": "sn1unkSBGKOJ"
      },
      "source": [
        "我们已经准备好绘制混淆矩阵，但是首先我们需要创建一个预测类名称列表，以传递给plot_confusion_matrix（）函数。 下表给出了我们的预测类及其相应的索引：\n",
        "\n",
        "* 0\tT-shirt/top\n",
        "* 1\tTrouser\n",
        "* 2\tPullover\n",
        "* 3\tDress\n",
        "* 4\tCoat\n",
        "* 5\tSandal\n",
        "* 6\tShirt\n",
        "* 7\tSneaker\n",
        "* 8\tBag\n",
        "* 9\tAnkle boot"
      ]
    },
    {
      "cell_type": "code",
      "metadata": {
        "colab": {
          "base_uri": "https://localhost:8080/"
        },
        "id": "hZp2e48NGict",
        "outputId": "8656b1e5-0ad7-4b2f-d6e3-6d6adb15c2bf"
      },
      "source": [
        "train_set.classes"
      ],
      "execution_count": null,
      "outputs": [
        {
          "output_type": "execute_result",
          "data": {
            "text/plain": [
              "['T-shirt/top',\n",
              " 'Trouser',\n",
              " 'Pullover',\n",
              " 'Dress',\n",
              " 'Coat',\n",
              " 'Sandal',\n",
              " 'Shirt',\n",
              " 'Sneaker',\n",
              " 'Bag',\n",
              " 'Ankle boot']"
            ]
          },
          "metadata": {
            "tags": []
          },
          "execution_count": 41
        }
      ]
    },
    {
      "cell_type": "code",
      "metadata": {
        "colab": {
          "base_uri": "https://localhost:8080/",
          "height": 919
        },
        "id": "nobSYWOwGCAv",
        "outputId": "1d2a9096-41af-4796-957f-7d8d172dcdd1"
      },
      "source": [
        "plt.figure(figsize=(10,10))\n",
        "plot_confusion_matrix(cm, train_set.classes)"
      ],
      "execution_count": null,
      "outputs": [
        {
          "output_type": "stream",
          "text": [
            "Confusion matrix, without normalization\n",
            "[[4711   10   58  588   40   16  501    1   73    2]\n",
            " [   0 5742    0  179   31    3   43    0    2    0]\n",
            " [  49    8 3666   71 1019   11 1082    0   94    0]\n",
            " [ 157   62   24 5347  156    8  224    1   20    1]\n",
            " [   9   17  507  369 4590    2  461    0   45    0]\n",
            " [   0    3    0    3    0 5657    1  251   25   60]\n",
            " [1142   11  745  352  863    3 2781    1  102    0]\n",
            " [   0    0    0    0    0  429    0 5216   11  344]\n",
            " [  22    7   22   36   33   85  123   21 5645    6]\n",
            " [   1    0    0    2    1  135    0  361    6 5494]]\n"
          ],
          "name": "stdout"
        },
        {
          "output_type": "display_data",
          "data": {
            "image/png": "[encoded data removed]",
            "text/plain": [
              "<Figure size 720x720 with 2 Axes>"
            ]
          },
          "metadata": {
            "tags": [],
            "needs_background": "light"
          }
        }
      ]
    },
    {
      "cell_type": "markdown",
      "metadata": {
        "id": "YI9QDQ9RGvb9"
      },
      "source": [
        "### 解释混淆矩阵\n",
        "---\n",
        "\n",
        "混淆矩阵具有三个轴：\n",
        "\n",
        "* 预测标签\n",
        "\n",
        "* 真实标签\n",
        "\n",
        "* 热图值（彩色）\n",
        "\n",
        "预测标签和真实标签向我们显示了我们正在处理的预测类。 矩阵对角线表示矩阵中预测和真值相同的位置，因此我们希望此处的热图更暗。\n",
        "\n",
        "任何不在对角线上的值都是不正确的预测，因为预测和真实标签不匹配。 要读取该图，我们可以使用以下步骤：\n",
        "\n",
        "* 在水平轴上选择一个预测标签。\n",
        "\n",
        "* 检查该标签的对角线位置以查看正确的总数。\n",
        "\n",
        "* 检查其他非对角线位置以查看网络混乱之处。\n",
        "\n",
        "如果我们考虑一下，这是很有意义的。 随着我们模型的学习，我们将看到对角线之外的数字越来越小。\n",
        "\n",
        "\n",
        "## 总结\n",
        "\n",
        "至此，我们已经完成了许多在PyTorch中构建和训练CNN的工作。"
      ]
    },
    {
      "cell_type": "code",
      "metadata": {
        "id": "ScxF4JDGGcHO"
      },
      "source": [
        ""
      ],
      "execution_count": null,
      "outputs": []
    }
  ]
}
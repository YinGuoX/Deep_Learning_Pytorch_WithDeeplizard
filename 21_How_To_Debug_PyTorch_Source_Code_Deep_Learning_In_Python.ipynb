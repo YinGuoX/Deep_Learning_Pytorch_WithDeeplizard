{
  "nbformat": 4,
  "nbformat_minor": 0,
  "metadata": {
    "colab": {
      "name": "21_How To Debug PyTorch Source Code - Deep Learning In Python.ipynb",
      "provenance": [],
      "collapsed_sections": [],
      "authorship_tag": "ABX9TyMb+XAwb54yNREB5k3muke1",
      "include_colab_link": true
    },
    "kernelspec": {
      "name": "python3",
      "display_name": "Python 3"
    },
    "language_info": {
      "name": "python"
    }
  },
  "cells": [
    {
      "cell_type": "markdown",
      "metadata": {
        "id": "view-in-github",
        "colab_type": "text"
      },
      "source": [
        "<a href=\"https://colab.research.google.com/github/YinGuoX/Deep_Learning_Pytorch_WithDeeplizard/blob/master/21_How_To_Debug_PyTorch_Source_Code_Deep_Learning_In_Python.ipynb\" target=\"_parent\"><img src=\"https://colab.research.google.com/assets/colab-badge.svg\" alt=\"Open In Colab\"/></a>"
      ]
    },
    {
      "cell_type": "markdown",
      "metadata": {
        "id": "FYO8IUr6mKLd"
      },
      "source": [
        "# How To Debug PyTorch Source Code\n",
        "\n",
        "在这一集中，我们将看到如何使用Visual Studio Code IDE调试PyTorch源代码。\n",
        "\n",
        "## 1.入门调试PyTorch\n",
        "当然，第一步是在系统上安装Visual Studio Code。 一旦完成，我们就可以开始了。\n",
        "\n",
        "---\n",
        "\n",
        "### 调试程序\n",
        "\n",
        "为了调试，我们需要一个可以用来启动的程序。\n",
        "\n",
        "我们在这里创建了一个示例程序，用于调试一些PyTorch源代码。我们将调试时尚MNIST数据集，它实际上存在于torchvision包中。但不管怎样，一切都是一样的。\n",
        "\n",
        "\n",
        "```\n",
        "import torch\n",
        "import torchvision\n",
        "import torchvision.transforms as transforms\n",
        "\n",
        "train_set = torchvision.datasets.FashionMNIST(\n",
        "    root='./data'\n",
        "    ,train=True\n",
        "    ,download=True\n",
        "    ,transform=transforms.Compose([\n",
        "        transforms.ToTensor()\n",
        "    ])\n",
        ")\n",
        "\n",
        "image, label = train_set[0]\n",
        "\n",
        "print(image.shape)\n",
        "```\n",
        "\n",
        "---\n",
        "### 如何调试\n",
        "\n",
        "为了在Visual Studio Code中调试任何python代码，我们需要安装python调试扩展。 这将为我们提供调试功能。 安装调试扩展后，请按照以下步骤操作。\n",
        "\n",
        "* 放置一个断点\n",
        "\n",
        "* 在调试模式下运行程序\n",
        "\n",
        "* 使用键盘手动控制程序执行\n",
        "\n",
        "* 走进PyTorch\n",
        "请注意，还需要调试导入的库（例如PyTorch）。 我们需要在VS Code的launch.json文件中将justMyCode属性设置为false。\n",
        "\n",
        "以下是示例启动配置。\n",
        "\n",
        "\n",
        "```\n",
        "{\n",
        "    \"name\": \"Python: Current File\",\n",
        "    \"type\": \"python\",\n",
        "    \"request\": \"launch\",\n",
        "    \"program\": \"${file}\",\n",
        "    \"justMyCode\": false,\n",
        "    \"cwd\": \"${fileDirname}\"\n",
        "}\n",
        "```\n",
        "\n",
        "调试代码是理解正在发生的事情的最佳方法之一。请注意，我们不必编写太多的代码来实际设置调试PyTorch。在我们的示例中，只有15或16行代码。\n",
        "\n",
        "为了调试PyTorch源代码，我们只需要一条进入要调试的PyTorch代码的路径。\n"
      ]
    },
    {
      "cell_type": "code",
      "metadata": {
        "id": "6HSIV5xml-_R"
      },
      "source": [
        ""
      ],
      "execution_count": null,
      "outputs": []
    }
  ]
}
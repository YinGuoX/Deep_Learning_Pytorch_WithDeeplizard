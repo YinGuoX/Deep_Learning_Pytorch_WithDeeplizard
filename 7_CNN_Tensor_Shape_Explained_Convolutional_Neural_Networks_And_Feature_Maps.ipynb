{
  "nbformat": 4,
  "nbformat_minor": 0,
  "metadata": {
    "colab": {
      "name": "7_CNN Tensor Shape Explained - Convolutional Neural Networks And Feature Maps.ipynb",
      "provenance": [],
      "collapsed_sections": [],
      "toc_visible": true,
      "authorship_tag": "ABX9TyM2tSo7gFjxfzAlyJt3F3Qc",
      "include_colab_link": true
    },
    "kernelspec": {
      "name": "python3",
      "display_name": "Python 3"
    },
    "language_info": {
      "name": "python"
    }
  },
  "cells": [
    {
      "cell_type": "markdown",
      "metadata": {
        "id": "view-in-github",
        "colab_type": "text"
      },
      "source": [
        "<a href=\"https://colab.research.google.com/github/YinGuoX/Deep_Learning_Pytorch_WithDeeplizard/blob/master/7_CNN_Tensor_Shape_Explained_Convolutional_Neural_Networks_And_Feature_Maps.ipynb\" target=\"_parent\"><img src=\"https://colab.research.google.com/assets/colab-badge.svg\" alt=\"Open In Colab\"/></a>"
      ]
    },
    {
      "cell_type": "markdown",
      "metadata": {
        "id": "8pRriQ6ZlgRp"
      },
      "source": [
        "# CNN Tensor Input Shape And Feature Maps\n",
        " 在本文中，我们将看一个实际的示例，该示例演示张量概念的秩，轴和形状的使用。为此，我们将考虑卷积神经网络的张量输入。 事不宜迟，让我们开始吧。\n",
        "\n",
        "## 1. CNN输入的形状\n",
        "CNN输入的形状通常具有四个长度。 这意味着我们有一个带有四个轴的4级张量。 张量形状中的每个索引代表一个特定的轴，并且每个索引处的值给出了相应轴的长度。\n",
        "\n",
        "\n",
        "张量的每个轴通常代表某种类型的现实世界或输入数据的逻辑特征。 如果我们了解这些特征中的每一个及其在张量中的轴位置，那么我们可以对张量数据的整体结构有一个很好的了解。\n",
        "\n",
        "\n",
        "为了解决这个问题，我们将向后考虑从右到左的轴。 \n",
        "\n",
        "\n",
        "**请记住，最后一个轴（这是我们将要开始的位置）是实际数字或数据值所在的位置。**\n",
        "\n",
        "\n",
        "如果我们沿着最后一个轴运行，并且停止检查那里的某个元素，那么我们将查看一个数字。 如果我们沿任何其他轴运行，则元素是多维数组。\n",
        "\n",
        "\n",
        "对于图像，原始数据以像素的形式出现，该像素由数字表示，并使用高度和宽度这两个维度进行布局。\n",
        "\n",
        "\n",
        "**Image Height And Width:**\n",
        "\n",
        "\n",
        "图像的高度和宽度在最后两个轴上表示。 可能的值是28 x 28，就像我们将在CNN项目中使用的fashion-MNIST数据集中的图像数据一样，还是VGG16神经网络使用的224 x 224图像大小，或者 我们可以想象的其他图像尺寸。\n",
        "\n",
        "\n",
        "**Image Color Channels:**\n",
        "\n",
        "\n",
        "下一个轴代表颜色通道。 对于RGB图像，此处的典型值为3；如果使用灰度图像，则典型值为1。 此颜色通道解释仅适用于输入张量。\n",
        "\n",
        "\n",
        "稍后我们将揭示，在张量通过卷积层之后，此轴的解释会发生变化。\n",
        "\n",
        "\n",
        "到现在为止，已经使用了倒数三个轴，我们已经将完整的图像表示为张量。 我们具有使用三个轴以张量形式布置的颜色通道以及高度和宽度。\n",
        "\n",
        "\n",
        "就目前的数据访问而言，我们需要三个索引。 我们需要选择颜色通道，高度和宽度以达到特定的像素值。\n",
        "\n",
        "\n",
        "**Image Batches：**\n",
        "下一个轴代表批量大小。 在神经网络中，我们通常处理与单个样本相对的一批样本，因此该轴的长度告诉我们该批次中有多少个样本。\n",
        "\n",
        "\n",
        "这使得我们可以看到一整批图像是用一个rank-4张量表示的。\n",
        "\n",
        "\n",
        "* [Batch, Channels, Height, Width]\n",
        "\n",
        "\n",
        "假设给定张量有如下形状[3，1，28，28]。利用这个形状，我们可以确定我们有一批三幅图像。\n",
        "每个图像都有一个颜色通道，图像的高度和宽度分别为28 x 28。\n",
        "\n",
        "\n",
        "给定这样的图像张量，我们可以使用四个索引导航到批处理中特定图像的特定颜色通道中的特定像素。\n",
        "\n",
        "\n",
        "**NCHW vs NHWC vs CHWN:**\n",
        "\n",
        "\n",
        "阅读api文档和学术论文时，看到一个n位代替了批中样本数时，它是常见的。\n",
        "\n",
        "\n",
        "此外，我们经常遇到的另一个差异是对维度进行重新排序:\n",
        "* NCHW\n",
        "* NHWC\n",
        "* CHWN\n",
        "\n",
        "\n",
        "如我们所见，PyTorch使用NCHW，并且默认情况下TensorFlow和Keras使用NHWC（可以配置）是这种情况。 最终，选择使用哪一个主要取决于性能。 一些库和算法更适合这些顺序中的一种。\n",
        "\n",
        "\n",
        "## 2.CNN的输出通道和特征图\n",
        "让我们看一下在通过卷积层转换张量后颜色通道轴的解释如何变化：\n",
        "\n",
        "\n",
        "假设我们有一个张量，其中包含来自单个28 x 28灰度图像的数据。 这为我们提供了以下张量形状：[1，1，28，28]。\n",
        "\n",
        "\n",
        "现在假设这个图像被传递给我们的cnn并通过第一个卷积层。 当发生这种情况时，我们的张量和基础数据的形状会被卷积运算改变。\n",
        "\n",
        "\n",
        "卷积会更改高度和宽度尺寸以及通道数。 输出通道的数量根据卷积层中使用的滤波器的数量而变化。\n",
        "\n",
        "\n",
        "假设我们有三个卷积滤波器，让我们看看Channels轴会发生什么。\n",
        "\n",
        "\n",
        "因为我们有三个卷积滤波器，所以我们将有三个来自卷积层的通道输出。这些通道是从卷积层输出的，因此命名为输出通道而不是颜色通道。\n",
        "\n",
        "\n",
        "三个滤波器中的每一个卷积原始的单个输入通道，产生三个输出通道。输出通道仍由像素组成，但像素已通过卷积运算进行了修改。根据过滤器的大小，输出的高度和宽度尺寸也会发生变化，但我们将把这些细节留待以后发布。\n",
        "\n",
        "\n",
        "**特征图：**\n",
        "对于输出通道，我们不再有颜色通道，而是修改通道，我们称之为特征映射。这些所谓的特征映射是使用输入颜色通道和卷积滤波器发生的卷积的输出。\n",
        "\n",
        "\n",
        "* Feature maps are the output channels created from the convolutions.\n",
        "\n",
        "\n",
        "之所以使用“特征”一词，是因为输出代表图像中的特定特征，例如边缘，这些映射随着网络在训练过程中的学习而出现，随着我们深入网络而变得更加复杂。"
      ]
    },
    {
      "cell_type": "code",
      "metadata": {
        "id": "6HPQPoX-ld9l"
      },
      "source": [
        ""
      ],
      "execution_count": null,
      "outputs": []
    }
  ]
}
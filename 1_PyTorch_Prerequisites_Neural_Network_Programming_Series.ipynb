{
  "nbformat": 4,
  "nbformat_minor": 0,
  "metadata": {
    "colab": {
      "name": "1_PyTorch Prerequisites - Neural Network Programming Series.ipynb",
      "provenance": [],
      "collapsed_sections": [],
      "authorship_tag": "ABX9TyPIux7aakpOczaYlxQkTeU1",
      "include_colab_link": true
    },
    "kernelspec": {
      "name": "python3",
      "display_name": "Python 3"
    },
    "language_info": {
      "name": "python"
    }
  },
  "cells": [
    {
      "cell_type": "markdown",
      "metadata": {
        "id": "view-in-github",
        "colab_type": "text"
      },
      "source": [
        "<a href=\"https://colab.research.google.com/github/YinGuoX/Deep_Learning_Pytorch_WithDeeplizard/blob/master/1_PyTorch_Prerequisites_Neural_Network_Programming_Series.ipynb\" target=\"_parent\"><img src=\"https://colab.research.google.com/assets/colab-badge.svg\" alt=\"Open In Colab\"/></a>"
      ]
    },
    {
      "cell_type": "markdown",
      "metadata": {
        "id": "IxtGTrjOKr5c"
      },
      "source": [
        "# Pytorch的预备技能与教学大纲\n",
        "* 详细看对应的英文网页较好https://deeplizard.com/learn/video/v5cngxo4mIg\n",
        "## 1. Python的编程经验\n",
        "## 2. 神经网络的知识\n",
        "## 3.教学大纲\n",
        "  * 张量和操作\n",
        "  * 神经网络的训练"
      ]
    },
    {
      "cell_type": "code",
      "metadata": {
        "id": "haBarK45KnFd"
      },
      "source": [
        ""
      ],
      "execution_count": null,
      "outputs": []
    }
  ]
}
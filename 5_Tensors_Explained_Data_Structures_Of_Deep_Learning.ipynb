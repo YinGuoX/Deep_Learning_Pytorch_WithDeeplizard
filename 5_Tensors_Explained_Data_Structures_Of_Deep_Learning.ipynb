{
  "nbformat": 4,
  "nbformat_minor": 0,
  "metadata": {
    "colab": {
      "name": "5_Tensors Explained - Data Structures Of Deep Learning.ipynb",
      "provenance": [],
      "collapsed_sections": [],
      "authorship_tag": "ABX9TyMx35mispv86qp99JP0jy0+",
      "include_colab_link": true
    },
    "kernelspec": {
      "name": "python3",
      "display_name": "Python 3"
    },
    "language_info": {
      "name": "python"
    }
  },
  "cells": [
    {
      "cell_type": "markdown",
      "metadata": {
        "id": "view-in-github",
        "colab_type": "text"
      },
      "source": [
        "<a href=\"https://colab.research.google.com/github/YinGuoX/Deep_Learning_Pytorch_WithDeeplizard/blob/master/5_Tensors_Explained_Data_Structures_Of_Deep_Learning.ipynb\" target=\"_parent\"><img src=\"https://colab.research.google.com/assets/colab-badge.svg\" alt=\"Open In Colab\"/></a>"
      ]
    },
    {
      "cell_type": "markdown",
      "metadata": {
        "id": "2jJo_nk1Z7hp"
      },
      "source": [
        "# Introducing Tensors For Deep Learning\n",
        "我们将讨论张量，术语，并查看张量索引。 这将为我们提供了解深度学习中使用的一些基本张量属性所需的知识。 事不宜迟，让我们开始吧。\n",
        "\n",
        "## 1.什么是Tensor?\n",
        "神经网络中的输入、输出和变换都是用张量表示的，因此，神经网络编程大量使用张量。\n",
        "* 张量是神经网络使用的主要数据结构。\n",
        "\n",
        "张量的概念是其他更具体概念的数学概括。 让我们看一下张量的一些特定实例。\n",
        "\n",
        "**这些示例都是张量的更一般概念的特定实例：**\n",
        "* number\n",
        "* scalar\n",
        "* array\n",
        "* vector\n",
        "* 2d-array\n",
        "* matrix\n",
        "我们将上面这些张量实例分成两组：\n",
        "* number,array,2d-array：这些是计算机科学中经常使用的术语\n",
        "* scalar.vector,matrix：这些都是数学上经常使用的术语\n",
        "\n",
        "我们经常看到这样的事情，不同的研究领域使用不同的词来表达相同的概念。 在深入学习中，我们通常只把所有这些都称为张量。\n",
        "\n",
        "我们继续深究这些术语，发现这些都是相互对应的：\n",
        "* number:scalar\n",
        "* array:vector\n",
        "* 2d-array:matrix\n",
        "\n",
        "**获取这些Tensor的索引要求**\n",
        "* number:scaler：Index required：0\n",
        "* array:vector：Index required：1\n",
        "* 2d-array:matrix：Index required：2"
      ]
    },
    {
      "cell_type": "code",
      "metadata": {
        "colab": {
          "base_uri": "https://localhost:8080/"
        },
        "id": "2rmG4h__Z1sV",
        "outputId": "ef2ec2ec-095e-48b3-cf86-3cde41cbf4fb"
      },
      "source": [
        "# array:vector\n",
        "a = [1,2,3,4]\n",
        "a[1]"
      ],
      "execution_count": null,
      "outputs": [
        {
          "output_type": "execute_result",
          "data": {
            "text/plain": [
              "2"
            ]
          },
          "metadata": {
            "tags": []
          },
          "execution_count": 1
        }
      ]
    },
    {
      "cell_type": "code",
      "metadata": {
        "colab": {
          "base_uri": "https://localhost:8080/"
        },
        "id": "XH3ARFL7cRqi",
        "outputId": "3267e53f-670d-4d10-f1fe-aea5eace6454"
      },
      "source": [
        "# 2d-array:matrix\n",
        "dd = [\n",
        "      [1,2,3],\n",
        "      [4,5,6],\n",
        "      [7,8,9]\n",
        "]\n",
        "dd[0][2]"
      ],
      "execution_count": null,
      "outputs": [
        {
          "output_type": "execute_result",
          "data": {
            "text/plain": [
              "3"
            ]
          },
          "metadata": {
            "tags": []
          },
          "execution_count": 2
        }
      ]
    },
    {
      "cell_type": "markdown",
      "metadata": {
        "id": "rzTMdtECcpjB"
      },
      "source": [
        "## 2.Tensor是泛化的\n",
        "让我们看看在我们一直在考虑的这些数据结构中，需要两个以上的索引来访问（指）特定元素时会发生什么。\n",
        "\n",
        "当需要两个以上的索引来访问特定元素时，我们将停止为结构指定特定名称，而开始使用更通用的语言。\n",
        "\n",
        "* 在数学上：不再使用标量，向量和矩阵之类的词，而是开始使用Tensor或nd-Tensor。 n告诉我们访问结构中特定元素所需的索引数。\n",
        "* 在计算机上：我们不再使用数字，数组，二维数组之类的词，而开始使用多维数组或nd-array一词。 n告诉我们访问结构中特定元素所需的索引数。\n",
        "\n",
        "因此：在神经网络编程的实际应用中，张量和nd-array是同一个集合。\n",
        "\n",
        "所以：张量是multidiemnsional arrays或nd-array的简称。 我们说张量是泛化的原因是因为我们对所有n值都使用了张量这个词，如下所示：\n",
        "* A scalar is 0维Tensor\n",
        "* A vector is 1维Tensor\n",
        "* A matrix is 2维Tensor\n",
        "* A nd-array is n维Tensor\n",
        "\n",
        "张量使我们可以舍弃这些特定的术语，而只需使用n来标识我们正在处理的维数。\n",
        "\n",
        "关于张量的维数要注意的一件事是，它与我们在矢量空间中引用矢量的维数时所表示的含义不同。 张量的维数不能告诉我们张量中存在多少个分量。\n",
        "\n",
        "如果我们有一个来自三维欧几里德空间的三维矢量，那么我们就有一个带有三个分量的有序三元组。\n",
        "\n",
        "但是，三维张量可以具有三个以上的分量。 例如，我们的二维张量dd有9个分量。"
      ]
    },
    {
      "cell_type": "code",
      "metadata": {
        "id": "UdSnsf1pcdJh"
      },
      "source": [
        ""
      ],
      "execution_count": null,
      "outputs": []
    }
  ]
}
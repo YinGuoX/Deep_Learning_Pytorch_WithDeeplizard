{
  "nbformat": 4,
  "nbformat_minor": 0,
  "metadata": {
    "colab": {
      "name": "8_PyTorch Tensors Explained - Neural Network Programming.ipynb",
      "provenance": [],
      "collapsed_sections": [],
      "authorship_tag": "ABX9TyPg3zoi2/4hZCqfgQK4uk/a",
      "include_colab_link": true
    },
    "kernelspec": {
      "name": "python3",
      "display_name": "Python 3"
    },
    "language_info": {
      "name": "python"
    }
  },
  "cells": [
    {
      "cell_type": "markdown",
      "metadata": {
        "id": "view-in-github",
        "colab_type": "text"
      },
      "source": [
        "<a href=\"https://colab.research.google.com/github/YinGuoX/Deep_Learning_Pytorch_WithDeeplizard/blob/master/8_PyTorch_Tensors_Explained_Neural_Network_Programming.ipynb\" target=\"_parent\"><img src=\"https://colab.research.google.com/assets/colab-badge.svg\" alt=\"Open In Colab\"/></a>"
      ]
    },
    {
      "cell_type": "markdown",
      "metadata": {
        "id": "XX-WHwvSQXMi"
      },
      "source": [
        "# Introducing PyTorch Tensors\n",
        "PyTorch张量是在的中编程神经网络时所使用的数据结构。\n",
        "\n",
        "在神经网络编程时，数据预处理往往是整个过程中的第一步，数据预处理的目标之一就是将原始输入数据转化为张量形式。\n",
        "\n",
        "## 1. torch.Tensor类的实例\n",
        "PyTorch张量是torch.Tensor Python类的实例。 我们可以使用类构造函数创建torch.Tensor对象，如下所示："
      ]
    },
    {
      "cell_type": "code",
      "metadata": {
        "id": "cwVh0uRoQHrX"
      },
      "source": [
        "import torch"
      ],
      "execution_count": null,
      "outputs": []
    },
    {
      "cell_type": "code",
      "metadata": {
        "colab": {
          "base_uri": "https://localhost:8080/"
        },
        "id": "KTvrWe-hSfli",
        "outputId": "64888f0e-05ba-495f-d7a7-4d129cf85239"
      },
      "source": [
        "t = torch.Tensor()\n",
        "type(t)"
      ],
      "execution_count": null,
      "outputs": [
        {
          "output_type": "execute_result",
          "data": {
            "text/plain": [
              "torch.Tensor"
            ]
          },
          "metadata": {
            "tags": []
          },
          "execution_count": 2
        }
      ]
    },
    {
      "cell_type": "markdown",
      "metadata": {
        "id": "7AwiNEAvSqP4"
      },
      "source": [
        "这将创建一个空的张量（没有数据的张量），但是我们将在片刻内添加数据。\n",
        "\n",
        "## 2.Tensor的属性\n",
        "首先，让我们看一些张量属性。 每个torch.Tensor具有以下属性：\n",
        "* torch.dtype\n",
        "* torch.device\n",
        "* torch.layout\n"
      ]
    },
    {
      "cell_type": "code",
      "metadata": {
        "colab": {
          "base_uri": "https://localhost:8080/"
        },
        "id": "EyF_cJ8QSlqh",
        "outputId": "f80382a7-372d-46b0-d798-8c114aee72d1"
      },
      "source": [
        "print(t.dtype)\n",
        "print(t.device)\n",
        "print(t.layout)"
      ],
      "execution_count": null,
      "outputs": [
        {
          "output_type": "stream",
          "text": [
            "torch.float32\n",
            "cpu\n",
            "torch.strided\n"
          ],
          "name": "stdout"
        }
      ]
    },
    {
      "cell_type": "markdown",
      "metadata": {
        "id": "Loxy_PI-TUxw"
      },
      "source": [
        "torch.dtype的各种类型：\n",
        "\n",
        "注意每种类型都有一个CPU和GPU版本。关于张量数据类型，需要记住的一点是，张量之间的张量操作必须发生在具有相同数据类型的张量之间。但是，此语句仅适用于低于1.3的PyTorch版本。详细信息请参见下面关于PyTorch张量类型提升的部分。\n",
        "\n",
        "\n",
        "| Data type | dtype | CPU tensor | GPU tensor |\n",
        "| :-----: | :----: | :----: | :----: |\n",
        "| 32-bit floating point | torch.float32 | torch.FloatTensor | torch.cuda.FloatTensor|\n",
        "| 64-bit floating point | torch.float64 | torch.DoubleTensor | torch.cuda.DoubleTensor|\n",
        "| 16-bit floating point | torch.float16 | torch.HalfTensor | torch.cuda.HalfTensor|\n",
        "| 8-bit integer(unsigned) | torch.uint8 | torch.ByteTensor | torch.cuda.ByteTensor|\n",
        "| 8-bit integer(signed) | torch.int8 | torch.CharTensor | torch.cuda.CharTensor|\n",
        "| 16-bit integer(signed) | torch.int16 | torch.ShortTensor | torch.cuda.ShortTensor|\n",
        "| 32-bit integer(signed) | torch.int32 | torch.IntTensor | torch.cuda.IntTensor|\n",
        "| 64-bit integer(signed) | torch.int64 | torch.LongTensor | torch.cuda.LongTensor|\n",
        "\n",
        "\n"
      ]
    },
    {
      "cell_type": "markdown",
      "metadata": {
        "id": "Xk_86dqvVqlB"
      },
      "source": [
        "Pytorch Tensor的类型提升\n",
        "\n",
        "从PyTorch 1.3版开始，算术和比较运算可以执行提升为普通dtype的混合类型运算。\n",
        "\n",
        "以下示例在1.2版中是不允许的。 但是，在1.3版及更高版本中，相同的代码将返回带有dtype = torch.float32的张量。"
      ]
    },
    {
      "cell_type": "code",
      "metadata": {
        "colab": {
          "base_uri": "https://localhost:8080/"
        },
        "id": "qeFYYyG7TGzB",
        "outputId": "c5f4b23e-e026-480f-a977-a1516f915525"
      },
      "source": [
        "torch.tensor([1],dtype=torch.int)+torch.tensor([1],dtype=torch.float32)"
      ],
      "execution_count": null,
      "outputs": [
        {
          "output_type": "execute_result",
          "data": {
            "text/plain": [
              "tensor([2.])"
            ]
          },
          "metadata": {
            "tags": []
          },
          "execution_count": 4
        }
      ]
    },
    {
      "cell_type": "markdown",
      "metadata": {
        "id": "wjB-nuE1WBSn"
      },
      "source": [
        "有关更多详细信息，请参见完整的[文档](https://github.com/pytorch/pytorch/blob/master/docs/source/tensor_attributes.rst#type-promotion-doc):\n",
        "* torch.result_type Provide function to determine result of mixed-type ops [26012](https://github.com/pytorch/pytorch/pull/26012).\n",
        "* torch.can_cast Expose casting rules for type promotion [26805](https://github.com/pytorch/pytorch/pull/26805).\n",
        "* torch.promote_types Expose promotion logic [26655](https://github.com/pytorch/pytorch/pull/26655)."
      ]
    },
    {
      "cell_type": "code",
      "metadata": {
        "colab": {
          "base_uri": "https://localhost:8080/"
        },
        "id": "NnaOdrC_V83R",
        "outputId": "7344e528-f568-400d-f7a7-f308c9aea2bc"
      },
      "source": [
        "torch.result_type"
      ],
      "execution_count": null,
      "outputs": [
        {
          "output_type": "execute_result",
          "data": {
            "text/plain": [
              "<function _VariableFunctionsClass.result_type>"
            ]
          },
          "metadata": {
            "tags": []
          },
          "execution_count": 5
        }
      ]
    },
    {
      "cell_type": "markdown",
      "metadata": {
        "id": "oZ7rdLIZWu6w"
      },
      "source": [
        "torch.device的使用：\n",
        "\n",
        "在我们的例子中，设备 CPU 指定了分配张量数据的设备(CPU 或 GPU)。这决定了给定张量的张量计算将在哪里进行。\n",
        "\n",
        "支持使用多个设备，并且使用如下索引指定它们"
      ]
    },
    {
      "cell_type": "code",
      "metadata": {
        "colab": {
          "base_uri": "https://localhost:8080/"
        },
        "id": "TNmHwyhuWW6x",
        "outputId": "d36a8962-3ba1-4022-d386-75c6d8a05316"
      },
      "source": [
        "device = torch.device('cuda:0')\n",
        "device"
      ],
      "execution_count": null,
      "outputs": [
        {
          "output_type": "execute_result",
          "data": {
            "text/plain": [
              "device(type='cuda', index=0)"
            ]
          },
          "metadata": {
            "tags": []
          },
          "execution_count": 6
        }
      ]
    },
    {
      "cell_type": "markdown",
      "metadata": {
        "id": "FxtG_TGhXJWn"
      },
      "source": [
        "如果我们有一个像上面这样的设备，我们可以通过将设备传递给张量的构造函数在设备上创建一个张量。使用多个设备需要记住的一点是，张量之间的张量操作必须发生在同一设备上的张量之间。\n",
        "\n",
        "当我们成为更高级的用户时，使用多个设备通常是我们要做的事情，所以现在不必担心这一点。"
      ]
    },
    {
      "cell_type": "markdown",
      "metadata": {
        "id": "eYMOyY--ZovQ"
      },
      "source": [
        "torch.layout的使用\n",
        "\n",
        "在我们的例子中，这种布局指定了张量如何存储在内存中。想了解更多关于步幅的信息，请点击[这里](https://en.wikipedia.org/wiki/Stride_of_an_array)。\n",
        "\n",
        "目前，我们只需要知道这些。"
      ]
    },
    {
      "cell_type": "markdown",
      "metadata": {
        "id": "MnmTb5TVaCW4"
      },
      "source": [
        "作为神经网络程序员，我们需要注意以下几点:\n",
        "\n",
        "张量包含统一类型(dtype)的数据。\n",
        "\n",
        "张量之间的张量计算取决于dtype和device。\n",
        "\n",
        "现在让我们来看一下使用 PyTorch 中的数据创建张量的常用方法。\n",
        "\n",
        "\n",
        "## 3.创建Tensor\n",
        "以下是使用 PyTorch 中的数据(类似数组)创建张量对象(torch. Tensor 类的实例)的主要方法:\n",
        "\n",
        "* torch.Tensor(data)\n",
        "* torch.tensor(data)\n",
        "* torch.as_tensor(data)\n",
        "* torch.from_numpy(data)\n",
        "\n",
        "让我们来看看这些。他们都接受某种形式的数据，并给我们一个torch.Tensor实例类。有时候，当有多种方法可以达到同样的结果时，事情可能会变得混乱，所以让我们来分析一下。\n",
        "\n",
        "我们将首先对每个选项创建一个张量，然后看看我们得到了什么。我们将从创建一些数据开始。\n",
        "\n",
        "我们可以使用 Python list 或者 sequence，但是 numpy.ndarray 将是更常见的选项，所以我们将使用 numpy.ndarray，如下所示:"
      ]
    },
    {
      "cell_type": "code",
      "metadata": {
        "colab": {
          "base_uri": "https://localhost:8080/"
        },
        "id": "IyAIaH_tW9eB",
        "outputId": "43b6f484-8c62-4011-8758-44ff8e4adfcb"
      },
      "source": [
        "import numpy as np\n",
        "\n",
        "data = np.array([1,2,3])\n",
        "type(data)"
      ],
      "execution_count": null,
      "outputs": [
        {
          "output_type": "execute_result",
          "data": {
            "text/plain": [
              "numpy.ndarray"
            ]
          },
          "metadata": {
            "tags": []
          },
          "execution_count": 8
        }
      ]
    },
    {
      "cell_type": "markdown",
      "metadata": {
        "id": "sR8Dy3qJbB8R"
      },
      "source": [
        "这为我们提供了一个简单的数据位类型numpy.ndarray公司.\n",
        "\n",
        "现在，让我们用上面这些选项中的每一个来创建我们的张量，看看我们得到了什么："
      ]
    },
    {
      "cell_type": "code",
      "metadata": {
        "id": "PphnizRJa7Mi"
      },
      "source": [
        "o1= torch.Tensor(data)\n",
        "o2 = torch.tensor(data)\n",
        "o3 = torch.as_tensor(data)\n",
        "o4 = torch.from_numpy(data)"
      ],
      "execution_count": null,
      "outputs": []
    },
    {
      "cell_type": "code",
      "metadata": {
        "colab": {
          "base_uri": "https://localhost:8080/"
        },
        "id": "KvOydQbNbQvi",
        "outputId": "96694e30-b7bf-49ac-c1a1-76a5ece2f444"
      },
      "source": [
        "print(o1,o1.dtype)\n",
        "print(o2,o2.dtype)\n",
        "print(o3,o3.dtype)\n",
        "print(o4,o4.dtype)"
      ],
      "execution_count": null,
      "outputs": [
        {
          "output_type": "stream",
          "text": [
            "tensor([1., 2., 3.]) torch.float32\n",
            "tensor([1, 2, 3]) torch.int64\n",
            "tensor([1, 2, 3]) torch.int64\n",
            "tensor([1, 2, 3]) torch.int64\n"
          ],
          "name": "stdout"
        }
      ]
    },
    {
      "cell_type": "markdown",
      "metadata": {
        "id": "NE5KTFClbpcI"
      },
      "source": [
        "所有的选项（o1，o2，o3，o4）似乎都产生了相同的张量，除了第一个。第一个选项（o1）在数字后面有点，表示数字是浮点数，而后面三个选项的类型是int64。"
      ]
    },
    {
      "cell_type": "code",
      "metadata": {
        "colab": {
          "base_uri": "https://localhost:8080/"
        },
        "id": "HBVej0p5bUcg",
        "outputId": "407d5bb6-264b-4b4f-865f-c210230b1880"
      },
      "source": [
        "type(2.)"
      ],
      "execution_count": null,
      "outputs": [
        {
          "output_type": "execute_result",
          "data": {
            "text/plain": [
              "float"
            ]
          },
          "metadata": {
            "tags": []
          },
          "execution_count": 13
        }
      ]
    },
    {
      "cell_type": "code",
      "metadata": {
        "colab": {
          "base_uri": "https://localhost:8080/"
        },
        "id": "Z1Xcst0yb-IQ",
        "outputId": "5647a8ca-351a-4da3-d903-507ba5758dc3"
      },
      "source": [
        "type(2)"
      ],
      "execution_count": null,
      "outputs": [
        {
          "output_type": "execute_result",
          "data": {
            "text/plain": [
              "int"
            ]
          },
          "metadata": {
            "tags": []
          },
          "execution_count": 14
        }
      ]
    },
    {
      "cell_type": "markdown",
      "metadata": {
        "id": "899fEDspcIH_"
      },
      "source": [
        "在下节中，我们将更深入地研究这种差异，以及潜伏在幕后的其他一些重要差异。\n",
        "\n",
        "下节文章中的讨论将让我们看到这些选项中哪一个最适合创建张量。现在，让我们看看一些创建选项，这些选项可用于在没有预先任何数据的情况下从头创建张量。"
      ]
    },
    {
      "cell_type": "markdown",
      "metadata": {
        "id": "Wq4RUYYFcTgo"
      },
      "source": [
        "## 4.无数据创建Tensor\n",
        "这里有一些其他可用的创建选项。\n",
        "* torch.eye()\n",
        "* torch.zeros()\n",
        "* torch.ones()\n",
        "* torch.rand()\n",
        "\n",
        "我们有torch.eye ()函数，它返回一个2-D 张量，其中1在对角线上，0在其他地方。名称 eye ()与单位矩阵的思想相关，单位矩阵是一个在主对角线上有1的方阵，其他地方都是零。\n"
      ]
    },
    {
      "cell_type": "code",
      "metadata": {
        "colab": {
          "base_uri": "https://localhost:8080/"
        },
        "id": "kKxxNoVsb_kh",
        "outputId": "6029dadc-97d3-482e-a1cc-d7a21cd54634"
      },
      "source": [
        "print(torch.eye(2))"
      ],
      "execution_count": null,
      "outputs": [
        {
          "output_type": "stream",
          "text": [
            "tensor([[1., 0.],\n",
            "        [0., 1.]])\n"
          ],
          "name": "stdout"
        }
      ]
    },
    {
      "cell_type": "markdown",
      "metadata": {
        "id": "yEBT5gb3clGP"
      },
      "source": [
        "我们有torch.zero（）函数，用于创建具有指定形状参数形状的零张量"
      ]
    },
    {
      "cell_type": "code",
      "metadata": {
        "colab": {
          "base_uri": "https://localhost:8080/"
        },
        "id": "7ULeczdRcg5g",
        "outputId": "195167fe-db99-4371-b047-2cd3be608dba"
      },
      "source": [
        "print(torch.zeros([2,2]))"
      ],
      "execution_count": null,
      "outputs": [
        {
          "output_type": "stream",
          "text": [
            "tensor([[0., 0.],\n",
            "        [0., 0.]])\n"
          ],
          "name": "stdout"
        }
      ]
    },
    {
      "cell_type": "markdown",
      "metadata": {
        "id": "sO2dy9A-csoQ"
      },
      "source": [
        "类似地，我们有 torch.ones ()函数，它创建一个全部为\n",
        "1的张量。"
      ]
    },
    {
      "cell_type": "code",
      "metadata": {
        "colab": {
          "base_uri": "https://localhost:8080/"
        },
        "id": "-CpXPnxhcpPA",
        "outputId": "f67b5157-6445-4d95-b9df-6d6f0680e9ec"
      },
      "source": [
        "print(torch.ones([2,2]))"
      ],
      "execution_count": null,
      "outputs": [
        {
          "output_type": "stream",
          "text": [
            "tensor([[1., 1.],\n",
            "        [1., 1.]])\n"
          ],
          "name": "stdout"
        }
      ]
    },
    {
      "cell_type": "markdown",
      "metadata": {
        "id": "ljKPWBUJc5io"
      },
      "source": [
        "我们还有一个 torch.rand ()函数，它创建一个具有指定参数形状的张量，其值是随机的。"
      ]
    },
    {
      "cell_type": "code",
      "metadata": {
        "colab": {
          "base_uri": "https://localhost:8080/"
        },
        "id": "2E7-gsOKc0HA",
        "outputId": "73887d34-146b-4713-d25d-6b003d1ac857"
      },
      "source": [
        "print(torch.rand([2,2]))"
      ],
      "execution_count": null,
      "outputs": [
        {
          "output_type": "stream",
          "text": [
            "tensor([[0.6595, 0.4499],\n",
            "        [0.1020, 0.3773]])\n"
          ],
          "name": "stdout"
        }
      ]
    },
    {
      "cell_type": "markdown",
      "metadata": {
        "id": "QLwb1jG7dECX"
      },
      "source": [
        "这是不需要数据的可用创建函数的一小部分。查看[PyTorch文档](https://pytorch.org/docs/stable/index.html)以获取完整的说明。\n",
        "\n",
        "我希望现在您已经很好地理解了如何使用PyTorch通过使用数据以及不需要数据的内置函数来创建张量。\n",
        "\n",
        "在下一篇文章中，我们将更深入地研究需要数据的创建选项，我们将发现这些选项之间的差异，并查看哪些选项最有效。下次见！"
      ]
    },
    {
      "cell_type": "code",
      "metadata": {
        "id": "AKUBVa9Jc8eg"
      },
      "source": [
        ""
      ],
      "execution_count": null,
      "outputs": []
    }
  ]
}
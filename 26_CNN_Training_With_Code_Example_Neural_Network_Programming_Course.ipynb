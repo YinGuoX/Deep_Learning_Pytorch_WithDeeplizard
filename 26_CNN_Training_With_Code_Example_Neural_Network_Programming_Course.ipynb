{
  "nbformat": 4,
  "nbformat_minor": 0,
  "metadata": {
    "colab": {
      "name": "26_CNN Training With Code Example - Neural Network Programming Course.ipynb",
      "provenance": [],
      "collapsed_sections": [],
      "authorship_tag": "ABX9TyPpWJnTlDbJTLYwFlVU/ZcC",
      "include_colab_link": true
    },
    "kernelspec": {
      "name": "python3",
      "display_name": "Python 3"
    },
    "language_info": {
      "name": "python"
    },
    "widgets": {
      "application/vnd.jupyter.widget-state+json": {
        "f47abb156050452081178c7d0470b5a1": {
          "model_module": "@jupyter-widgets/controls",
          "model_name": "HBoxModel",
          "state": {
            "_view_name": "HBoxView",
            "_dom_classes": [],
            "_model_name": "HBoxModel",
            "_view_module": "@jupyter-widgets/controls",
            "_model_module_version": "1.5.0",
            "_view_count": null,
            "_view_module_version": "1.5.0",
            "box_style": "",
            "layout": "IPY_MODEL_fcc28c58d89447bc9e43280fad7d5b09",
            "_model_module": "@jupyter-widgets/controls",
            "children": [
              "IPY_MODEL_377e67a7204b42c2987bbde41229f334",
              "IPY_MODEL_6b688d2fe29d41a7bf752b7286a58f9a"
            ]
          }
        },
        "fcc28c58d89447bc9e43280fad7d5b09": {
          "model_module": "@jupyter-widgets/base",
          "model_name": "LayoutModel",
          "state": {
            "_view_name": "LayoutView",
            "grid_template_rows": null,
            "right": null,
            "justify_content": null,
            "_view_module": "@jupyter-widgets/base",
            "overflow": null,
            "_model_module_version": "1.2.0",
            "_view_count": null,
            "flex_flow": null,
            "width": null,
            "min_width": null,
            "border": null,
            "align_items": null,
            "bottom": null,
            "_model_module": "@jupyter-widgets/base",
            "top": null,
            "grid_column": null,
            "overflow_y": null,
            "overflow_x": null,
            "grid_auto_flow": null,
            "grid_area": null,
            "grid_template_columns": null,
            "flex": null,
            "_model_name": "LayoutModel",
            "justify_items": null,
            "grid_row": null,
            "max_height": null,
            "align_content": null,
            "visibility": null,
            "align_self": null,
            "height": null,
            "min_height": null,
            "padding": null,
            "grid_auto_rows": null,
            "grid_gap": null,
            "max_width": null,
            "order": null,
            "_view_module_version": "1.2.0",
            "grid_template_areas": null,
            "object_position": null,
            "object_fit": null,
            "grid_auto_columns": null,
            "margin": null,
            "display": null,
            "left": null
          }
        },
        "377e67a7204b42c2987bbde41229f334": {
          "model_module": "@jupyter-widgets/controls",
          "model_name": "FloatProgressModel",
          "state": {
            "_view_name": "ProgressView",
            "style": "IPY_MODEL_bd3aa102399944499ae054036875f985",
            "_dom_classes": [],
            "description": "",
            "_model_name": "FloatProgressModel",
            "bar_style": "success",
            "max": 26421880,
            "_view_module": "@jupyter-widgets/controls",
            "_model_module_version": "1.5.0",
            "value": 26421880,
            "_view_count": null,
            "_view_module_version": "1.5.0",
            "orientation": "horizontal",
            "min": 0,
            "description_tooltip": null,
            "_model_module": "@jupyter-widgets/controls",
            "layout": "IPY_MODEL_4b5cfcfd20534323b85e6b76ff18eb71"
          }
        },
        "6b688d2fe29d41a7bf752b7286a58f9a": {
          "model_module": "@jupyter-widgets/controls",
          "model_name": "HTMLModel",
          "state": {
            "_view_name": "HTMLView",
            "style": "IPY_MODEL_5a95d33462e4405e8269f7c124d46bbc",
            "_dom_classes": [],
            "description": "",
            "_model_name": "HTMLModel",
            "placeholder": "​",
            "_view_module": "@jupyter-widgets/controls",
            "_model_module_version": "1.5.0",
            "value": " 26422272/? [00:23&lt;00:00, 1118065.36it/s]",
            "_view_count": null,
            "_view_module_version": "1.5.0",
            "description_tooltip": null,
            "_model_module": "@jupyter-widgets/controls",
            "layout": "IPY_MODEL_13cadc79e0234c5a81a0f15cac4b46d1"
          }
        },
        "bd3aa102399944499ae054036875f985": {
          "model_module": "@jupyter-widgets/controls",
          "model_name": "ProgressStyleModel",
          "state": {
            "_view_name": "StyleView",
            "_model_name": "ProgressStyleModel",
            "description_width": "initial",
            "_view_module": "@jupyter-widgets/base",
            "_model_module_version": "1.5.0",
            "_view_count": null,
            "_view_module_version": "1.2.0",
            "bar_color": null,
            "_model_module": "@jupyter-widgets/controls"
          }
        },
        "4b5cfcfd20534323b85e6b76ff18eb71": {
          "model_module": "@jupyter-widgets/base",
          "model_name": "LayoutModel",
          "state": {
            "_view_name": "LayoutView",
            "grid_template_rows": null,
            "right": null,
            "justify_content": null,
            "_view_module": "@jupyter-widgets/base",
            "overflow": null,
            "_model_module_version": "1.2.0",
            "_view_count": null,
            "flex_flow": null,
            "width": null,
            "min_width": null,
            "border": null,
            "align_items": null,
            "bottom": null,
            "_model_module": "@jupyter-widgets/base",
            "top": null,
            "grid_column": null,
            "overflow_y": null,
            "overflow_x": null,
            "grid_auto_flow": null,
            "grid_area": null,
            "grid_template_columns": null,
            "flex": null,
            "_model_name": "LayoutModel",
            "justify_items": null,
            "grid_row": null,
            "max_height": null,
            "align_content": null,
            "visibility": null,
            "align_self": null,
            "height": null,
            "min_height": null,
            "padding": null,
            "grid_auto_rows": null,
            "grid_gap": null,
            "max_width": null,
            "order": null,
            "_view_module_version": "1.2.0",
            "grid_template_areas": null,
            "object_position": null,
            "object_fit": null,
            "grid_auto_columns": null,
            "margin": null,
            "display": null,
            "left": null
          }
        },
        "5a95d33462e4405e8269f7c124d46bbc": {
          "model_module": "@jupyter-widgets/controls",
          "model_name": "DescriptionStyleModel",
          "state": {
            "_view_name": "StyleView",
            "_model_name": "DescriptionStyleModel",
            "description_width": "",
            "_view_module": "@jupyter-widgets/base",
            "_model_module_version": "1.5.0",
            "_view_count": null,
            "_view_module_version": "1.2.0",
            "_model_module": "@jupyter-widgets/controls"
          }
        },
        "13cadc79e0234c5a81a0f15cac4b46d1": {
          "model_module": "@jupyter-widgets/base",
          "model_name": "LayoutModel",
          "state": {
            "_view_name": "LayoutView",
            "grid_template_rows": null,
            "right": null,
            "justify_content": null,
            "_view_module": "@jupyter-widgets/base",
            "overflow": null,
            "_model_module_version": "1.2.0",
            "_view_count": null,
            "flex_flow": null,
            "width": null,
            "min_width": null,
            "border": null,
            "align_items": null,
            "bottom": null,
            "_model_module": "@jupyter-widgets/base",
            "top": null,
            "grid_column": null,
            "overflow_y": null,
            "overflow_x": null,
            "grid_auto_flow": null,
            "grid_area": null,
            "grid_template_columns": null,
            "flex": null,
            "_model_name": "LayoutModel",
            "justify_items": null,
            "grid_row": null,
            "max_height": null,
            "align_content": null,
            "visibility": null,
            "align_self": null,
            "height": null,
            "min_height": null,
            "padding": null,
            "grid_auto_rows": null,
            "grid_gap": null,
            "max_width": null,
            "order": null,
            "_view_module_version": "1.2.0",
            "grid_template_areas": null,
            "object_position": null,
            "object_fit": null,
            "grid_auto_columns": null,
            "margin": null,
            "display": null,
            "left": null
          }
        },
        "a4a57aad79f8425ca808109bac5985aa": {
          "model_module": "@jupyter-widgets/controls",
          "model_name": "HBoxModel",
          "state": {
            "_view_name": "HBoxView",
            "_dom_classes": [],
            "_model_name": "HBoxModel",
            "_view_module": "@jupyter-widgets/controls",
            "_model_module_version": "1.5.0",
            "_view_count": null,
            "_view_module_version": "1.5.0",
            "box_style": "",
            "layout": "IPY_MODEL_2a5deae8b89d4e5a91f8687693aa5829",
            "_model_module": "@jupyter-widgets/controls",
            "children": [
              "IPY_MODEL_f3a3f5f2a97c4fd191c7f9482d82a5d1",
              "IPY_MODEL_b1d84ecd7c6e4b5599fe315f3df45836"
            ]
          }
        },
        "2a5deae8b89d4e5a91f8687693aa5829": {
          "model_module": "@jupyter-widgets/base",
          "model_name": "LayoutModel",
          "state": {
            "_view_name": "LayoutView",
            "grid_template_rows": null,
            "right": null,
            "justify_content": null,
            "_view_module": "@jupyter-widgets/base",
            "overflow": null,
            "_model_module_version": "1.2.0",
            "_view_count": null,
            "flex_flow": null,
            "width": null,
            "min_width": null,
            "border": null,
            "align_items": null,
            "bottom": null,
            "_model_module": "@jupyter-widgets/base",
            "top": null,
            "grid_column": null,
            "overflow_y": null,
            "overflow_x": null,
            "grid_auto_flow": null,
            "grid_area": null,
            "grid_template_columns": null,
            "flex": null,
            "_model_name": "LayoutModel",
            "justify_items": null,
            "grid_row": null,
            "max_height": null,
            "align_content": null,
            "visibility": null,
            "align_self": null,
            "height": null,
            "min_height": null,
            "padding": null,
            "grid_auto_rows": null,
            "grid_gap": null,
            "max_width": null,
            "order": null,
            "_view_module_version": "1.2.0",
            "grid_template_areas": null,
            "object_position": null,
            "object_fit": null,
            "grid_auto_columns": null,
            "margin": null,
            "display": null,
            "left": null
          }
        },
        "f3a3f5f2a97c4fd191c7f9482d82a5d1": {
          "model_module": "@jupyter-widgets/controls",
          "model_name": "FloatProgressModel",
          "state": {
            "_view_name": "ProgressView",
            "style": "IPY_MODEL_95d2e07f04274fa5b3f309be2a8e92c3",
            "_dom_classes": [],
            "description": "",
            "_model_name": "FloatProgressModel",
            "bar_style": "success",
            "max": 29515,
            "_view_module": "@jupyter-widgets/controls",
            "_model_module_version": "1.5.0",
            "value": 29515,
            "_view_count": null,
            "_view_module_version": "1.5.0",
            "orientation": "horizontal",
            "min": 0,
            "description_tooltip": null,
            "_model_module": "@jupyter-widgets/controls",
            "layout": "IPY_MODEL_f863f1863e53469b89f63aa51a74783c"
          }
        },
        "b1d84ecd7c6e4b5599fe315f3df45836": {
          "model_module": "@jupyter-widgets/controls",
          "model_name": "HTMLModel",
          "state": {
            "_view_name": "HTMLView",
            "style": "IPY_MODEL_f8afb00b211f4799abd8bb62ccf2fa12",
            "_dom_classes": [],
            "description": "",
            "_model_name": "HTMLModel",
            "placeholder": "​",
            "_view_module": "@jupyter-widgets/controls",
            "_model_module_version": "1.5.0",
            "value": " 29696/? [00:11&lt;00:00, 2487.44it/s]",
            "_view_count": null,
            "_view_module_version": "1.5.0",
            "description_tooltip": null,
            "_model_module": "@jupyter-widgets/controls",
            "layout": "IPY_MODEL_f8faa6da6bc948f3b309118f47dca63d"
          }
        },
        "95d2e07f04274fa5b3f309be2a8e92c3": {
          "model_module": "@jupyter-widgets/controls",
          "model_name": "ProgressStyleModel",
          "state": {
            "_view_name": "StyleView",
            "_model_name": "ProgressStyleModel",
            "description_width": "initial",
            "_view_module": "@jupyter-widgets/base",
            "_model_module_version": "1.5.0",
            "_view_count": null,
            "_view_module_version": "1.2.0",
            "bar_color": null,
            "_model_module": "@jupyter-widgets/controls"
          }
        },
        "f863f1863e53469b89f63aa51a74783c": {
          "model_module": "@jupyter-widgets/base",
          "model_name": "LayoutModel",
          "state": {
            "_view_name": "LayoutView",
            "grid_template_rows": null,
            "right": null,
            "justify_content": null,
            "_view_module": "@jupyter-widgets/base",
            "overflow": null,
            "_model_module_version": "1.2.0",
            "_view_count": null,
            "flex_flow": null,
            "width": null,
            "min_width": null,
            "border": null,
            "align_items": null,
            "bottom": null,
            "_model_module": "@jupyter-widgets/base",
            "top": null,
            "grid_column": null,
            "overflow_y": null,
            "overflow_x": null,
            "grid_auto_flow": null,
            "grid_area": null,
            "grid_template_columns": null,
            "flex": null,
            "_model_name": "LayoutModel",
            "justify_items": null,
            "grid_row": null,
            "max_height": null,
            "align_content": null,
            "visibility": null,
            "align_self": null,
            "height": null,
            "min_height": null,
            "padding": null,
            "grid_auto_rows": null,
            "grid_gap": null,
            "max_width": null,
            "order": null,
            "_view_module_version": "1.2.0",
            "grid_template_areas": null,
            "object_position": null,
            "object_fit": null,
            "grid_auto_columns": null,
            "margin": null,
            "display": null,
            "left": null
          }
        },
        "f8afb00b211f4799abd8bb62ccf2fa12": {
          "model_module": "@jupyter-widgets/controls",
          "model_name": "DescriptionStyleModel",
          "state": {
            "_view_name": "StyleView",
            "_model_name": "DescriptionStyleModel",
            "description_width": "",
            "_view_module": "@jupyter-widgets/base",
            "_model_module_version": "1.5.0",
            "_view_count": null,
            "_view_module_version": "1.2.0",
            "_model_module": "@jupyter-widgets/controls"
          }
        },
        "f8faa6da6bc948f3b309118f47dca63d": {
          "model_module": "@jupyter-widgets/base",
          "model_name": "LayoutModel",
          "state": {
            "_view_name": "LayoutView",
            "grid_template_rows": null,
            "right": null,
            "justify_content": null,
            "_view_module": "@jupyter-widgets/base",
            "overflow": null,
            "_model_module_version": "1.2.0",
            "_view_count": null,
            "flex_flow": null,
            "width": null,
            "min_width": null,
            "border": null,
            "align_items": null,
            "bottom": null,
            "_model_module": "@jupyter-widgets/base",
            "top": null,
            "grid_column": null,
            "overflow_y": null,
            "overflow_x": null,
            "grid_auto_flow": null,
            "grid_area": null,
            "grid_template_columns": null,
            "flex": null,
            "_model_name": "LayoutModel",
            "justify_items": null,
            "grid_row": null,
            "max_height": null,
            "align_content": null,
            "visibility": null,
            "align_self": null,
            "height": null,
            "min_height": null,
            "padding": null,
            "grid_auto_rows": null,
            "grid_gap": null,
            "max_width": null,
            "order": null,
            "_view_module_version": "1.2.0",
            "grid_template_areas": null,
            "object_position": null,
            "object_fit": null,
            "grid_auto_columns": null,
            "margin": null,
            "display": null,
            "left": null
          }
        },
        "3471834c1dca4ad5b6c2d49e46f73d20": {
          "model_module": "@jupyter-widgets/controls",
          "model_name": "HBoxModel",
          "state": {
            "_view_name": "HBoxView",
            "_dom_classes": [],
            "_model_name": "HBoxModel",
            "_view_module": "@jupyter-widgets/controls",
            "_model_module_version": "1.5.0",
            "_view_count": null,
            "_view_module_version": "1.5.0",
            "box_style": "",
            "layout": "IPY_MODEL_d63f5a79a5c74441b9818c8b9b29d24b",
            "_model_module": "@jupyter-widgets/controls",
            "children": [
              "IPY_MODEL_754dabd038214afca0b704fefa33d883",
              "IPY_MODEL_fb930abdcd5a4dfb8a936fd380898acc"
            ]
          }
        },
        "d63f5a79a5c74441b9818c8b9b29d24b": {
          "model_module": "@jupyter-widgets/base",
          "model_name": "LayoutModel",
          "state": {
            "_view_name": "LayoutView",
            "grid_template_rows": null,
            "right": null,
            "justify_content": null,
            "_view_module": "@jupyter-widgets/base",
            "overflow": null,
            "_model_module_version": "1.2.0",
            "_view_count": null,
            "flex_flow": null,
            "width": null,
            "min_width": null,
            "border": null,
            "align_items": null,
            "bottom": null,
            "_model_module": "@jupyter-widgets/base",
            "top": null,
            "grid_column": null,
            "overflow_y": null,
            "overflow_x": null,
            "grid_auto_flow": null,
            "grid_area": null,
            "grid_template_columns": null,
            "flex": null,
            "_model_name": "LayoutModel",
            "justify_items": null,
            "grid_row": null,
            "max_height": null,
            "align_content": null,
            "visibility": null,
            "align_self": null,
            "height": null,
            "min_height": null,
            "padding": null,
            "grid_auto_rows": null,
            "grid_gap": null,
            "max_width": null,
            "order": null,
            "_view_module_version": "1.2.0",
            "grid_template_areas": null,
            "object_position": null,
            "object_fit": null,
            "grid_auto_columns": null,
            "margin": null,
            "display": null,
            "left": null
          }
        },
        "754dabd038214afca0b704fefa33d883": {
          "model_module": "@jupyter-widgets/controls",
          "model_name": "FloatProgressModel",
          "state": {
            "_view_name": "ProgressView",
            "style": "IPY_MODEL_cf4ab9bed7b242198ffac68dcfd60ce6",
            "_dom_classes": [],
            "description": "",
            "_model_name": "FloatProgressModel",
            "bar_style": "success",
            "max": 4422102,
            "_view_module": "@jupyter-widgets/controls",
            "_model_module_version": "1.5.0",
            "value": 4422102,
            "_view_count": null,
            "_view_module_version": "1.5.0",
            "orientation": "horizontal",
            "min": 0,
            "description_tooltip": null,
            "_model_module": "@jupyter-widgets/controls",
            "layout": "IPY_MODEL_042c9f1dae524395bc718260458f3174"
          }
        },
        "fb930abdcd5a4dfb8a936fd380898acc": {
          "model_module": "@jupyter-widgets/controls",
          "model_name": "HTMLModel",
          "state": {
            "_view_name": "HTMLView",
            "style": "IPY_MODEL_fc9fed3ccad242be9781120317da7fa4",
            "_dom_classes": [],
            "description": "",
            "_model_name": "HTMLModel",
            "placeholder": "​",
            "_view_module": "@jupyter-widgets/controls",
            "_model_module_version": "1.5.0",
            "value": " 4422656/? [00:10&lt;00:00, 417718.56it/s]",
            "_view_count": null,
            "_view_module_version": "1.5.0",
            "description_tooltip": null,
            "_model_module": "@jupyter-widgets/controls",
            "layout": "IPY_MODEL_fb4704ef1786476bb17c2df3dd380b23"
          }
        },
        "cf4ab9bed7b242198ffac68dcfd60ce6": {
          "model_module": "@jupyter-widgets/controls",
          "model_name": "ProgressStyleModel",
          "state": {
            "_view_name": "StyleView",
            "_model_name": "ProgressStyleModel",
            "description_width": "initial",
            "_view_module": "@jupyter-widgets/base",
            "_model_module_version": "1.5.0",
            "_view_count": null,
            "_view_module_version": "1.2.0",
            "bar_color": null,
            "_model_module": "@jupyter-widgets/controls"
          }
        },
        "042c9f1dae524395bc718260458f3174": {
          "model_module": "@jupyter-widgets/base",
          "model_name": "LayoutModel",
          "state": {
            "_view_name": "LayoutView",
            "grid_template_rows": null,
            "right": null,
            "justify_content": null,
            "_view_module": "@jupyter-widgets/base",
            "overflow": null,
            "_model_module_version": "1.2.0",
            "_view_count": null,
            "flex_flow": null,
            "width": null,
            "min_width": null,
            "border": null,
            "align_items": null,
            "bottom": null,
            "_model_module": "@jupyter-widgets/base",
            "top": null,
            "grid_column": null,
            "overflow_y": null,
            "overflow_x": null,
            "grid_auto_flow": null,
            "grid_area": null,
            "grid_template_columns": null,
            "flex": null,
            "_model_name": "LayoutModel",
            "justify_items": null,
            "grid_row": null,
            "max_height": null,
            "align_content": null,
            "visibility": null,
            "align_self": null,
            "height": null,
            "min_height": null,
            "padding": null,
            "grid_auto_rows": null,
            "grid_gap": null,
            "max_width": null,
            "order": null,
            "_view_module_version": "1.2.0",
            "grid_template_areas": null,
            "object_position": null,
            "object_fit": null,
            "grid_auto_columns": null,
            "margin": null,
            "display": null,
            "left": null
          }
        },
        "fc9fed3ccad242be9781120317da7fa4": {
          "model_module": "@jupyter-widgets/controls",
          "model_name": "DescriptionStyleModel",
          "state": {
            "_view_name": "StyleView",
            "_model_name": "DescriptionStyleModel",
            "description_width": "",
            "_view_module": "@jupyter-widgets/base",
            "_model_module_version": "1.5.0",
            "_view_count": null,
            "_view_module_version": "1.2.0",
            "_model_module": "@jupyter-widgets/controls"
          }
        },
        "fb4704ef1786476bb17c2df3dd380b23": {
          "model_module": "@jupyter-widgets/base",
          "model_name": "LayoutModel",
          "state": {
            "_view_name": "LayoutView",
            "grid_template_rows": null,
            "right": null,
            "justify_content": null,
            "_view_module": "@jupyter-widgets/base",
            "overflow": null,
            "_model_module_version": "1.2.0",
            "_view_count": null,
            "flex_flow": null,
            "width": null,
            "min_width": null,
            "border": null,
            "align_items": null,
            "bottom": null,
            "_model_module": "@jupyter-widgets/base",
            "top": null,
            "grid_column": null,
            "overflow_y": null,
            "overflow_x": null,
            "grid_auto_flow": null,
            "grid_area": null,
            "grid_template_columns": null,
            "flex": null,
            "_model_name": "LayoutModel",
            "justify_items": null,
            "grid_row": null,
            "max_height": null,
            "align_content": null,
            "visibility": null,
            "align_self": null,
            "height": null,
            "min_height": null,
            "padding": null,
            "grid_auto_rows": null,
            "grid_gap": null,
            "max_width": null,
            "order": null,
            "_view_module_version": "1.2.0",
            "grid_template_areas": null,
            "object_position": null,
            "object_fit": null,
            "grid_auto_columns": null,
            "margin": null,
            "display": null,
            "left": null
          }
        },
        "03d311ee004c40dc89526aa840ea7697": {
          "model_module": "@jupyter-widgets/controls",
          "model_name": "HBoxModel",
          "state": {
            "_view_name": "HBoxView",
            "_dom_classes": [],
            "_model_name": "HBoxModel",
            "_view_module": "@jupyter-widgets/controls",
            "_model_module_version": "1.5.0",
            "_view_count": null,
            "_view_module_version": "1.5.0",
            "box_style": "",
            "layout": "IPY_MODEL_031af34b28d243b493de085fe8608f25",
            "_model_module": "@jupyter-widgets/controls",
            "children": [
              "IPY_MODEL_dc41e8158e174037bb786965ac9b3e2a",
              "IPY_MODEL_c93939737aec479c9349f3f3784f8a6e"
            ]
          }
        },
        "031af34b28d243b493de085fe8608f25": {
          "model_module": "@jupyter-widgets/base",
          "model_name": "LayoutModel",
          "state": {
            "_view_name": "LayoutView",
            "grid_template_rows": null,
            "right": null,
            "justify_content": null,
            "_view_module": "@jupyter-widgets/base",
            "overflow": null,
            "_model_module_version": "1.2.0",
            "_view_count": null,
            "flex_flow": null,
            "width": null,
            "min_width": null,
            "border": null,
            "align_items": null,
            "bottom": null,
            "_model_module": "@jupyter-widgets/base",
            "top": null,
            "grid_column": null,
            "overflow_y": null,
            "overflow_x": null,
            "grid_auto_flow": null,
            "grid_area": null,
            "grid_template_columns": null,
            "flex": null,
            "_model_name": "LayoutModel",
            "justify_items": null,
            "grid_row": null,
            "max_height": null,
            "align_content": null,
            "visibility": null,
            "align_self": null,
            "height": null,
            "min_height": null,
            "padding": null,
            "grid_auto_rows": null,
            "grid_gap": null,
            "max_width": null,
            "order": null,
            "_view_module_version": "1.2.0",
            "grid_template_areas": null,
            "object_position": null,
            "object_fit": null,
            "grid_auto_columns": null,
            "margin": null,
            "display": null,
            "left": null
          }
        },
        "dc41e8158e174037bb786965ac9b3e2a": {
          "model_module": "@jupyter-widgets/controls",
          "model_name": "FloatProgressModel",
          "state": {
            "_view_name": "ProgressView",
            "style": "IPY_MODEL_ca382009f39a465fbe61878bd0fa0b3e",
            "_dom_classes": [],
            "description": "",
            "_model_name": "FloatProgressModel",
            "bar_style": "success",
            "max": 5148,
            "_view_module": "@jupyter-widgets/controls",
            "_model_module_version": "1.5.0",
            "value": 5148,
            "_view_count": null,
            "_view_module_version": "1.5.0",
            "orientation": "horizontal",
            "min": 0,
            "description_tooltip": null,
            "_model_module": "@jupyter-widgets/controls",
            "layout": "IPY_MODEL_7f49f21b4de9462c9ef1690033f48629"
          }
        },
        "c93939737aec479c9349f3f3784f8a6e": {
          "model_module": "@jupyter-widgets/controls",
          "model_name": "HTMLModel",
          "state": {
            "_view_name": "HTMLView",
            "style": "IPY_MODEL_8edfaa5bc34140cb9b79140476505110",
            "_dom_classes": [],
            "description": "",
            "_model_name": "HTMLModel",
            "placeholder": "​",
            "_view_module": "@jupyter-widgets/controls",
            "_model_module_version": "1.5.0",
            "value": " 6144/? [00:00&lt;00:00, 55959.27it/s]",
            "_view_count": null,
            "_view_module_version": "1.5.0",
            "description_tooltip": null,
            "_model_module": "@jupyter-widgets/controls",
            "layout": "IPY_MODEL_6ed004e7e8e44a2ab8fffbb9b5949eb7"
          }
        },
        "ca382009f39a465fbe61878bd0fa0b3e": {
          "model_module": "@jupyter-widgets/controls",
          "model_name": "ProgressStyleModel",
          "state": {
            "_view_name": "StyleView",
            "_model_name": "ProgressStyleModel",
            "description_width": "initial",
            "_view_module": "@jupyter-widgets/base",
            "_model_module_version": "1.5.0",
            "_view_count": null,
            "_view_module_version": "1.2.0",
            "bar_color": null,
            "_model_module": "@jupyter-widgets/controls"
          }
        },
        "7f49f21b4de9462c9ef1690033f48629": {
          "model_module": "@jupyter-widgets/base",
          "model_name": "LayoutModel",
          "state": {
            "_view_name": "LayoutView",
            "grid_template_rows": null,
            "right": null,
            "justify_content": null,
            "_view_module": "@jupyter-widgets/base",
            "overflow": null,
            "_model_module_version": "1.2.0",
            "_view_count": null,
            "flex_flow": null,
            "width": null,
            "min_width": null,
            "border": null,
            "align_items": null,
            "bottom": null,
            "_model_module": "@jupyter-widgets/base",
            "top": null,
            "grid_column": null,
            "overflow_y": null,
            "overflow_x": null,
            "grid_auto_flow": null,
            "grid_area": null,
            "grid_template_columns": null,
            "flex": null,
            "_model_name": "LayoutModel",
            "justify_items": null,
            "grid_row": null,
            "max_height": null,
            "align_content": null,
            "visibility": null,
            "align_self": null,
            "height": null,
            "min_height": null,
            "padding": null,
            "grid_auto_rows": null,
            "grid_gap": null,
            "max_width": null,
            "order": null,
            "_view_module_version": "1.2.0",
            "grid_template_areas": null,
            "object_position": null,
            "object_fit": null,
            "grid_auto_columns": null,
            "margin": null,
            "display": null,
            "left": null
          }
        },
        "8edfaa5bc34140cb9b79140476505110": {
          "model_module": "@jupyter-widgets/controls",
          "model_name": "DescriptionStyleModel",
          "state": {
            "_view_name": "StyleView",
            "_model_name": "DescriptionStyleModel",
            "description_width": "",
            "_view_module": "@jupyter-widgets/base",
            "_model_module_version": "1.5.0",
            "_view_count": null,
            "_view_module_version": "1.2.0",
            "_model_module": "@jupyter-widgets/controls"
          }
        },
        "6ed004e7e8e44a2ab8fffbb9b5949eb7": {
          "model_module": "@jupyter-widgets/base",
          "model_name": "LayoutModel",
          "state": {
            "_view_name": "LayoutView",
            "grid_template_rows": null,
            "right": null,
            "justify_content": null,
            "_view_module": "@jupyter-widgets/base",
            "overflow": null,
            "_model_module_version": "1.2.0",
            "_view_count": null,
            "flex_flow": null,
            "width": null,
            "min_width": null,
            "border": null,
            "align_items": null,
            "bottom": null,
            "_model_module": "@jupyter-widgets/base",
            "top": null,
            "grid_column": null,
            "overflow_y": null,
            "overflow_x": null,
            "grid_auto_flow": null,
            "grid_area": null,
            "grid_template_columns": null,
            "flex": null,
            "_model_name": "LayoutModel",
            "justify_items": null,
            "grid_row": null,
            "max_height": null,
            "align_content": null,
            "visibility": null,
            "align_self": null,
            "height": null,
            "min_height": null,
            "padding": null,
            "grid_auto_rows": null,
            "grid_gap": null,
            "max_width": null,
            "order": null,
            "_view_module_version": "1.2.0",
            "grid_template_areas": null,
            "object_position": null,
            "object_fit": null,
            "grid_auto_columns": null,
            "margin": null,
            "display": null,
            "left": null
          }
        }
      }
    }
  },
  "cells": [
    {
      "cell_type": "markdown",
      "metadata": {
        "id": "view-in-github",
        "colab_type": "text"
      },
      "source": [
        "<a href=\"https://colab.research.google.com/github/YinGuoX/Deep_Learning_Pytorch_WithDeeplizard/blob/master/26_CNN_Training_With_Code_Example_Neural_Network_Programming_Course.ipynb\" target=\"_parent\"><img src=\"https://colab.research.google.com/assets/colab-badge.svg\" alt=\"Open In Colab\"/></a>"
      ]
    },
    {
      "cell_type": "markdown",
      "metadata": {
        "id": "aLIjqXbbEfDs"
      },
      "source": [
        "# CNN Training Process\n",
        "在这节中，我们将学习训练卷积神经网络所需的步骤。\n",
        "\n",
        "到目前为止，我们了解了Tensors，也了解了有关PyTorch神经网络的所有知识。 现在，我们准备开始训练过程。\n",
        "\n",
        "* 准备数据\n",
        "\n",
        "* 建立模型\n",
        "\n",
        "* 训练模型\n",
        "\n",
        "  * 计算损耗，梯度并更新权重\n",
        "\n",
        "* 分析模型的结果\n"
      ]
    },
    {
      "cell_type": "markdown",
      "metadata": {
        "id": "7_9jG54bEvQs"
      },
      "source": [
        "## 1.训练：正向传播后做什么\n",
        "在训练过程中，我们会进行正向传播，那之后又会怎样呢？ 我们假设我们得到了一个批处理并将其通过网络正向传播。 一旦获得输出，我们就将预测输出与实际标签进行比较，并且一旦我们知道预测标签与实际标签的距离有多近，就可以调整网络内部的权重，以使网络预测的值更加接近到真实值（标签）。\n",
        "\n",
        "所有这些都是针对单个批次的，我们将对每个批次重复此过程，直到我们涵盖了训练集中的每个样本为止。 \n",
        "\n",
        "* 在完成所有批次的此过程并传递训练集中的每个样本后，我们说一个纪元已经完成。 我们使用**“ epoch”**一词来表示一个涵盖**整个训练集**的时间段。\n",
        "\n",
        "在整个培训过程中，我们会根据需要执行尽可能多的时间，以达到我们期望的准确性水平。 这样，我们可以执行以下步骤：\n",
        "\n",
        "* 1.从训练集中获取批次。\n",
        "\n",
        "* 2.将批处理传递到网络。\n",
        "\n",
        "* 3.计算损失（预测值和真实值之间的差）。\n",
        "\n",
        "* 4.用网络权重计算损失函数的梯度。\n",
        "\n",
        "* 5.使用梯度更新权重以减少损失。\n",
        "\n",
        "* 6.重复步骤1-5，直到完成一个纪元。\n",
        "\n",
        "* 7.重复步骤1-6，以达到达到最小损耗所需的次数。\n",
        "\n",
        "我们已经完全知道如何执行步骤1和2。如果您已经学习了深度学习基础知识系列，那么您知道我们使用损失函数来执行步骤3，并且您知道我们使用反向传播和优化算法来执行步骤4和5。步骤6和7只是标准的Python循环（训练循环）。 让我们看看如何在代码中完成此操作。\n"
      ]
    },
    {
      "cell_type": "markdown",
      "metadata": {
        "id": "cScxUFv_Fipr"
      },
      "source": [
        "## 2.训练过程\n",
        "\n",
        "因为我们在前几节中中禁用了PyTorch的梯度跟踪功能，所以我们需要确保重新启用它（默认情况下是启用的）。"
      ]
    },
    {
      "cell_type": "code",
      "metadata": {
        "id": "ti3hUUWyEa2a"
      },
      "source": [
        "import torch\n",
        "import torch.nn as nn\n",
        "import torch.nn.functional as F\n",
        "import torchvision\n",
        "import torchvision.transforms as transforms"
      ],
      "execution_count": null,
      "outputs": []
    },
    {
      "cell_type": "code",
      "metadata": {
        "colab": {
          "base_uri": "https://localhost:8080/"
        },
        "id": "UrmTlBnoF03i",
        "outputId": "36a58301-9528-4f9c-cff9-cc178af48516"
      },
      "source": [
        "torch.set_grad_enabled(True)"
      ],
      "execution_count": null,
      "outputs": [
        {
          "output_type": "execute_result",
          "data": {
            "text/plain": [
              "<torch.autograd.grad_mode.set_grad_enabled at 0x7f37a65add90>"
            ]
          },
          "metadata": {
            "tags": []
          },
          "execution_count": 2
        }
      ]
    },
    {
      "cell_type": "markdown",
      "metadata": {
        "id": "y7LFPr73F9Ni"
      },
      "source": [
        "### 准备正向传播\n",
        "---\n",
        "我们已经知道如何获得一批并通过网络将其进行前向传播。让我们看看正向传播完成后我们该怎么做。\n",
        "\n",
        "我们将从以下内容开始：\n",
        "\n",
        "* 创建网络类的实例。\n",
        "\n",
        "* 创建一个数据加载器，从我们的训练集中提供大小为100的批。\n",
        "\n",
        "* 打开其中一批的图像和标签。"
      ]
    },
    {
      "cell_type": "code",
      "metadata": {
        "id": "HnA-gNeAF1eN"
      },
      "source": [
        "class Network(nn.Module):\n",
        "    def __init__(self):\n",
        "        super().__init__()\n",
        "        self.conv1 = nn.Conv2d(in_channels=1, out_channels=6, kernel_size=5)\n",
        "        self.conv2 = nn.Conv2d(in_channels=6, out_channels=12, kernel_size=5)\n",
        "\n",
        "        self.fc1 = nn.Linear(in_features=12*4*4, out_features=120)\n",
        "        self.fc2 = nn.Linear(in_features=120, out_features=60)\n",
        "        self.out = nn.Linear(in_features=60, out_features=10)\n",
        "\n",
        "    def forward(self, t):\n",
        "        # (1) input layer\n",
        "        t = t\n",
        "        print(\"input layer shape:\",t.shape)\n",
        "\n",
        "        # (2) hidden conv layer\n",
        "        t = self.conv1(t)\n",
        "        print(\"conv1 layer shape:\",t.shape)\n",
        "        t = F.relu(t)\n",
        "        t = F.max_pool2d(t, kernel_size=2, stride=2)\n",
        "        print(\"max_pool layer shape:\",t.shape)\n",
        "        # (3) hidden conv layer\n",
        "        t = self.conv2(t)\n",
        "        print(\"conv2 layer shape:\",t.shape)\n",
        "        t = F.relu(t)\n",
        "        t = F.max_pool2d(t, kernel_size=2, stride=2)\n",
        "\n",
        "        # (4) hidden linear layer\n",
        "        t = t.reshape(-1, 12 * 4 * 4)\n",
        "        print(\"flatten layer shape:\",t.shape)\n",
        "        t = self.fc1(t)\n",
        "        print(\"linear1 layer shape:\",t.shape)\n",
        "        t = F.relu(t)\n",
        "\n",
        "        # (5) hidden linear layer\n",
        "        t = self.fc2(t)\n",
        "        print(\"linear2 layer shape:\",t.shape)\n",
        "        t = F.relu(t)\n",
        "\n",
        "        # (6) output layer\n",
        "        t = self.out(t)\n",
        "        print(\"out layer shape:\",t.shape)\n",
        "        #t = F.softmax(t, dim=1)\n",
        "\n",
        "        return t"
      ],
      "execution_count": null,
      "outputs": []
    },
    {
      "cell_type": "code",
      "metadata": {
        "colab": {
          "base_uri": "https://localhost:8080/",
          "height": 579,
          "referenced_widgets": [
            "f47abb156050452081178c7d0470b5a1",
            "fcc28c58d89447bc9e43280fad7d5b09",
            "377e67a7204b42c2987bbde41229f334",
            "6b688d2fe29d41a7bf752b7286a58f9a",
            "bd3aa102399944499ae054036875f985",
            "4b5cfcfd20534323b85e6b76ff18eb71",
            "5a95d33462e4405e8269f7c124d46bbc",
            "13cadc79e0234c5a81a0f15cac4b46d1",
            "a4a57aad79f8425ca808109bac5985aa",
            "2a5deae8b89d4e5a91f8687693aa5829",
            "f3a3f5f2a97c4fd191c7f9482d82a5d1",
            "b1d84ecd7c6e4b5599fe315f3df45836",
            "95d2e07f04274fa5b3f309be2a8e92c3",
            "f863f1863e53469b89f63aa51a74783c",
            "f8afb00b211f4799abd8bb62ccf2fa12",
            "f8faa6da6bc948f3b309118f47dca63d",
            "3471834c1dca4ad5b6c2d49e46f73d20",
            "d63f5a79a5c74441b9818c8b9b29d24b",
            "754dabd038214afca0b704fefa33d883",
            "fb930abdcd5a4dfb8a936fd380898acc",
            "cf4ab9bed7b242198ffac68dcfd60ce6",
            "042c9f1dae524395bc718260458f3174",
            "fc9fed3ccad242be9781120317da7fa4",
            "fb4704ef1786476bb17c2df3dd380b23",
            "03d311ee004c40dc89526aa840ea7697",
            "031af34b28d243b493de085fe8608f25",
            "dc41e8158e174037bb786965ac9b3e2a",
            "c93939737aec479c9349f3f3784f8a6e",
            "ca382009f39a465fbe61878bd0fa0b3e",
            "7f49f21b4de9462c9ef1690033f48629",
            "8edfaa5bc34140cb9b79140476505110",
            "6ed004e7e8e44a2ab8fffbb9b5949eb7"
          ]
        },
        "id": "ZWfj2h6mGHtM",
        "outputId": "3891ea72-0f51-46d4-fe3f-c93380042bbc"
      },
      "source": [
        "train_set = torchvision.datasets.FashionMNIST(root='./data',train=True,\n",
        "                                download=True,\n",
        "                                transform=transforms.Compose([\n",
        "        transforms.ToTensor()\n",
        "    ]))"
      ],
      "execution_count": null,
      "outputs": [
        {
          "output_type": "stream",
          "text": [
            "Downloading http://fashion-mnist.s3-website.eu-central-1.amazonaws.com/train-images-idx3-ubyte.gz\n",
            "Downloading http://fashion-mnist.s3-website.eu-central-1.amazonaws.com/train-images-idx3-ubyte.gz to ./data/FashionMNIST/raw/train-images-idx3-ubyte.gz\n"
          ],
          "name": "stdout"
        },
        {
          "output_type": "display_data",
          "data": {
            "application/vnd.jupyter.widget-view+json": {
              "model_id": "f47abb156050452081178c7d0470b5a1",
              "version_minor": 0,
              "version_major": 2
            },
            "text/plain": [
              "HBox(children=(FloatProgress(value=0.0, max=26421880.0), HTML(value='')))"
            ]
          },
          "metadata": {
            "tags": []
          }
        },
        {
          "output_type": "stream",
          "text": [
            "\n",
            "Extracting ./data/FashionMNIST/raw/train-images-idx3-ubyte.gz to ./data/FashionMNIST/raw\n",
            "\n",
            "Downloading http://fashion-mnist.s3-website.eu-central-1.amazonaws.com/train-labels-idx1-ubyte.gz\n",
            "Downloading http://fashion-mnist.s3-website.eu-central-1.amazonaws.com/train-labels-idx1-ubyte.gz to ./data/FashionMNIST/raw/train-labels-idx1-ubyte.gz\n"
          ],
          "name": "stdout"
        },
        {
          "output_type": "display_data",
          "data": {
            "application/vnd.jupyter.widget-view+json": {
              "model_id": "a4a57aad79f8425ca808109bac5985aa",
              "version_minor": 0,
              "version_major": 2
            },
            "text/plain": [
              "HBox(children=(FloatProgress(value=0.0, max=29515.0), HTML(value='')))"
            ]
          },
          "metadata": {
            "tags": []
          }
        },
        {
          "output_type": "stream",
          "text": [
            "\n",
            "Extracting ./data/FashionMNIST/raw/train-labels-idx1-ubyte.gz to ./data/FashionMNIST/raw\n",
            "\n",
            "Downloading http://fashion-mnist.s3-website.eu-central-1.amazonaws.com/t10k-images-idx3-ubyte.gz\n",
            "Downloading http://fashion-mnist.s3-website.eu-central-1.amazonaws.com/t10k-images-idx3-ubyte.gz to ./data/FashionMNIST/raw/t10k-images-idx3-ubyte.gz\n"
          ],
          "name": "stdout"
        },
        {
          "output_type": "display_data",
          "data": {
            "application/vnd.jupyter.widget-view+json": {
              "model_id": "3471834c1dca4ad5b6c2d49e46f73d20",
              "version_minor": 0,
              "version_major": 2
            },
            "text/plain": [
              "HBox(children=(FloatProgress(value=0.0, max=4422102.0), HTML(value='')))"
            ]
          },
          "metadata": {
            "tags": []
          }
        },
        {
          "output_type": "stream",
          "text": [
            "\n",
            "Extracting ./data/FashionMNIST/raw/t10k-images-idx3-ubyte.gz to ./data/FashionMNIST/raw\n",
            "\n",
            "Downloading http://fashion-mnist.s3-website.eu-central-1.amazonaws.com/t10k-labels-idx1-ubyte.gz\n",
            "Downloading http://fashion-mnist.s3-website.eu-central-1.amazonaws.com/t10k-labels-idx1-ubyte.gz to ./data/FashionMNIST/raw/t10k-labels-idx1-ubyte.gz\n"
          ],
          "name": "stdout"
        },
        {
          "output_type": "display_data",
          "data": {
            "application/vnd.jupyter.widget-view+json": {
              "model_id": "03d311ee004c40dc89526aa840ea7697",
              "version_minor": 0,
              "version_major": 2
            },
            "text/plain": [
              "HBox(children=(FloatProgress(value=0.0, max=5148.0), HTML(value='')))"
            ]
          },
          "metadata": {
            "tags": []
          }
        },
        {
          "output_type": "stream",
          "text": [
            "\n",
            "Extracting ./data/FashionMNIST/raw/t10k-labels-idx1-ubyte.gz to ./data/FashionMNIST/raw\n",
            "\n",
            "Processing...\n",
            "Done!\n"
          ],
          "name": "stdout"
        },
        {
          "output_type": "stream",
          "text": [
            "/usr/local/lib/python3.7/dist-packages/torchvision/datasets/mnist.py:502: UserWarning: The given NumPy array is not writeable, and PyTorch does not support non-writeable tensors. This means you can write to the underlying (supposedly non-writeable) NumPy array using the tensor. You may want to copy the array to protect its data or make it writeable before converting it to a tensor. This type of warning will be suppressed for the rest of this program. (Triggered internally at  /pytorch/torch/csrc/utils/tensor_numpy.cpp:143.)\n",
            "  return torch.from_numpy(parsed.astype(m[2], copy=False)).view(*s)\n"
          ],
          "name": "stderr"
        }
      ]
    },
    {
      "cell_type": "code",
      "metadata": {
        "id": "YZPrQjjgGJzs"
      },
      "source": [
        "network=Network()"
      ],
      "execution_count": null,
      "outputs": []
    },
    {
      "cell_type": "code",
      "metadata": {
        "colab": {
          "base_uri": "https://localhost:8080/"
        },
        "id": "lSExR9TOGOdr",
        "outputId": "05c88a27-e36d-4539-df3d-26b5d0d3de69"
      },
      "source": [
        "train_loader =torch.utils.data.DataLoader(train_set,batch_size=100)\n",
        "batch = next(iter(train_loader))\n",
        "images,labels = batch\n",
        "images.shape"
      ],
      "execution_count": null,
      "outputs": [
        {
          "output_type": "execute_result",
          "data": {
            "text/plain": [
              "torch.Size([100, 1, 28, 28])"
            ]
          },
          "metadata": {
            "tags": []
          },
          "execution_count": 6
        }
      ]
    },
    {
      "cell_type": "markdown",
      "metadata": {
        "id": "G_uEy8hhGcEz"
      },
      "source": [
        "接下来，我们准备通过网络将我们的一批图像正向传播，并获得输出预测。一旦我们有了预测张量，我们就可以使用预测和真实标签来计算损失。"
      ]
    },
    {
      "cell_type": "markdown",
      "metadata": {
        "id": "bTDvnaQ3Gh07"
      },
      "source": [
        "### 计算损失\n",
        "---\n",
        "为此，我们将使用PyTorch的nn.functional API中可用的cross_entropy（）损失函数。 一旦我们有了损失，我们就可以打印它，并使用我们之前创建的函数检查正确的预测数。"
      ]
    },
    {
      "cell_type": "code",
      "metadata": {
        "colab": {
          "base_uri": "https://localhost:8080/"
        },
        "id": "vc09B14QGbUN",
        "outputId": "64058afb-67b9-4bfd-9c9d-c8541bd9f763"
      },
      "source": [
        "preds = network(images)\n",
        "loss = F.cross_entropy(preds,labels)"
      ],
      "execution_count": null,
      "outputs": [
        {
          "output_type": "stream",
          "text": [
            "input layer shape: torch.Size([100, 1, 28, 28])\n",
            "conv1 layer shape: torch.Size([100, 6, 24, 24])\n",
            "max_pool layer shape: torch.Size([100, 6, 12, 12])\n",
            "conv2 layer shape: torch.Size([100, 12, 8, 8])\n",
            "flatten layer shape: torch.Size([100, 192])\n",
            "linear1 layer shape: torch.Size([100, 120])\n",
            "linear2 layer shape: torch.Size([100, 60])\n",
            "out layer shape: torch.Size([100, 10])\n"
          ],
          "name": "stdout"
        }
      ]
    },
    {
      "cell_type": "code",
      "metadata": {
        "colab": {
          "base_uri": "https://localhost:8080/"
        },
        "id": "YPHtL6T0Gy37",
        "outputId": "0dc07088-c982-423f-ecce-a64f3e0388c7"
      },
      "source": [
        "loss.item()"
      ],
      "execution_count": null,
      "outputs": [
        {
          "output_type": "execute_result",
          "data": {
            "text/plain": [
              "2.301669120788574"
            ]
          },
          "metadata": {
            "tags": []
          },
          "execution_count": 9
        }
      ]
    },
    {
      "cell_type": "code",
      "metadata": {
        "id": "ec40ZbF4G8YE"
      },
      "source": [
        "def get_num_correct(preds,labels):\n",
        "  return preds.argmax(dim=1).eq(labels).sum().item()"
      ],
      "execution_count": null,
      "outputs": []
    },
    {
      "cell_type": "code",
      "metadata": {
        "colab": {
          "base_uri": "https://localhost:8080/"
        },
        "id": "qsVVXFFXG67L",
        "outputId": "3b0586ee-94c3-499c-d32b-629afbfe509f"
      },
      "source": [
        "get_num_correct(preds,labels)"
      ],
      "execution_count": null,
      "outputs": [
        {
          "output_type": "execute_result",
          "data": {
            "text/plain": [
              "3"
            ]
          },
          "metadata": {
            "tags": []
          },
          "execution_count": 13
        }
      ]
    },
    {
      "cell_type": "markdown",
      "metadata": {
        "id": "AppLF1OLHVoa"
      },
      "source": [
        "cross_entropy（）函数返回了一个标量值，因此我们使用item（）方法将loss打印为Python数字。我们在100个预测类中有3个是正确的，因为我们有10个预测类，这是我们随机猜测的结果。"
      ]
    },
    {
      "cell_type": "markdown",
      "metadata": {
        "id": "O5HFLLqaHeu7"
      },
      "source": [
        "### 计算梯度\n",
        "---\n",
        "使用PyTorch可以很容易地计算出梯度。 由于我们的网络是PyTorch nn.Module，因此PyTorch在后台创建了一个计算图。 随着我们的张量流过我们的网络，所有计算都添加到图中。 然后，PyTorch使用计算图来计算损失函数相对于网络权重的梯度。\n",
        "\n",
        "在计算梯度之前，让我们验证一下conv1层内部当前没有梯度。 gradients是可在每一层的权重张量的grad（gradients的缩写）属性中访问的张量。\n"
      ]
    },
    {
      "cell_type": "code",
      "metadata": {
        "colab": {
          "base_uri": "https://localhost:8080/"
        },
        "id": "IIlpTJ4LHIXb",
        "outputId": "35fe1cd4-872a-43db-812a-cb2346afa7cc"
      },
      "source": [
        "print(network.conv1.weight.grad)"
      ],
      "execution_count": null,
      "outputs": [
        {
          "output_type": "stream",
          "text": [
            "None\n"
          ],
          "name": "stdout"
        }
      ]
    },
    {
      "cell_type": "markdown",
      "metadata": {
        "id": "1dNa2u1pIAoz"
      },
      "source": [
        "要计算梯度，我们在loss张量上调用backward（）方法，如下所示："
      ]
    },
    {
      "cell_type": "code",
      "metadata": {
        "id": "LlfsKLoaH7wM"
      },
      "source": [
        "loss.backward()"
      ],
      "execution_count": null,
      "outputs": []
    },
    {
      "cell_type": "markdown",
      "metadata": {
        "id": "0wn_3CCWIHMZ"
      },
      "source": [
        "现在，损失函数的梯度已存储在权重张量内部。"
      ]
    },
    {
      "cell_type": "code",
      "metadata": {
        "colab": {
          "base_uri": "https://localhost:8080/"
        },
        "id": "wsfcwAKOIDyb",
        "outputId": "c7155a7c-569e-4eb6-f94c-af6d0c57c90c"
      },
      "source": [
        "network.conv1.weight.grad.shape"
      ],
      "execution_count": null,
      "outputs": [
        {
          "output_type": "execute_result",
          "data": {
            "text/plain": [
              "torch.Size([6, 1, 5, 5])"
            ]
          },
          "metadata": {
            "tags": []
          },
          "execution_count": 17
        }
      ]
    },
    {
      "cell_type": "markdown",
      "metadata": {
        "id": "cKTvA-3-IQUC"
      },
      "source": [
        "**优化器使用这些梯度来更新各个权重**。 要创建优化器，我们使用torch.optim包，该包具有许多可以使用的优化算法实现。 我们将以Adam为例。"
      ]
    },
    {
      "cell_type": "markdown",
      "metadata": {
        "id": "xKSgnekCIWP7"
      },
      "source": [
        "### 更新权重\n",
        "---\n",
        "对于Adam类构造函数，我们传递网络参数（这是优化器访问梯度的方式），并且传递学习率。\n",
        "\n",
        "最后，我们要做的就是更新权重，就是告诉优化器使用梯度下降来逐步实现损失函数的最小值。"
      ]
    },
    {
      "cell_type": "code",
      "metadata": {
        "id": "ddAThLP7IMDb"
      },
      "source": [
        "import torch.optim as optim"
      ],
      "execution_count": null,
      "outputs": []
    },
    {
      "cell_type": "code",
      "metadata": {
        "id": "9s9AsZRqImc7"
      },
      "source": [
        "optimizer =optim.Adam(network.parameters(),lr = 0.01)\n",
        "optimizer.step()# 更新权重"
      ],
      "execution_count": null,
      "outputs": []
    },
    {
      "cell_type": "markdown",
      "metadata": {
        "id": "Q94CAWtAIzoy"
      },
      "source": [
        "调用step（）函数时，优化器将使用存储在网络参数中的梯度来更新权重。 这意味着如果我们再次通过网络传递同一批次，我们应该期望减少损失。 检查一下，我们可以看到确实是这样："
      ]
    },
    {
      "cell_type": "code",
      "metadata": {
        "colab": {
          "base_uri": "https://localhost:8080/"
        },
        "id": "b_t0RZ_tIvhr",
        "outputId": "a9a8e642-3f1b-4a74-bee8-f7e2d13ad37d"
      },
      "source": [
        "preds = network(images)"
      ],
      "execution_count": null,
      "outputs": [
        {
          "output_type": "stream",
          "text": [
            "input layer shape: torch.Size([100, 1, 28, 28])\n",
            "conv1 layer shape: torch.Size([100, 6, 24, 24])\n",
            "max_pool layer shape: torch.Size([100, 6, 12, 12])\n",
            "conv2 layer shape: torch.Size([100, 12, 8, 8])\n",
            "flatten layer shape: torch.Size([100, 192])\n",
            "linear1 layer shape: torch.Size([100, 120])\n",
            "linear2 layer shape: torch.Size([100, 60])\n",
            "out layer shape: torch.Size([100, 10])\n"
          ],
          "name": "stdout"
        }
      ]
    },
    {
      "cell_type": "code",
      "metadata": {
        "colab": {
          "base_uri": "https://localhost:8080/"
        },
        "id": "MPu3K_i7I4Qb",
        "outputId": "e513ef65-208b-4dfa-9781-578e43c1a007"
      },
      "source": [
        "loss.item()"
      ],
      "execution_count": null,
      "outputs": [
        {
          "output_type": "execute_result",
          "data": {
            "text/plain": [
              "2.301669120788574"
            ]
          },
          "metadata": {
            "tags": []
          },
          "execution_count": 26
        }
      ]
    },
    {
      "cell_type": "code",
      "metadata": {
        "colab": {
          "base_uri": "https://localhost:8080/"
        },
        "id": "yboUQB9jJL4s",
        "outputId": "9a3260fd-eec3-4027-c39d-e9f9c8c61b03"
      },
      "source": [
        "loss = F.cross_entropy(preds,labels)\n",
        "loss.item()"
      ],
      "execution_count": null,
      "outputs": [
        {
          "output_type": "execute_result",
          "data": {
            "text/plain": [
              "2.2768006324768066"
            ]
          },
          "metadata": {
            "tags": []
          },
          "execution_count": 28
        }
      ]
    },
    {
      "cell_type": "code",
      "metadata": {
        "colab": {
          "base_uri": "https://localhost:8080/"
        },
        "id": "-eWvLScRJPR8",
        "outputId": "ea7219b0-c53f-4b83-9aea-efbff6505eda"
      },
      "source": [
        "get_num_correct(preds,labels)"
      ],
      "execution_count": null,
      "outputs": [
        {
          "output_type": "execute_result",
          "data": {
            "text/plain": [
              "18"
            ]
          },
          "metadata": {
            "tags": []
          },
          "execution_count": 29
        }
      ]
    },
    {
      "cell_type": "markdown",
      "metadata": {
        "id": "QPSjU-bwJWU7"
      },
      "source": [
        "\n",
        "## 3.训练一批数据\n",
        "\n",
        "我们可以通过以下方式总结用于单批训练的代码："
      ]
    },
    {
      "cell_type": "code",
      "metadata": {
        "colab": {
          "base_uri": "https://localhost:8080/"
        },
        "id": "Qd0QAhjhJVDs",
        "outputId": "831becbf-7852-4dbf-d712-8595dce13775"
      },
      "source": [
        "network = Network()\n",
        "\n",
        "train_loader = torch.utils.data.DataLoader(train_set,batch_size=100)\n",
        "\n",
        "optimizer = optim.Adam(network.parameters(),lr=0.01)\n",
        "\n",
        "batch = next(iter(train_loader))\n",
        "images,labels = batch\n",
        "\n",
        "preds = network(images)\n",
        "loss = F.cross_entropy(preds,labels)\n",
        "\n",
        "loss.backward()\n",
        "optimizer.step()\n",
        "\n",
        "print('loss1:', loss.item())\n",
        "preds = network(images)\n",
        "loss = F.cross_entropy(preds, labels)\n",
        "print('loss2:', loss.item())"
      ],
      "execution_count": null,
      "outputs": [
        {
          "output_type": "stream",
          "text": [
            "input layer shape: torch.Size([100, 1, 28, 28])\n",
            "conv1 layer shape: torch.Size([100, 6, 24, 24])\n",
            "max_pool layer shape: torch.Size([100, 6, 12, 12])\n",
            "conv2 layer shape: torch.Size([100, 12, 8, 8])\n",
            "flatten layer shape: torch.Size([100, 192])\n",
            "linear1 layer shape: torch.Size([100, 120])\n",
            "linear2 layer shape: torch.Size([100, 60])\n",
            "out layer shape: torch.Size([100, 10])\n",
            "loss1: 2.309680700302124\n",
            "input layer shape: torch.Size([100, 1, 28, 28])\n",
            "conv1 layer shape: torch.Size([100, 6, 24, 24])\n",
            "max_pool layer shape: torch.Size([100, 6, 12, 12])\n",
            "conv2 layer shape: torch.Size([100, 12, 8, 8])\n",
            "flatten layer shape: torch.Size([100, 192])\n",
            "linear1 layer shape: torch.Size([100, 120])\n",
            "linear2 layer shape: torch.Size([100, 60])\n",
            "out layer shape: torch.Size([100, 10])\n",
            "loss2: 2.2806639671325684\n"
          ],
          "name": "stdout"
        }
      ]
    },
    {
      "cell_type": "markdown",
      "metadata": {
        "id": "GOg8uv9UKL9o"
      },
      "source": [
        "## 下一步是建立训练循环\n",
        "\n",
        "我们现在应该对训练过程有一个很好的了解。在下一集中，我们将看到如何通过构建训练循环来完成过程来扩展这些想法。下次见"
      ]
    },
    {
      "cell_type": "code",
      "metadata": {
        "id": "qTqUu-jfKHzc"
      },
      "source": [
        ""
      ],
      "execution_count": null,
      "outputs": []
    }
  ]
}